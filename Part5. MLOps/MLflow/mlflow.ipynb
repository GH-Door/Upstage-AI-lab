{
 "cells": [
  {
   "cell_type": "code",
   "execution_count": 1,
   "id": "5a14631f",
   "metadata": {},
   "outputs": [
    {
     "name": "stderr",
     "output_type": "stream",
     "text": [
      "2025/06/13 19:06:21 INFO mlflow.utils.autologging_utils: Created MLflow autologging run with ID 'b9a9a04816494cd0acaed2fc80b0b1db', which will track hyperparameters, performance metrics, model artifacts, and lineage information for the current sklearn workflow\n"
     ]
    },
    {
     "name": "stdout",
     "output_type": "stream",
     "text": [
      "🏃 View run silent-flea-739 at: http://localhost:5001/#/experiments/0/runs/b9a9a04816494cd0acaed2fc80b0b1db\n",
      "🧪 View experiment at: http://localhost:5001/#/experiments/0\n"
     ]
    }
   ],
   "source": [
    "import mlflow\n",
    "from sklearn.datasets import load_diabetes\n",
    "from sklearn.model_selection import train_test_split\n",
    "from sklearn.ensemble import RandomForestRegressor\n",
    "\n",
    "mlflow.set_tracking_uri(\"http://localhost:5001\")\n",
    "mlflow.sklearn.autolog()\n",
    "\n",
    "# Data load\n",
    "data_diabetes = load_diabetes()\n",
    "X_train, X_test, y_train, y_test = train_test_split(data_diabetes.data, data_diabetes.target)\n",
    "\n",
    "# Model\n",
    "reg = RandomForestRegressor(n_estimators=50, max_depth=10, max_features=5)\n",
    "reg.fit(X_train, y_train)\n",
    "\n",
    "# predict\n",
    "predictions = reg.predict(X_test)"
   ]
  },
  {
   "cell_type": "code",
   "execution_count": 2,
   "id": "5f7abe7d",
   "metadata": {},
   "outputs": [
    {
     "data": {
      "text/plain": [
       "array([ 96.29388668, 171.5995742 , 161.26444444, 102.54360231,\n",
       "       177.65078632, 135.45225239, 160.4964751 , 233.00684371,\n",
       "       199.34918376, 125.63803792, 167.17259524, 194.62896032,\n",
       "       226.13373449,  94.96988598,  88.98800069, 177.53029318,\n",
       "       120.01951082, 143.038     , 130.68651796, 256.55351462,\n",
       "       122.91710101, 188.87630951, 130.63002886, 126.19815984,\n",
       "       134.69673016, 158.40962573, 191.33848596, 191.26555556,\n",
       "       155.96047619, 171.77937918, 128.89732362, 205.48581746,\n",
       "        79.39483933, 226.96118498, 112.92629749, 140.83113131,\n",
       "       231.6788373 ,  78.19795159, 112.89580201,  90.44952065,\n",
       "       123.3527619 , 209.76005714, 184.57035043, 137.70122942,\n",
       "       153.01106349,  94.58147258, 144.3986014 , 213.47927778,\n",
       "       224.28112821, 212.23078816, 189.23876065,  93.79221053,\n",
       "       167.05590598, 185.66342371, 231.92555556, 178.63698052,\n",
       "       152.06866667, 185.81401709, 215.24888889, 186.37780952,\n",
       "        97.40621846, 229.08033333, 143.019114  ,  91.21460381,\n",
       "       100.14141472, 186.52482737, 240.24520274, 193.14164347,\n",
       "       193.12576009, 217.95      , 228.32337032,  80.87497055,\n",
       "       204.83571673,  98.69493828,  80.54568497, 183.33818459,\n",
       "       184.53391223, 219.70083333, 100.91371873, 141.69422222,\n",
       "       131.31481276, 139.01750816, 109.4955312 , 171.11162573,\n",
       "       107.63086209, 184.2780641 , 161.728     , 144.96658621,\n",
       "       182.73879798, 134.38339394, 126.0110112 , 240.99164286,\n",
       "       184.46653049, 107.83885365, 180.89986569, 122.24434055,\n",
       "       207.89861172, 170.08739573, 132.01935137, 167.70372222,\n",
       "       114.44858621, 110.16759192, 285.72838889, 102.11770513,\n",
       "       113.49288684, 190.57655069, 180.18391032,  89.5432201 ,\n",
       "        98.69533644, 118.34661544, 210.19266667])"
      ]
     },
     "execution_count": 2,
     "metadata": {},
     "output_type": "execute_result"
    }
   ],
   "source": [
    "predictions"
   ]
  },
  {
   "cell_type": "code",
   "execution_count": null,
   "id": "7918ebfa",
   "metadata": {},
   "outputs": [],
   "source": []
  }
 ],
 "metadata": {
  "kernelspec": {
   "display_name": "Study",
   "language": "python",
   "name": "python3"
  },
  "language_info": {
   "codemirror_mode": {
    "name": "ipython",
    "version": 3
   },
   "file_extension": ".py",
   "mimetype": "text/x-python",
   "name": "python",
   "nbconvert_exporter": "python",
   "pygments_lexer": "ipython3",
   "version": "3.9.21"
  }
 },
 "nbformat": 4,
 "nbformat_minor": 5
}
