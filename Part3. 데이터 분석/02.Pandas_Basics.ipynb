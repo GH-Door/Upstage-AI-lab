{
 "cells": [
  {
   "cell_type": "markdown",
   "metadata": {
    "id": "d6As2lTmXXg8"
   },
   "source": [
    "# Pandas"
   ]
  },
  {
   "cell_type": "markdown",
   "metadata": {
    "id": "hHdBBR0lXY_C"
   },
   "source": [
    "## 1. 데이터 셀렉션 및 필터링"
   ]
  },
  {
   "cell_type": "code",
   "execution_count": 1,
   "metadata": {
    "colab": {
     "base_uri": "https://localhost:8080/"
    },
    "executionInfo": {
     "elapsed": 10091,
     "status": "ok",
     "timestamp": 1727868580321,
     "user": {
      "displayName": "seungri soft",
      "userId": "02507643838407733197"
     },
     "user_tz": -540
    },
    "id": "aOatSYYeXghx",
    "outputId": "d37ff3df-2243-42ca-a2c4-257079c5ac0b"
   },
   "outputs": [
    {
     "name": "stdout",
     "output_type": "stream",
     "text": [
      "Requirement already satisfied: pandas in /Users/mungughyeon/miniforge3/envs/ds_study/lib/python3.8/site-packages (2.0.3)\n",
      "Requirement already satisfied: python-dateutil>=2.8.2 in /Users/mungughyeon/miniforge3/envs/ds_study/lib/python3.8/site-packages (from pandas) (2.9.0)\n",
      "Requirement already satisfied: pytz>=2020.1 in /Users/mungughyeon/miniforge3/envs/ds_study/lib/python3.8/site-packages (from pandas) (2024.1)\n",
      "Requirement already satisfied: tzdata>=2022.1 in /Users/mungughyeon/miniforge3/envs/ds_study/lib/python3.8/site-packages (from pandas) (2024.1)\n",
      "Requirement already satisfied: numpy>=1.20.3 in /Users/mungughyeon/miniforge3/envs/ds_study/lib/python3.8/site-packages (from pandas) (1.24.4)\n",
      "Requirement already satisfied: six>=1.5 in /Users/mungughyeon/miniforge3/envs/ds_study/lib/python3.8/site-packages (from python-dateutil>=2.8.2->pandas) (1.16.0)\n"
     ]
    }
   ],
   "source": [
    "!pip install pandas"
   ]
  },
  {
   "cell_type": "code",
   "execution_count": 2,
   "metadata": {
    "id": "fcCVwBXaXgfb"
   },
   "outputs": [],
   "source": [
    "import pandas as pd"
   ]
  },
  {
   "cell_type": "code",
   "execution_count": 3,
   "metadata": {
    "colab": {
     "base_uri": "https://localhost:8080/",
     "height": 35
    },
    "executionInfo": {
     "elapsed": 3,
     "status": "ok",
     "timestamp": 1727868594376,
     "user": {
      "displayName": "seungri soft",
      "userId": "02507643838407733197"
     },
     "user_tz": -540
    },
    "id": "0XV7OYg4Xgcf",
    "outputId": "650161ed-8726-421d-aeb2-c6f74da17273"
   },
   "outputs": [
    {
     "data": {
      "text/plain": [
       "'2.0.3'"
      ]
     },
     "execution_count": 3,
     "metadata": {},
     "output_type": "execute_result"
    }
   ],
   "source": [
    "pd.__version__"
   ]
  },
  {
   "cell_type": "markdown",
   "metadata": {
    "id": "bvLuGLDBYAGk"
   },
   "source": [
    "### Series\n",
    "- 1개의 컬럼값으로 구성된 1차원 데이터 셋"
   ]
  },
  {
   "cell_type": "code",
   "execution_count": 4,
   "metadata": {
    "colab": {
     "base_uri": "https://localhost:8080/",
     "height": 241
    },
    "executionInfo": {
     "elapsed": 754,
     "status": "ok",
     "timestamp": 1727868634885,
     "user": {
      "displayName": "seungri soft",
      "userId": "02507643838407733197"
     },
     "user_tz": -540
    },
    "id": "0cNidzLzXgZP",
    "outputId": "f825ff38-4507-454b-f067-0996b7c1aa13"
   },
   "outputs": [
    {
     "data": {
      "text/plain": [
       "0    A\n",
       "1    B\n",
       "2    C\n",
       "3    D\n",
       "4    E\n",
       "dtype: object"
      ]
     },
     "execution_count": 4,
     "metadata": {},
     "output_type": "execute_result"
    }
   ],
   "source": [
    "data = [\"A\", \"B\", \"C\", \"D\", \"E\"] # 컬럼\n",
    "\n",
    "se = pd.Series(data)\n",
    "se"
   ]
  },
  {
   "cell_type": "code",
   "execution_count": 5,
   "metadata": {
    "colab": {
     "base_uri": "https://localhost:8080/"
    },
    "executionInfo": {
     "elapsed": 343,
     "status": "ok",
     "timestamp": 1727868666228,
     "user": {
      "displayName": "seungri soft",
      "userId": "02507643838407733197"
     },
     "user_tz": -540
    },
    "id": "mLRTss9CbfUL",
    "outputId": "c6ddeae7-89f5-42b1-a896-bdb3a588c108"
   },
   "outputs": [
    {
     "data": {
      "text/plain": [
       "array(['A', 'B', 'C', 'D', 'E'], dtype=object)"
      ]
     },
     "execution_count": 5,
     "metadata": {},
     "output_type": "execute_result"
    }
   ],
   "source": [
    "se.index\n",
    "se.values"
   ]
  },
  {
   "cell_type": "code",
   "execution_count": 6,
   "metadata": {
    "colab": {
     "base_uri": "https://localhost:8080/",
     "height": 178
    },
    "executionInfo": {
     "elapsed": 636,
     "status": "ok",
     "timestamp": 1727868693860,
     "user": {
      "displayName": "seungri soft",
      "userId": "02507643838407733197"
     },
     "user_tz": -540
    },
    "id": "MyMjYgXRbjU9",
    "outputId": "532872e9-f938-464c-fdcc-0c2b80e374da"
   },
   "outputs": [
    {
     "data": {
      "text/plain": [
       "0    A\n",
       "1    B\n",
       "2    C\n",
       "dtype: object"
      ]
     },
     "execution_count": 6,
     "metadata": {},
     "output_type": "execute_result"
    }
   ],
   "source": [
    "se[0] # indexing -> A\n",
    "se[:3] # slicing"
   ]
  },
  {
   "cell_type": "code",
   "execution_count": 7,
   "metadata": {
    "colab": {
     "base_uri": "https://localhost:8080/",
     "height": 272
    },
    "executionInfo": {
     "elapsed": 3,
     "status": "ok",
     "timestamp": 1727868724998,
     "user": {
      "displayName": "seungri soft",
      "userId": "02507643838407733197"
     },
     "user_tz": -540
    },
    "id": "HVZzDnz-bkHN",
    "outputId": "8c589daa-1d0b-4e83-d81b-eecbf598c339"
   },
   "outputs": [
    {
     "data": {
      "text/plain": [
       "No.\n",
       "0    A\n",
       "1    B\n",
       "2    C\n",
       "3    D\n",
       "4    E\n",
       "Name: alphabet, dtype: object"
      ]
     },
     "execution_count": 7,
     "metadata": {},
     "output_type": "execute_result"
    }
   ],
   "source": [
    "se.name = \"alphabet\" # series 이름\n",
    "se.index.name = \"No.\" # index 이름\n",
    "\n",
    "se"
   ]
  },
  {
   "cell_type": "markdown",
   "metadata": {
    "id": "A9yH6KiybT3T"
   },
   "source": [
    "## 2. 데이터 셀렉션"
   ]
  },
  {
   "cell_type": "code",
   "execution_count": 8,
   "metadata": {
    "colab": {
     "base_uri": "https://localhost:8080/",
     "height": 175
    },
    "executionInfo": {
     "elapsed": 438,
     "status": "ok",
     "timestamp": 1727868796066,
     "user": {
      "displayName": "seungri soft",
      "userId": "02507643838407733197"
     },
     "user_tz": -540
    },
    "id": "ZpyuV61KbcpN",
    "outputId": "671220ad-cb99-41c9-d50b-f66415d49145"
   },
   "outputs": [
    {
     "data": {
      "text/html": [
       "<div>\n",
       "<style scoped>\n",
       "    .dataframe tbody tr th:only-of-type {\n",
       "        vertical-align: middle;\n",
       "    }\n",
       "\n",
       "    .dataframe tbody tr th {\n",
       "        vertical-align: top;\n",
       "    }\n",
       "\n",
       "    .dataframe thead th {\n",
       "        text-align: right;\n",
       "    }\n",
       "</style>\n",
       "<table border=\"1\" class=\"dataframe\">\n",
       "  <thead>\n",
       "    <tr style=\"text-align: right;\">\n",
       "      <th></th>\n",
       "      <th>country</th>\n",
       "      <th>rank</th>\n",
       "      <th>grade</th>\n",
       "    </tr>\n",
       "  </thead>\n",
       "  <tbody>\n",
       "    <tr>\n",
       "      <th>0</th>\n",
       "      <td>kor</td>\n",
       "      <td>1</td>\n",
       "      <td>A</td>\n",
       "    </tr>\n",
       "    <tr>\n",
       "      <th>1</th>\n",
       "      <td>usa</td>\n",
       "      <td>2</td>\n",
       "      <td>B</td>\n",
       "    </tr>\n",
       "    <tr>\n",
       "      <th>2</th>\n",
       "      <td>china</td>\n",
       "      <td>3</td>\n",
       "      <td>C</td>\n",
       "    </tr>\n",
       "    <tr>\n",
       "      <th>3</th>\n",
       "      <td>japan</td>\n",
       "      <td>4</td>\n",
       "      <td>D</td>\n",
       "    </tr>\n",
       "  </tbody>\n",
       "</table>\n",
       "</div>"
      ],
      "text/plain": [
       "  country  rank grade\n",
       "0     kor     1     A\n",
       "1     usa     2     B\n",
       "2   china     3     C\n",
       "3   japan     4     D"
      ]
     },
     "execution_count": 8,
     "metadata": {},
     "output_type": "execute_result"
    }
   ],
   "source": [
    "data = {\n",
    "    'country' : [\"kor\", \"usa\", \"china\", \"japan\"],\n",
    "    'rank' : [1,2,3,4],\n",
    "    'grade' : [\"A\", \"B\", \"C\", \"D\"],}\n",
    "\n",
    "df = pd.DataFrame(data)\n",
    "df"
   ]
  },
  {
   "cell_type": "code",
   "execution_count": 9,
   "metadata": {
    "colab": {
     "base_uri": "https://localhost:8080/",
     "height": 175
    },
    "executionInfo": {
     "elapsed": 316,
     "status": "ok",
     "timestamp": 1727868939918,
     "user": {
      "displayName": "seungri soft",
      "userId": "02507643838407733197"
     },
     "user_tz": -540
    },
    "id": "-uTJakFibmED",
    "outputId": "f253df0a-810c-48fe-eb6b-eed80ef3bafb"
   },
   "outputs": [
    {
     "data": {
      "text/html": [
       "<div>\n",
       "<style scoped>\n",
       "    .dataframe tbody tr th:only-of-type {\n",
       "        vertical-align: middle;\n",
       "    }\n",
       "\n",
       "    .dataframe tbody tr th {\n",
       "        vertical-align: top;\n",
       "    }\n",
       "\n",
       "    .dataframe thead th {\n",
       "        text-align: right;\n",
       "    }\n",
       "</style>\n",
       "<table border=\"1\" class=\"dataframe\">\n",
       "  <thead>\n",
       "    <tr style=\"text-align: right;\">\n",
       "      <th></th>\n",
       "      <th>country</th>\n",
       "      <th>rank</th>\n",
       "    </tr>\n",
       "  </thead>\n",
       "  <tbody>\n",
       "    <tr>\n",
       "      <th>0</th>\n",
       "      <td>kor</td>\n",
       "      <td>1</td>\n",
       "    </tr>\n",
       "    <tr>\n",
       "      <th>1</th>\n",
       "      <td>usa</td>\n",
       "      <td>2</td>\n",
       "    </tr>\n",
       "    <tr>\n",
       "      <th>2</th>\n",
       "      <td>china</td>\n",
       "      <td>3</td>\n",
       "    </tr>\n",
       "    <tr>\n",
       "      <th>3</th>\n",
       "      <td>japan</td>\n",
       "      <td>4</td>\n",
       "    </tr>\n",
       "  </tbody>\n",
       "</table>\n",
       "</div>"
      ],
      "text/plain": [
       "  country  rank\n",
       "0     kor     1\n",
       "1     usa     2\n",
       "2   china     3\n",
       "3   japan     4"
      ]
     },
     "execution_count": 9,
     "metadata": {},
     "output_type": "execute_result"
    }
   ],
   "source": [
    "# (1) df.컬럼, df['컬럼']\n",
    "\n",
    "df.country\n",
    "df['country']\n",
    "\n",
    "# columns = ['country', 'rank', 'grade']\n",
    "\n",
    "test_column1 = ['country', 'rank']\n",
    "# test_column2 = ['country', 'grade']\n",
    "# test_column3 = ['rank', 'grade']\n",
    "\n",
    "df[test_column1]"
   ]
  },
  {
   "cell_type": "code",
   "execution_count": 10,
   "metadata": {
    "colab": {
     "base_uri": "https://localhost:8080/"
    },
    "executionInfo": {
     "elapsed": 1101,
     "status": "ok",
     "timestamp": 1680754167223,
     "user": {
      "displayName": "seungri soft",
      "userId": "02507643838407733197"
     },
     "user_tz": -540
    },
    "id": "3riZtID1bvfi",
    "outputId": "cb9494f9-2e8b-4ee3-f883-31b3cfe052d0"
   },
   "outputs": [
    {
     "name": "stdout",
     "output_type": "stream",
     "text": [
      "  country  rank grade\n",
      "0     kor     1     A\n",
      "1     usa     2     B\n",
      "2   china     3     C\n",
      "3   japan     4     D\n",
      "=========\n"
     ]
    },
    {
     "data": {
      "text/html": [
       "<div>\n",
       "<style scoped>\n",
       "    .dataframe tbody tr th:only-of-type {\n",
       "        vertical-align: middle;\n",
       "    }\n",
       "\n",
       "    .dataframe tbody tr th {\n",
       "        vertical-align: top;\n",
       "    }\n",
       "\n",
       "    .dataframe thead th {\n",
       "        text-align: right;\n",
       "    }\n",
       "</style>\n",
       "<table border=\"1\" class=\"dataframe\">\n",
       "  <thead>\n",
       "    <tr style=\"text-align: right;\">\n",
       "      <th></th>\n",
       "      <th>country</th>\n",
       "      <th>rank</th>\n",
       "    </tr>\n",
       "  </thead>\n",
       "  <tbody>\n",
       "    <tr>\n",
       "      <th>3</th>\n",
       "      <td>japan</td>\n",
       "      <td>4</td>\n",
       "    </tr>\n",
       "  </tbody>\n",
       "</table>\n",
       "</div>"
      ],
      "text/plain": [
       "  country  rank\n",
       "3   japan     4"
      ]
     },
     "execution_count": 10,
     "metadata": {},
     "output_type": "execute_result"
    }
   ],
   "source": [
    "# (2) df.loc[인덱스명, 컬럼명]\n",
    "print(df)\n",
    "print(\"=========\")\n",
    "\n",
    "df.loc[2, ['country', 'rank']]\n",
    "df.loc[0, 'rank']\n",
    "df.loc[:, ['country','rank']]\n",
    "df.loc[df['rank'] > 3, ['country','rank']]"
   ]
  },
  {
   "cell_type": "code",
   "execution_count": 11,
   "metadata": {
    "colab": {
     "base_uri": "https://localhost:8080/",
     "height": 143
    },
    "executionInfo": {
     "elapsed": 337,
     "status": "ok",
     "timestamp": 1727869153837,
     "user": {
      "displayName": "seungri soft",
      "userId": "02507643838407733197"
     },
     "user_tz": -540
    },
    "id": "DNy3NWT2BMXH",
    "outputId": "1a6cb8fc-8b37-4bee-fe40-8a90c4426fba"
   },
   "outputs": [
    {
     "data": {
      "text/html": [
       "<div>\n",
       "<style scoped>\n",
       "    .dataframe tbody tr th:only-of-type {\n",
       "        vertical-align: middle;\n",
       "    }\n",
       "\n",
       "    .dataframe tbody tr th {\n",
       "        vertical-align: top;\n",
       "    }\n",
       "\n",
       "    .dataframe thead th {\n",
       "        text-align: right;\n",
       "    }\n",
       "</style>\n",
       "<table border=\"1\" class=\"dataframe\">\n",
       "  <thead>\n",
       "    <tr style=\"text-align: right;\">\n",
       "      <th></th>\n",
       "      <th>rank</th>\n",
       "      <th>country</th>\n",
       "    </tr>\n",
       "  </thead>\n",
       "  <tbody>\n",
       "    <tr>\n",
       "      <th>0</th>\n",
       "      <td>1</td>\n",
       "      <td>kor</td>\n",
       "    </tr>\n",
       "    <tr>\n",
       "      <th>1</th>\n",
       "      <td>2</td>\n",
       "      <td>usa</td>\n",
       "    </tr>\n",
       "    <tr>\n",
       "      <th>2</th>\n",
       "      <td>3</td>\n",
       "      <td>china</td>\n",
       "    </tr>\n",
       "  </tbody>\n",
       "</table>\n",
       "</div>"
      ],
      "text/plain": [
       "   rank country\n",
       "0     1     kor\n",
       "1     2     usa\n",
       "2     3   china"
      ]
     },
     "execution_count": 11,
     "metadata": {},
     "output_type": "execute_result"
    }
   ],
   "source": [
    "# loc[인덱스값, 컬럼명]\n",
    "df.loc[0:2, ['rank', 'country']]"
   ]
  },
  {
   "cell_type": "code",
   "execution_count": 12,
   "metadata": {
    "colab": {
     "base_uri": "https://localhost:8080/",
     "height": 175
    },
    "executionInfo": {
     "elapsed": 450,
     "status": "ok",
     "timestamp": 1680754629822,
     "user": {
      "displayName": "seungri soft",
      "userId": "02507643838407733197"
     },
     "user_tz": -540
    },
    "id": "b3cIC5PvxP0N",
    "outputId": "6872479d-ce91-47b9-a27a-2ea04ccc61a8"
   },
   "outputs": [
    {
     "data": {
      "text/html": [
       "<div>\n",
       "<style scoped>\n",
       "    .dataframe tbody tr th:only-of-type {\n",
       "        vertical-align: middle;\n",
       "    }\n",
       "\n",
       "    .dataframe tbody tr th {\n",
       "        vertical-align: top;\n",
       "    }\n",
       "\n",
       "    .dataframe thead th {\n",
       "        text-align: right;\n",
       "    }\n",
       "</style>\n",
       "<table border=\"1\" class=\"dataframe\">\n",
       "  <thead>\n",
       "    <tr style=\"text-align: right;\">\n",
       "      <th></th>\n",
       "      <th>country</th>\n",
       "      <th>rank</th>\n",
       "      <th>grade</th>\n",
       "    </tr>\n",
       "  </thead>\n",
       "  <tbody>\n",
       "    <tr>\n",
       "      <th>0</th>\n",
       "      <td>kor</td>\n",
       "      <td>1</td>\n",
       "      <td>A</td>\n",
       "    </tr>\n",
       "    <tr>\n",
       "      <th>1</th>\n",
       "      <td>usa</td>\n",
       "      <td>2</td>\n",
       "      <td>B</td>\n",
       "    </tr>\n",
       "    <tr>\n",
       "      <th>2</th>\n",
       "      <td>china</td>\n",
       "      <td>3</td>\n",
       "      <td>C</td>\n",
       "    </tr>\n",
       "    <tr>\n",
       "      <th>3</th>\n",
       "      <td>japan</td>\n",
       "      <td>4</td>\n",
       "      <td>D</td>\n",
       "    </tr>\n",
       "  </tbody>\n",
       "</table>\n",
       "</div>"
      ],
      "text/plain": [
       "  country  rank grade\n",
       "0     kor     1     A\n",
       "1     usa     2     B\n",
       "2   china     3     C\n",
       "3   japan     4     D"
      ]
     },
     "execution_count": 12,
     "metadata": {},
     "output_type": "execute_result"
    }
   ],
   "source": [
    "# (3) iloc[인덱스, 컬럼인덱스] => 위치(location) 기반\n",
    "\n",
    "df.loc[0] # 인덱스 이름이 0인 녀석\n",
    "df.iloc[0] # 인덱스 값이 0인 녀석\n",
    "# df.iloc[:, :]\n",
    "df"
   ]
  },
  {
   "cell_type": "code",
   "execution_count": 13,
   "metadata": {
    "colab": {
     "base_uri": "https://localhost:8080/",
     "height": 175
    },
    "executionInfo": {
     "elapsed": 1322,
     "status": "ok",
     "timestamp": 1680754642184,
     "user": {
      "displayName": "seungri soft",
      "userId": "02507643838407733197"
     },
     "user_tz": -540
    },
    "id": "jf5t8n4_x044",
    "outputId": "927ae045-89b4-4b24-974a-1d4558303dec"
   },
   "outputs": [
    {
     "data": {
      "text/html": [
       "<div>\n",
       "<style scoped>\n",
       "    .dataframe tbody tr th:only-of-type {\n",
       "        vertical-align: middle;\n",
       "    }\n",
       "\n",
       "    .dataframe tbody tr th {\n",
       "        vertical-align: top;\n",
       "    }\n",
       "\n",
       "    .dataframe thead th {\n",
       "        text-align: right;\n",
       "    }\n",
       "</style>\n",
       "<table border=\"1\" class=\"dataframe\">\n",
       "  <thead>\n",
       "    <tr style=\"text-align: right;\">\n",
       "      <th></th>\n",
       "      <th>country</th>\n",
       "      <th>rank</th>\n",
       "      <th>grade</th>\n",
       "    </tr>\n",
       "  </thead>\n",
       "  <tbody>\n",
       "    <tr>\n",
       "      <th>0</th>\n",
       "      <td>kor</td>\n",
       "      <td>1</td>\n",
       "      <td>A</td>\n",
       "    </tr>\n",
       "    <tr>\n",
       "      <th>1</th>\n",
       "      <td>usa</td>\n",
       "      <td>2</td>\n",
       "      <td>B</td>\n",
       "    </tr>\n",
       "    <tr>\n",
       "      <th>2</th>\n",
       "      <td>china</td>\n",
       "      <td>3</td>\n",
       "      <td>C</td>\n",
       "    </tr>\n",
       "    <tr>\n",
       "      <th>3</th>\n",
       "      <td>japan</td>\n",
       "      <td>4</td>\n",
       "      <td>D</td>\n",
       "    </tr>\n",
       "  </tbody>\n",
       "</table>\n",
       "</div>"
      ],
      "text/plain": [
       "  country  rank grade\n",
       "0     kor     1     A\n",
       "1     usa     2     B\n",
       "2   china     3     C\n",
       "3   japan     4     D"
      ]
     },
     "execution_count": 13,
     "metadata": {},
     "output_type": "execute_result"
    }
   ],
   "source": [
    "df.loc[0:3] # 범위가 아니라 인덱스 값을 기반으로 가져온다."
   ]
  },
  {
   "cell_type": "code",
   "execution_count": 14,
   "metadata": {
    "colab": {
     "base_uri": "https://localhost:8080/",
     "height": 143
    },
    "executionInfo": {
     "elapsed": 974,
     "status": "ok",
     "timestamp": 1680754785020,
     "user": {
      "displayName": "seungri soft",
      "userId": "02507643838407733197"
     },
     "user_tz": -540
    },
    "id": "8bzKhOxRx2up",
    "outputId": "82b1812f-906e-4fdb-adc9-63b75e21dd81"
   },
   "outputs": [
    {
     "data": {
      "text/html": [
       "<div>\n",
       "<style scoped>\n",
       "    .dataframe tbody tr th:only-of-type {\n",
       "        vertical-align: middle;\n",
       "    }\n",
       "\n",
       "    .dataframe tbody tr th {\n",
       "        vertical-align: top;\n",
       "    }\n",
       "\n",
       "    .dataframe thead th {\n",
       "        text-align: right;\n",
       "    }\n",
       "</style>\n",
       "<table border=\"1\" class=\"dataframe\">\n",
       "  <thead>\n",
       "    <tr style=\"text-align: right;\">\n",
       "      <th></th>\n",
       "      <th>country</th>\n",
       "      <th>rank</th>\n",
       "      <th>grade</th>\n",
       "    </tr>\n",
       "  </thead>\n",
       "  <tbody>\n",
       "    <tr>\n",
       "      <th>0</th>\n",
       "      <td>kor</td>\n",
       "      <td>1</td>\n",
       "      <td>A</td>\n",
       "    </tr>\n",
       "    <tr>\n",
       "      <th>1</th>\n",
       "      <td>usa</td>\n",
       "      <td>2</td>\n",
       "      <td>B</td>\n",
       "    </tr>\n",
       "    <tr>\n",
       "      <th>2</th>\n",
       "      <td>china</td>\n",
       "      <td>3</td>\n",
       "      <td>C</td>\n",
       "    </tr>\n",
       "  </tbody>\n",
       "</table>\n",
       "</div>"
      ],
      "text/plain": [
       "  country  rank grade\n",
       "0     kor     1     A\n",
       "1     usa     2     B\n",
       "2   china     3     C"
      ]
     },
     "execution_count": 14,
     "metadata": {},
     "output_type": "execute_result"
    }
   ],
   "source": [
    "df.iloc[0:3, :]"
   ]
  },
  {
   "cell_type": "code",
   "execution_count": 15,
   "metadata": {
    "id": "5QhDtQxg4gGF"
   },
   "outputs": [
    {
     "data": {
      "text/html": [
       "<div>\n",
       "<style scoped>\n",
       "    .dataframe tbody tr th:only-of-type {\n",
       "        vertical-align: middle;\n",
       "    }\n",
       "\n",
       "    .dataframe tbody tr th {\n",
       "        vertical-align: top;\n",
       "    }\n",
       "\n",
       "    .dataframe thead th {\n",
       "        text-align: right;\n",
       "    }\n",
       "</style>\n",
       "<table border=\"1\" class=\"dataframe\">\n",
       "  <thead>\n",
       "    <tr style=\"text-align: right;\">\n",
       "      <th></th>\n",
       "      <th>country</th>\n",
       "      <th>rank</th>\n",
       "      <th>grade</th>\n",
       "    </tr>\n",
       "  </thead>\n",
       "  <tbody>\n",
       "  </tbody>\n",
       "</table>\n",
       "</div>"
      ],
      "text/plain": [
       "Empty DataFrame\n",
       "Columns: [country, rank, grade]\n",
       "Index: []"
      ]
     },
     "execution_count": 15,
     "metadata": {},
     "output_type": "execute_result"
    }
   ],
   "source": [
    "# boolean indexing\n",
    "# df[(df['rank'] >= 3) | (df['country'] == 'kor')] # | 또는\n",
    "df[(df['rank'] >= 3) & (df['country'] == 'kor')] # & 그리고"
   ]
  },
  {
   "cell_type": "markdown",
   "metadata": {
    "id": "vNeKBAWdyx9l"
   },
   "source": [
    "filter()를 이용한 검색"
   ]
  },
  {
   "cell_type": "code",
   "execution_count": 16,
   "metadata": {
    "colab": {
     "base_uri": "https://localhost:8080/",
     "height": 49
    },
    "executionInfo": {
     "elapsed": 677,
     "status": "ok",
     "timestamp": 1680755138432,
     "user": {
      "displayName": "seungri soft",
      "userId": "02507643838407733197"
     },
     "user_tz": -540
    },
    "id": "jiVJwoDWyLsK",
    "outputId": "6dba5757-679d-4544-b1d1-76b8d42b382a"
   },
   "outputs": [
    {
     "data": {
      "text/html": [
       "<div>\n",
       "<style scoped>\n",
       "    .dataframe tbody tr th:only-of-type {\n",
       "        vertical-align: middle;\n",
       "    }\n",
       "\n",
       "    .dataframe tbody tr th {\n",
       "        vertical-align: top;\n",
       "    }\n",
       "\n",
       "    .dataframe thead th {\n",
       "        text-align: right;\n",
       "    }\n",
       "</style>\n",
       "<table border=\"1\" class=\"dataframe\">\n",
       "  <thead>\n",
       "    <tr style=\"text-align: right;\">\n",
       "      <th></th>\n",
       "      <th>country</th>\n",
       "      <th>rank</th>\n",
       "      <th>grade</th>\n",
       "    </tr>\n",
       "  </thead>\n",
       "  <tbody>\n",
       "  </tbody>\n",
       "</table>\n",
       "</div>"
      ],
      "text/plain": [
       "Empty DataFrame\n",
       "Columns: [country, rank, grade]\n",
       "Index: []"
      ]
     },
     "execution_count": 16,
     "metadata": {},
     "output_type": "execute_result"
    }
   ],
   "source": [
    "# df.filter(like = 'a', axis=1) # axis=1 -> 컬럼명을 기준으로 c가 포함된 것을 출력해줘.\n",
    "df.filter(like = 'a', axis=0) # axis=0 -> 인덱스를 기준으로 a가 포함된 것을 출력해줘."
   ]
  },
  {
   "cell_type": "markdown",
   "metadata": {
    "id": "6ii_sToz0Gmv"
   },
   "source": [
    "### 데이터를 추가하거나 삭제하는 방법"
   ]
  },
  {
   "cell_type": "code",
   "execution_count": 17,
   "metadata": {
    "colab": {
     "base_uri": "https://localhost:8080/",
     "height": 175
    },
    "executionInfo": {
     "elapsed": 736,
     "status": "ok",
     "timestamp": 1680755219641,
     "user": {
      "displayName": "seungri soft",
      "userId": "02507643838407733197"
     },
     "user_tz": -540
    },
    "id": "CBrzbyeU0Cg6",
    "outputId": "2c610f54-2853-4b19-c0f7-ea6e2528563c"
   },
   "outputs": [
    {
     "data": {
      "text/html": [
       "<div>\n",
       "<style scoped>\n",
       "    .dataframe tbody tr th:only-of-type {\n",
       "        vertical-align: middle;\n",
       "    }\n",
       "\n",
       "    .dataframe tbody tr th {\n",
       "        vertical-align: top;\n",
       "    }\n",
       "\n",
       "    .dataframe thead th {\n",
       "        text-align: right;\n",
       "    }\n",
       "</style>\n",
       "<table border=\"1\" class=\"dataframe\">\n",
       "  <thead>\n",
       "    <tr style=\"text-align: right;\">\n",
       "      <th></th>\n",
       "      <th>country</th>\n",
       "      <th>rank</th>\n",
       "      <th>grade</th>\n",
       "    </tr>\n",
       "  </thead>\n",
       "  <tbody>\n",
       "    <tr>\n",
       "      <th>0</th>\n",
       "      <td>kor</td>\n",
       "      <td>1</td>\n",
       "      <td>A</td>\n",
       "    </tr>\n",
       "    <tr>\n",
       "      <th>1</th>\n",
       "      <td>usa</td>\n",
       "      <td>2</td>\n",
       "      <td>B</td>\n",
       "    </tr>\n",
       "    <tr>\n",
       "      <th>2</th>\n",
       "      <td>china</td>\n",
       "      <td>3</td>\n",
       "      <td>C</td>\n",
       "    </tr>\n",
       "    <tr>\n",
       "      <th>3</th>\n",
       "      <td>japan</td>\n",
       "      <td>4</td>\n",
       "      <td>D</td>\n",
       "    </tr>\n",
       "  </tbody>\n",
       "</table>\n",
       "</div>"
      ],
      "text/plain": [
       "  country  rank grade\n",
       "0     kor     1     A\n",
       "1     usa     2     B\n",
       "2   china     3     C\n",
       "3   japan     4     D"
      ]
     },
     "execution_count": 17,
     "metadata": {},
     "output_type": "execute_result"
    }
   ],
   "source": [
    "data = {\n",
    "    'country' : [\"kor\", \"usa\", \"china\", \"japan\"],\n",
    "    'rank' : [1,2,3,4],\n",
    "    'grade' : [\"A\", \"B\", \"C\", \"D\"],}\n",
    "\n",
    "df = pd.DataFrame(data)\n",
    "df"
   ]
  },
  {
   "cell_type": "code",
   "execution_count": 18,
   "metadata": {
    "colab": {
     "base_uri": "https://localhost:8080/",
     "height": 175
    },
    "executionInfo": {
     "elapsed": 1101,
     "status": "ok",
     "timestamp": 1680755338057,
     "user": {
      "displayName": "seungri soft",
      "userId": "02507643838407733197"
     },
     "user_tz": -540
    },
    "id": "gaQcxIHRy8rd",
    "outputId": "e98fc3c6-79c8-46a2-97a7-69373d700c8e"
   },
   "outputs": [
    {
     "data": {
      "text/html": [
       "<div>\n",
       "<style scoped>\n",
       "    .dataframe tbody tr th:only-of-type {\n",
       "        vertical-align: middle;\n",
       "    }\n",
       "\n",
       "    .dataframe tbody tr th {\n",
       "        vertical-align: top;\n",
       "    }\n",
       "\n",
       "    .dataframe thead th {\n",
       "        text-align: right;\n",
       "    }\n",
       "</style>\n",
       "<table border=\"1\" class=\"dataframe\">\n",
       "  <thead>\n",
       "    <tr style=\"text-align: right;\">\n",
       "      <th></th>\n",
       "      <th>country</th>\n",
       "      <th>rank</th>\n",
       "      <th>grade</th>\n",
       "      <th>president</th>\n",
       "    </tr>\n",
       "  </thead>\n",
       "  <tbody>\n",
       "    <tr>\n",
       "      <th>0</th>\n",
       "      <td>kor</td>\n",
       "      <td>1</td>\n",
       "      <td>A</td>\n",
       "      <td>yoon</td>\n",
       "    </tr>\n",
       "    <tr>\n",
       "      <th>1</th>\n",
       "      <td>usa</td>\n",
       "      <td>2</td>\n",
       "      <td>B</td>\n",
       "      <td>biden</td>\n",
       "    </tr>\n",
       "    <tr>\n",
       "      <th>2</th>\n",
       "      <td>china</td>\n",
       "      <td>3</td>\n",
       "      <td>C</td>\n",
       "      <td>jinping</td>\n",
       "    </tr>\n",
       "    <tr>\n",
       "      <th>3</th>\n",
       "      <td>japan</td>\n",
       "      <td>4</td>\n",
       "      <td>D</td>\n",
       "      <td>kishida</td>\n",
       "    </tr>\n",
       "  </tbody>\n",
       "</table>\n",
       "</div>"
      ],
      "text/plain": [
       "  country  rank grade president\n",
       "0     kor     1     A      yoon\n",
       "1     usa     2     B     biden\n",
       "2   china     3     C   jinping\n",
       "3   japan     4     D   kishida"
      ]
     },
     "execution_count": 18,
     "metadata": {},
     "output_type": "execute_result"
    }
   ],
   "source": [
    "president = pd.Series([\"yoon\", \"biden\", \"jinping\", \"kishida\"])\n",
    "president\n",
    "\n",
    "df['president'] = president\n",
    "df"
   ]
  },
  {
   "cell_type": "code",
   "execution_count": 19,
   "metadata": {
    "colab": {
     "base_uri": "https://localhost:8080/",
     "height": 175
    },
    "executionInfo": {
     "elapsed": 7,
     "status": "ok",
     "timestamp": 1680755422979,
     "user": {
      "displayName": "seungri soft",
      "userId": "02507643838407733197"
     },
     "user_tz": -540
    },
    "id": "3K0suYeT0d-O",
    "outputId": "98d7e42b-9e6d-46c9-b8d2-803084375c7f"
   },
   "outputs": [
    {
     "data": {
      "text/html": [
       "<div>\n",
       "<style scoped>\n",
       "    .dataframe tbody tr th:only-of-type {\n",
       "        vertical-align: middle;\n",
       "    }\n",
       "\n",
       "    .dataframe tbody tr th {\n",
       "        vertical-align: top;\n",
       "    }\n",
       "\n",
       "    .dataframe thead th {\n",
       "        text-align: right;\n",
       "    }\n",
       "</style>\n",
       "<table border=\"1\" class=\"dataframe\">\n",
       "  <thead>\n",
       "    <tr style=\"text-align: right;\">\n",
       "      <th></th>\n",
       "      <th>country</th>\n",
       "      <th>rank</th>\n",
       "      <th>grade</th>\n",
       "      <th>president</th>\n",
       "      <th>gdp</th>\n",
       "    </tr>\n",
       "  </thead>\n",
       "  <tbody>\n",
       "    <tr>\n",
       "      <th>0</th>\n",
       "      <td>kor</td>\n",
       "      <td>1</td>\n",
       "      <td>A</td>\n",
       "      <td>yoon</td>\n",
       "      <td>1000</td>\n",
       "    </tr>\n",
       "    <tr>\n",
       "      <th>1</th>\n",
       "      <td>usa</td>\n",
       "      <td>2</td>\n",
       "      <td>B</td>\n",
       "      <td>biden</td>\n",
       "      <td>2000</td>\n",
       "    </tr>\n",
       "    <tr>\n",
       "      <th>2</th>\n",
       "      <td>china</td>\n",
       "      <td>3</td>\n",
       "      <td>C</td>\n",
       "      <td>jinping</td>\n",
       "      <td>3000</td>\n",
       "    </tr>\n",
       "    <tr>\n",
       "      <th>3</th>\n",
       "      <td>japan</td>\n",
       "      <td>4</td>\n",
       "      <td>D</td>\n",
       "      <td>kishida</td>\n",
       "      <td>4000</td>\n",
       "    </tr>\n",
       "  </tbody>\n",
       "</table>\n",
       "</div>"
      ],
      "text/plain": [
       "  country  rank grade president   gdp\n",
       "0     kor     1     A      yoon  1000\n",
       "1     usa     2     B     biden  2000\n",
       "2   china     3     C   jinping  3000\n",
       "3   japan     4     D   kishida  4000"
      ]
     },
     "execution_count": 19,
     "metadata": {},
     "output_type": "execute_result"
    }
   ],
   "source": [
    "gdp = pd.Series([\"1000\", \"2000\", \"3000\", \"4000\"])\n",
    "\n",
    "df['gdp'] = gdp\n",
    "df"
   ]
  },
  {
   "cell_type": "code",
   "execution_count": 20,
   "metadata": {
    "colab": {
     "base_uri": "https://localhost:8080/",
     "height": 175
    },
    "executionInfo": {
     "elapsed": 3,
     "status": "ok",
     "timestamp": 1680755497338,
     "user": {
      "displayName": "seungri soft",
      "userId": "02507643838407733197"
     },
     "user_tz": -540
    },
    "id": "FF_tgZ671EjF",
    "outputId": "6cce6a2a-33a2-4193-a064-ac772d3b4b4e"
   },
   "outputs": [
    {
     "data": {
      "text/html": [
       "<div>\n",
       "<style scoped>\n",
       "    .dataframe tbody tr th:only-of-type {\n",
       "        vertical-align: middle;\n",
       "    }\n",
       "\n",
       "    .dataframe tbody tr th {\n",
       "        vertical-align: top;\n",
       "    }\n",
       "\n",
       "    .dataframe thead th {\n",
       "        text-align: right;\n",
       "    }\n",
       "</style>\n",
       "<table border=\"1\" class=\"dataframe\">\n",
       "  <thead>\n",
       "    <tr style=\"text-align: right;\">\n",
       "      <th></th>\n",
       "      <th>country</th>\n",
       "      <th>rank</th>\n",
       "      <th>grade</th>\n",
       "      <th>president</th>\n",
       "      <th>gdp</th>\n",
       "      <th>etc</th>\n",
       "    </tr>\n",
       "  </thead>\n",
       "  <tbody>\n",
       "    <tr>\n",
       "      <th>0</th>\n",
       "      <td>kor</td>\n",
       "      <td>1</td>\n",
       "      <td>A</td>\n",
       "      <td>yoon</td>\n",
       "      <td>1000</td>\n",
       "      <td>0</td>\n",
       "    </tr>\n",
       "    <tr>\n",
       "      <th>1</th>\n",
       "      <td>usa</td>\n",
       "      <td>2</td>\n",
       "      <td>B</td>\n",
       "      <td>biden</td>\n",
       "      <td>2000</td>\n",
       "      <td>0</td>\n",
       "    </tr>\n",
       "    <tr>\n",
       "      <th>2</th>\n",
       "      <td>china</td>\n",
       "      <td>3</td>\n",
       "      <td>C</td>\n",
       "      <td>jinping</td>\n",
       "      <td>3000</td>\n",
       "      <td>0</td>\n",
       "    </tr>\n",
       "    <tr>\n",
       "      <th>3</th>\n",
       "      <td>japan</td>\n",
       "      <td>4</td>\n",
       "      <td>D</td>\n",
       "      <td>kishida</td>\n",
       "      <td>4000</td>\n",
       "      <td>0</td>\n",
       "    </tr>\n",
       "  </tbody>\n",
       "</table>\n",
       "</div>"
      ],
      "text/plain": [
       "  country  rank grade president   gdp  etc\n",
       "0     kor     1     A      yoon  1000    0\n",
       "1     usa     2     B     biden  2000    0\n",
       "2   china     3     C   jinping  3000    0\n",
       "3   japan     4     D   kishida  4000    0"
      ]
     },
     "execution_count": 20,
     "metadata": {},
     "output_type": "execute_result"
    }
   ],
   "source": [
    "import numpy as np\n",
    "etc = np.zeros(4).astype(int)\n",
    "\n",
    "df['etc'] = etc\n",
    "df"
   ]
  },
  {
   "cell_type": "code",
   "execution_count": 21,
   "metadata": {
    "colab": {
     "base_uri": "https://localhost:8080/",
     "height": 175
    },
    "executionInfo": {
     "elapsed": 4,
     "status": "ok",
     "timestamp": 1680755575518,
     "user": {
      "displayName": "seungri soft",
      "userId": "02507643838407733197"
     },
     "user_tz": -540
    },
    "id": "_iY2pyt81VOn",
    "outputId": "8812b89e-049c-43aa-eba6-b322b73f70cd"
   },
   "outputs": [
    {
     "data": {
      "text/html": [
       "<div>\n",
       "<style scoped>\n",
       "    .dataframe tbody tr th:only-of-type {\n",
       "        vertical-align: middle;\n",
       "    }\n",
       "\n",
       "    .dataframe tbody tr th {\n",
       "        vertical-align: top;\n",
       "    }\n",
       "\n",
       "    .dataframe thead th {\n",
       "        text-align: right;\n",
       "    }\n",
       "</style>\n",
       "<table border=\"1\" class=\"dataframe\">\n",
       "  <thead>\n",
       "    <tr style=\"text-align: right;\">\n",
       "      <th></th>\n",
       "      <th>country</th>\n",
       "      <th>rank</th>\n",
       "      <th>grade</th>\n",
       "      <th>president</th>\n",
       "      <th>gdp</th>\n",
       "      <th>etc</th>\n",
       "      <th>new_grade</th>\n",
       "    </tr>\n",
       "  </thead>\n",
       "  <tbody>\n",
       "    <tr>\n",
       "      <th>0</th>\n",
       "      <td>kor</td>\n",
       "      <td>1</td>\n",
       "      <td>A</td>\n",
       "      <td>yoon</td>\n",
       "      <td>1000</td>\n",
       "      <td>0</td>\n",
       "      <td>True</td>\n",
       "    </tr>\n",
       "    <tr>\n",
       "      <th>1</th>\n",
       "      <td>usa</td>\n",
       "      <td>2</td>\n",
       "      <td>B</td>\n",
       "      <td>biden</td>\n",
       "      <td>2000</td>\n",
       "      <td>0</td>\n",
       "      <td>True</td>\n",
       "    </tr>\n",
       "    <tr>\n",
       "      <th>2</th>\n",
       "      <td>china</td>\n",
       "      <td>3</td>\n",
       "      <td>C</td>\n",
       "      <td>jinping</td>\n",
       "      <td>3000</td>\n",
       "      <td>0</td>\n",
       "      <td>False</td>\n",
       "    </tr>\n",
       "    <tr>\n",
       "      <th>3</th>\n",
       "      <td>japan</td>\n",
       "      <td>4</td>\n",
       "      <td>D</td>\n",
       "      <td>kishida</td>\n",
       "      <td>4000</td>\n",
       "      <td>0</td>\n",
       "      <td>False</td>\n",
       "    </tr>\n",
       "  </tbody>\n",
       "</table>\n",
       "</div>"
      ],
      "text/plain": [
       "  country  rank grade president   gdp  etc  new_grade\n",
       "0     kor     1     A      yoon  1000    0       True\n",
       "1     usa     2     B     biden  2000    0       True\n",
       "2   china     3     C   jinping  3000    0      False\n",
       "3   japan     4     D   kishida  4000    0      False"
      ]
     },
     "execution_count": 21,
     "metadata": {},
     "output_type": "execute_result"
    }
   ],
   "source": [
    "df['new_grade'] = df['rank'] < 3\n",
    "df"
   ]
  },
  {
   "cell_type": "code",
   "execution_count": 22,
   "metadata": {
    "colab": {
     "base_uri": "https://localhost:8080/",
     "height": 206
    },
    "executionInfo": {
     "elapsed": 485,
     "status": "ok",
     "timestamp": 1680755666796,
     "user": {
      "displayName": "seungri soft",
      "userId": "02507643838407733197"
     },
     "user_tz": -540
    },
    "id": "CPNx3drh1lDB",
    "outputId": "210af042-a58f-43d8-cc0a-7c53068af424"
   },
   "outputs": [
    {
     "data": {
      "text/html": [
       "<div>\n",
       "<style scoped>\n",
       "    .dataframe tbody tr th:only-of-type {\n",
       "        vertical-align: middle;\n",
       "    }\n",
       "\n",
       "    .dataframe tbody tr th {\n",
       "        vertical-align: top;\n",
       "    }\n",
       "\n",
       "    .dataframe thead th {\n",
       "        text-align: right;\n",
       "    }\n",
       "</style>\n",
       "<table border=\"1\" class=\"dataframe\">\n",
       "  <thead>\n",
       "    <tr style=\"text-align: right;\">\n",
       "      <th></th>\n",
       "      <th>country</th>\n",
       "      <th>rank</th>\n",
       "      <th>grade</th>\n",
       "      <th>president</th>\n",
       "      <th>gdp</th>\n",
       "      <th>etc</th>\n",
       "      <th>new_grade</th>\n",
       "    </tr>\n",
       "  </thead>\n",
       "  <tbody>\n",
       "    <tr>\n",
       "      <th>0</th>\n",
       "      <td>kor</td>\n",
       "      <td>1</td>\n",
       "      <td>A</td>\n",
       "      <td>yoon</td>\n",
       "      <td>1000</td>\n",
       "      <td>0</td>\n",
       "      <td>True</td>\n",
       "    </tr>\n",
       "    <tr>\n",
       "      <th>1</th>\n",
       "      <td>usa</td>\n",
       "      <td>2</td>\n",
       "      <td>B</td>\n",
       "      <td>biden</td>\n",
       "      <td>2000</td>\n",
       "      <td>0</td>\n",
       "      <td>True</td>\n",
       "    </tr>\n",
       "    <tr>\n",
       "      <th>2</th>\n",
       "      <td>china</td>\n",
       "      <td>3</td>\n",
       "      <td>C</td>\n",
       "      <td>jinping</td>\n",
       "      <td>3000</td>\n",
       "      <td>0</td>\n",
       "      <td>False</td>\n",
       "    </tr>\n",
       "    <tr>\n",
       "      <th>3</th>\n",
       "      <td>japan</td>\n",
       "      <td>4</td>\n",
       "      <td>D</td>\n",
       "      <td>kishida</td>\n",
       "      <td>4000</td>\n",
       "      <td>0</td>\n",
       "      <td>False</td>\n",
       "    </tr>\n",
       "    <tr>\n",
       "      <th>7</th>\n",
       "      <td>singapore</td>\n",
       "      <td>4</td>\n",
       "      <td>D</td>\n",
       "      <td>jao</td>\n",
       "      <td>2000</td>\n",
       "      <td>0</td>\n",
       "      <td>False</td>\n",
       "    </tr>\n",
       "  </tbody>\n",
       "</table>\n",
       "</div>"
      ],
      "text/plain": [
       "     country  rank grade president   gdp  etc  new_grade\n",
       "0        kor     1     A      yoon  1000    0       True\n",
       "1        usa     2     B     biden  2000    0       True\n",
       "2      china     3     C   jinping  3000    0      False\n",
       "3      japan     4     D   kishida  4000    0      False\n",
       "7  singapore     4     D       jao  2000    0      False"
      ]
     },
     "execution_count": 22,
     "metadata": {},
     "output_type": "execute_result"
    }
   ],
   "source": [
    "df.loc[7] = ['singapore', 4, 'D', 'jao', \"2000\", 0, False]\n",
    "df"
   ]
  },
  {
   "cell_type": "code",
   "execution_count": 23,
   "metadata": {
    "id": "f-2YZ1eJ2BIR"
   },
   "outputs": [],
   "source": [
    "# drop\n",
    "## 행 제거하기\n",
    "df.drop([3], inplace=True) # axis=0"
   ]
  },
  {
   "cell_type": "code",
   "execution_count": 24,
   "metadata": {
    "colab": {
     "base_uri": "https://localhost:8080/",
     "height": 175
    },
    "executionInfo": {
     "elapsed": 5,
     "status": "ok",
     "timestamp": 1680756054313,
     "user": {
      "displayName": "seungri soft",
      "userId": "02507643838407733197"
     },
     "user_tz": -540
    },
    "id": "QdxFJOJX2VTC",
    "outputId": "2cc7c785-ac4f-4037-9824-888e314a147c"
   },
   "outputs": [
    {
     "data": {
      "text/html": [
       "<div>\n",
       "<style scoped>\n",
       "    .dataframe tbody tr th:only-of-type {\n",
       "        vertical-align: middle;\n",
       "    }\n",
       "\n",
       "    .dataframe tbody tr th {\n",
       "        vertical-align: top;\n",
       "    }\n",
       "\n",
       "    .dataframe thead th {\n",
       "        text-align: right;\n",
       "    }\n",
       "</style>\n",
       "<table border=\"1\" class=\"dataframe\">\n",
       "  <thead>\n",
       "    <tr style=\"text-align: right;\">\n",
       "      <th></th>\n",
       "      <th>country</th>\n",
       "      <th>rank</th>\n",
       "      <th>grade</th>\n",
       "      <th>president</th>\n",
       "      <th>gdp</th>\n",
       "      <th>etc</th>\n",
       "      <th>new_grade</th>\n",
       "    </tr>\n",
       "  </thead>\n",
       "  <tbody>\n",
       "    <tr>\n",
       "      <th>0</th>\n",
       "      <td>kor</td>\n",
       "      <td>1</td>\n",
       "      <td>A</td>\n",
       "      <td>yoon</td>\n",
       "      <td>1000</td>\n",
       "      <td>0</td>\n",
       "      <td>True</td>\n",
       "    </tr>\n",
       "    <tr>\n",
       "      <th>1</th>\n",
       "      <td>usa</td>\n",
       "      <td>2</td>\n",
       "      <td>B</td>\n",
       "      <td>biden</td>\n",
       "      <td>2000</td>\n",
       "      <td>0</td>\n",
       "      <td>True</td>\n",
       "    </tr>\n",
       "    <tr>\n",
       "      <th>2</th>\n",
       "      <td>china</td>\n",
       "      <td>3</td>\n",
       "      <td>C</td>\n",
       "      <td>jinping</td>\n",
       "      <td>3000</td>\n",
       "      <td>0</td>\n",
       "      <td>False</td>\n",
       "    </tr>\n",
       "    <tr>\n",
       "      <th>7</th>\n",
       "      <td>singapore</td>\n",
       "      <td>4</td>\n",
       "      <td>D</td>\n",
       "      <td>jao</td>\n",
       "      <td>2000</td>\n",
       "      <td>0</td>\n",
       "      <td>False</td>\n",
       "    </tr>\n",
       "  </tbody>\n",
       "</table>\n",
       "</div>"
      ],
      "text/plain": [
       "     country  rank grade president   gdp  etc  new_grade\n",
       "0        kor     1     A      yoon  1000    0       True\n",
       "1        usa     2     B     biden  2000    0       True\n",
       "2      china     3     C   jinping  3000    0      False\n",
       "7  singapore     4     D       jao  2000    0      False"
      ]
     },
     "execution_count": 24,
     "metadata": {},
     "output_type": "execute_result"
    }
   ],
   "source": [
    "# drop\n",
    "## 컬럼 제거하기\n",
    "\n",
    "df_new = df.drop('etc', axis=1)\n",
    "# or df.drop('etc', axis=1, inplace=True)\n",
    "df"
   ]
  },
  {
   "cell_type": "code",
   "execution_count": 25,
   "metadata": {
    "colab": {
     "base_uri": "https://localhost:8080/",
     "height": 175
    },
    "executionInfo": {
     "elapsed": 406,
     "status": "ok",
     "timestamp": 1680756089888,
     "user": {
      "displayName": "seungri soft",
      "userId": "02507643838407733197"
     },
     "user_tz": -540
    },
    "id": "UEuVlsQ_2o0r",
    "outputId": "c4b89f06-b74c-4ead-85f2-1718aaf43920"
   },
   "outputs": [
    {
     "data": {
      "text/html": [
       "<div>\n",
       "<style scoped>\n",
       "    .dataframe tbody tr th:only-of-type {\n",
       "        vertical-align: middle;\n",
       "    }\n",
       "\n",
       "    .dataframe tbody tr th {\n",
       "        vertical-align: top;\n",
       "    }\n",
       "\n",
       "    .dataframe thead th {\n",
       "        text-align: right;\n",
       "    }\n",
       "</style>\n",
       "<table border=\"1\" class=\"dataframe\">\n",
       "  <thead>\n",
       "    <tr style=\"text-align: right;\">\n",
       "      <th></th>\n",
       "      <th>country</th>\n",
       "      <th>rank</th>\n",
       "      <th>grade</th>\n",
       "      <th>president</th>\n",
       "      <th>gdp</th>\n",
       "      <th>etc</th>\n",
       "      <th>new_grade</th>\n",
       "    </tr>\n",
       "  </thead>\n",
       "  <tbody>\n",
       "    <tr>\n",
       "      <th>0</th>\n",
       "      <td>kor</td>\n",
       "      <td>1</td>\n",
       "      <td>A</td>\n",
       "      <td>yoon</td>\n",
       "      <td>1000</td>\n",
       "      <td>0</td>\n",
       "      <td>True</td>\n",
       "    </tr>\n",
       "    <tr>\n",
       "      <th>1</th>\n",
       "      <td>usa</td>\n",
       "      <td>2</td>\n",
       "      <td>B</td>\n",
       "      <td>biden</td>\n",
       "      <td>2000</td>\n",
       "      <td>0</td>\n",
       "      <td>True</td>\n",
       "    </tr>\n",
       "    <tr>\n",
       "      <th>2</th>\n",
       "      <td>china</td>\n",
       "      <td>3</td>\n",
       "      <td>C</td>\n",
       "      <td>jinping</td>\n",
       "      <td>3000</td>\n",
       "      <td>0</td>\n",
       "      <td>False</td>\n",
       "    </tr>\n",
       "    <tr>\n",
       "      <th>7</th>\n",
       "      <td>singapore</td>\n",
       "      <td>4</td>\n",
       "      <td>D</td>\n",
       "      <td>jao</td>\n",
       "      <td>2000</td>\n",
       "      <td>0</td>\n",
       "      <td>False</td>\n",
       "    </tr>\n",
       "  </tbody>\n",
       "</table>\n",
       "</div>"
      ],
      "text/plain": [
       "     country  rank grade president   gdp  etc  new_grade\n",
       "0        kor     1     A      yoon  1000    0       True\n",
       "1        usa     2     B     biden  2000    0       True\n",
       "2      china     3     C   jinping  3000    0      False\n",
       "7  singapore     4     D       jao  2000    0      False"
      ]
     },
     "execution_count": 25,
     "metadata": {},
     "output_type": "execute_result"
    }
   ],
   "source": [
    "df"
   ]
  },
  {
   "cell_type": "markdown",
   "metadata": {
    "id": "51UeMXYM3tLi"
   },
   "source": [
    "### 집합함수 (Aggregation)\n",
    "\n",
    "- df.sum()\n",
    "- df.mean()\n",
    "- df.max()\n",
    "- df.describe()"
   ]
  },
  {
   "cell_type": "code",
   "execution_count": 26,
   "metadata": {
    "colab": {
     "base_uri": "https://localhost:8080/",
     "height": 175
    },
    "executionInfo": {
     "elapsed": 1171,
     "status": "ok",
     "timestamp": 1680756159095,
     "user": {
      "displayName": "seungri soft",
      "userId": "02507643838407733197"
     },
     "user_tz": -540
    },
    "id": "Akglwzj63eAl",
    "outputId": "802b9acf-e4b2-4654-cb1c-4addc9f9e6e5"
   },
   "outputs": [
    {
     "data": {
      "text/html": [
       "<div>\n",
       "<style scoped>\n",
       "    .dataframe tbody tr th:only-of-type {\n",
       "        vertical-align: middle;\n",
       "    }\n",
       "\n",
       "    .dataframe tbody tr th {\n",
       "        vertical-align: top;\n",
       "    }\n",
       "\n",
       "    .dataframe thead th {\n",
       "        text-align: right;\n",
       "    }\n",
       "</style>\n",
       "<table border=\"1\" class=\"dataframe\">\n",
       "  <thead>\n",
       "    <tr style=\"text-align: right;\">\n",
       "      <th></th>\n",
       "      <th>country</th>\n",
       "      <th>rank</th>\n",
       "      <th>grade</th>\n",
       "      <th>score</th>\n",
       "    </tr>\n",
       "  </thead>\n",
       "  <tbody>\n",
       "    <tr>\n",
       "      <th>0</th>\n",
       "      <td>kor</td>\n",
       "      <td>1</td>\n",
       "      <td>A</td>\n",
       "      <td>100</td>\n",
       "    </tr>\n",
       "    <tr>\n",
       "      <th>1</th>\n",
       "      <td>usa</td>\n",
       "      <td>2</td>\n",
       "      <td>B</td>\n",
       "      <td>80</td>\n",
       "    </tr>\n",
       "    <tr>\n",
       "      <th>2</th>\n",
       "      <td>china</td>\n",
       "      <td>3</td>\n",
       "      <td>C</td>\n",
       "      <td>60</td>\n",
       "    </tr>\n",
       "    <tr>\n",
       "      <th>3</th>\n",
       "      <td>japan</td>\n",
       "      <td>4</td>\n",
       "      <td>D</td>\n",
       "      <td>40</td>\n",
       "    </tr>\n",
       "  </tbody>\n",
       "</table>\n",
       "</div>"
      ],
      "text/plain": [
       "  country  rank grade  score\n",
       "0     kor     1     A    100\n",
       "1     usa     2     B     80\n",
       "2   china     3     C     60\n",
       "3   japan     4     D     40"
      ]
     },
     "execution_count": 26,
     "metadata": {},
     "output_type": "execute_result"
    }
   ],
   "source": [
    "# DataFrame 생성\n",
    "data = {'country': [\"kor\", \"usa\", \"china\", \"japan\"],\n",
    "        'rank': [1, 2, 3, 4],\n",
    "        'grade': [\"A\", \"B\", \"C\", \"D\"],\n",
    "        'score': [100, 80, 60, 40]\n",
    "        }\n",
    "\n",
    "df = pd.DataFrame(data)\n",
    "df"
   ]
  },
  {
   "cell_type": "code",
   "execution_count": 28,
   "metadata": {
    "colab": {
     "base_uri": "https://localhost:8080/",
     "height": 356
    },
    "executionInfo": {
     "elapsed": 671,
     "status": "ok",
     "timestamp": 1680757573815,
     "user": {
      "displayName": "seungri soft",
      "userId": "02507643838407733197"
     },
     "user_tz": -540
    },
    "id": "xqA8tmIc36u3",
    "outputId": "1b3afc77-8431-4b7d-e882-3438b4d0dd82"
   },
   "outputs": [
    {
     "name": "stdout",
     "output_type": "stream",
     "text": [
      "<class 'pandas.core.frame.DataFrame'>\n",
      "RangeIndex: 4 entries, 0 to 3\n",
      "Data columns (total 4 columns):\n",
      " #   Column   Non-Null Count  Dtype \n",
      "---  ------   --------------  ----- \n",
      " 0   country  4 non-null      object\n",
      " 1   rank     4 non-null      int64 \n",
      " 2   grade    4 non-null      object\n",
      " 3   score    4 non-null      int64 \n",
      "dtypes: int64(2), object(2)\n",
      "memory usage: 256.0+ bytes\n"
     ]
    }
   ],
   "source": [
    "# EDA\n",
    "# df.sum()\n",
    "# df.mean()\n",
    "# df.max() # 문자열 데이터는 Ascii 코드 값이 큰 값을 반환한다.\n",
    "# df.min()\n",
    "# df.describe()\n",
    "df.info()"
   ]
  },
  {
   "cell_type": "code",
   "execution_count": 29,
   "metadata": {
    "colab": {
     "base_uri": "https://localhost:8080/",
     "height": 300
    },
    "executionInfo": {
     "elapsed": 376,
     "status": "ok",
     "timestamp": 1727869503432,
     "user": {
      "displayName": "seungri soft",
      "userId": "02507643838407733197"
     },
     "user_tz": -540
    },
    "id": "0xT8ESS9DCZI",
    "outputId": "ef6a970a-4eec-4ca9-c6e0-7a030d4d654d"
   },
   "outputs": [
    {
     "data": {
      "text/html": [
       "<div>\n",
       "<style scoped>\n",
       "    .dataframe tbody tr th:only-of-type {\n",
       "        vertical-align: middle;\n",
       "    }\n",
       "\n",
       "    .dataframe tbody tr th {\n",
       "        vertical-align: top;\n",
       "    }\n",
       "\n",
       "    .dataframe thead th {\n",
       "        text-align: right;\n",
       "    }\n",
       "</style>\n",
       "<table border=\"1\" class=\"dataframe\">\n",
       "  <thead>\n",
       "    <tr style=\"text-align: right;\">\n",
       "      <th></th>\n",
       "      <th>rank</th>\n",
       "      <th>score</th>\n",
       "    </tr>\n",
       "  </thead>\n",
       "  <tbody>\n",
       "    <tr>\n",
       "      <th>count</th>\n",
       "      <td>4.000000</td>\n",
       "      <td>4.000000</td>\n",
       "    </tr>\n",
       "    <tr>\n",
       "      <th>mean</th>\n",
       "      <td>2.500000</td>\n",
       "      <td>70.000000</td>\n",
       "    </tr>\n",
       "    <tr>\n",
       "      <th>std</th>\n",
       "      <td>1.290994</td>\n",
       "      <td>25.819889</td>\n",
       "    </tr>\n",
       "    <tr>\n",
       "      <th>min</th>\n",
       "      <td>1.000000</td>\n",
       "      <td>40.000000</td>\n",
       "    </tr>\n",
       "    <tr>\n",
       "      <th>25%</th>\n",
       "      <td>1.750000</td>\n",
       "      <td>55.000000</td>\n",
       "    </tr>\n",
       "    <tr>\n",
       "      <th>50%</th>\n",
       "      <td>2.500000</td>\n",
       "      <td>70.000000</td>\n",
       "    </tr>\n",
       "    <tr>\n",
       "      <th>75%</th>\n",
       "      <td>3.250000</td>\n",
       "      <td>85.000000</td>\n",
       "    </tr>\n",
       "    <tr>\n",
       "      <th>max</th>\n",
       "      <td>4.000000</td>\n",
       "      <td>100.000000</td>\n",
       "    </tr>\n",
       "  </tbody>\n",
       "</table>\n",
       "</div>"
      ],
      "text/plain": [
       "           rank       score\n",
       "count  4.000000    4.000000\n",
       "mean   2.500000   70.000000\n",
       "std    1.290994   25.819889\n",
       "min    1.000000   40.000000\n",
       "25%    1.750000   55.000000\n",
       "50%    2.500000   70.000000\n",
       "75%    3.250000   85.000000\n",
       "max    4.000000  100.000000"
      ]
     },
     "execution_count": 29,
     "metadata": {},
     "output_type": "execute_result"
    }
   ],
   "source": [
    "df.describe()"
   ]
  },
  {
   "cell_type": "code",
   "execution_count": 30,
   "metadata": {
    "colab": {
     "base_uri": "https://localhost:8080/",
     "height": 175
    },
    "executionInfo": {
     "elapsed": 361,
     "status": "ok",
     "timestamp": 1727869653447,
     "user": {
      "displayName": "seungri soft",
      "userId": "02507643838407733197"
     },
     "user_tz": -540
    },
    "id": "wK_bP1AO4ARZ",
    "outputId": "441dd61d-a2ea-4be2-85de-40f618e8062e"
   },
   "outputs": [
    {
     "data": {
      "text/html": [
       "<div>\n",
       "<style scoped>\n",
       "    .dataframe tbody tr th:only-of-type {\n",
       "        vertical-align: middle;\n",
       "    }\n",
       "\n",
       "    .dataframe tbody tr th {\n",
       "        vertical-align: top;\n",
       "    }\n",
       "\n",
       "    .dataframe thead th {\n",
       "        text-align: right;\n",
       "    }\n",
       "</style>\n",
       "<table border=\"1\" class=\"dataframe\">\n",
       "  <thead>\n",
       "    <tr style=\"text-align: right;\">\n",
       "      <th></th>\n",
       "      <th>country</th>\n",
       "      <th>rank</th>\n",
       "      <th>grade</th>\n",
       "      <th>score</th>\n",
       "    </tr>\n",
       "  </thead>\n",
       "  <tbody>\n",
       "    <tr>\n",
       "      <th>3</th>\n",
       "      <td>japan</td>\n",
       "      <td>4</td>\n",
       "      <td>D</td>\n",
       "      <td>40</td>\n",
       "    </tr>\n",
       "    <tr>\n",
       "      <th>2</th>\n",
       "      <td>china</td>\n",
       "      <td>3</td>\n",
       "      <td>C</td>\n",
       "      <td>60</td>\n",
       "    </tr>\n",
       "    <tr>\n",
       "      <th>1</th>\n",
       "      <td>usa</td>\n",
       "      <td>2</td>\n",
       "      <td>B</td>\n",
       "      <td>80</td>\n",
       "    </tr>\n",
       "    <tr>\n",
       "      <th>0</th>\n",
       "      <td>kor</td>\n",
       "      <td>1</td>\n",
       "      <td>A</td>\n",
       "      <td>100</td>\n",
       "    </tr>\n",
       "  </tbody>\n",
       "</table>\n",
       "</div>"
      ],
      "text/plain": [
       "  country  rank grade  score\n",
       "3   japan     4     D     40\n",
       "2   china     3     C     60\n",
       "1     usa     2     B     80\n",
       "0     kor     1     A    100"
      ]
     },
     "execution_count": 30,
     "metadata": {},
     "output_type": "execute_result"
    }
   ],
   "source": [
    "# 데이터 정렬\n",
    "df.sort_values(by=['rank'], ascending=False)\n",
    "# df.sort_values(by=['rank', 'score'], ascending=[False, True])\n",
    "# df.sort_index(by=['rank', 'score'], ascending=[False, True])"
   ]
  },
  {
   "cell_type": "markdown",
   "metadata": {
    "id": "QHz0bn8T-qa7"
   },
   "source": [
    "### NaN 데이터 처리\n",
    "- NaN : Not a Number (=> 비어있는 데이터, None, Null)\n",
    "\n",
    "- isnull() => True\n",
    "- fillna() => null인 데이터들을 내가 입력하는 어떤 값으로 채워주세요\n",
    "- dropna() => null 데이터를 제거해주세요"
   ]
  },
  {
   "cell_type": "code",
   "execution_count": 31,
   "metadata": {
    "colab": {
     "base_uri": "https://localhost:8080/",
     "height": 175
    },
    "executionInfo": {
     "elapsed": 487,
     "status": "ok",
     "timestamp": 1680758017087,
     "user": {
      "displayName": "seungri soft",
      "userId": "02507643838407733197"
     },
     "user_tz": -540
    },
    "id": "3hHVCSzc6uC5",
    "outputId": "6659d46e-7f5c-47f1-f3c5-03d8a377d874"
   },
   "outputs": [
    {
     "data": {
      "text/html": [
       "<div>\n",
       "<style scoped>\n",
       "    .dataframe tbody tr th:only-of-type {\n",
       "        vertical-align: middle;\n",
       "    }\n",
       "\n",
       "    .dataframe tbody tr th {\n",
       "        vertical-align: top;\n",
       "    }\n",
       "\n",
       "    .dataframe thead th {\n",
       "        text-align: right;\n",
       "    }\n",
       "</style>\n",
       "<table border=\"1\" class=\"dataframe\">\n",
       "  <thead>\n",
       "    <tr style=\"text-align: right;\">\n",
       "      <th></th>\n",
       "      <th>country</th>\n",
       "      <th>rank</th>\n",
       "      <th>grade</th>\n",
       "      <th>score</th>\n",
       "    </tr>\n",
       "  </thead>\n",
       "  <tbody>\n",
       "    <tr>\n",
       "      <th>0</th>\n",
       "      <td>kor</td>\n",
       "      <td>1</td>\n",
       "      <td>A</td>\n",
       "      <td>100</td>\n",
       "    </tr>\n",
       "    <tr>\n",
       "      <th>1</th>\n",
       "      <td>usa</td>\n",
       "      <td>2</td>\n",
       "      <td>B</td>\n",
       "      <td>80</td>\n",
       "    </tr>\n",
       "    <tr>\n",
       "      <th>2</th>\n",
       "      <td>china</td>\n",
       "      <td>3</td>\n",
       "      <td>C</td>\n",
       "      <td>60</td>\n",
       "    </tr>\n",
       "    <tr>\n",
       "      <th>3</th>\n",
       "      <td>japan</td>\n",
       "      <td>4</td>\n",
       "      <td>D</td>\n",
       "      <td>40</td>\n",
       "    </tr>\n",
       "  </tbody>\n",
       "</table>\n",
       "</div>"
      ],
      "text/plain": [
       "  country  rank grade  score\n",
       "0     kor     1     A    100\n",
       "1     usa     2     B     80\n",
       "2   china     3     C     60\n",
       "3   japan     4     D     40"
      ]
     },
     "execution_count": 31,
     "metadata": {},
     "output_type": "execute_result"
    }
   ],
   "source": [
    "df"
   ]
  },
  {
   "cell_type": "code",
   "execution_count": 32,
   "metadata": {
    "colab": {
     "base_uri": "https://localhost:8080/",
     "height": 175
    },
    "executionInfo": {
     "elapsed": 3,
     "status": "ok",
     "timestamp": 1680758032411,
     "user": {
      "displayName": "seungri soft",
      "userId": "02507643838407733197"
     },
     "user_tz": -540
    },
    "id": "V5sglFiF_AId",
    "outputId": "52841865-27c1-42df-834b-fb62f3f380b4"
   },
   "outputs": [
    {
     "data": {
      "text/html": [
       "<div>\n",
       "<style scoped>\n",
       "    .dataframe tbody tr th:only-of-type {\n",
       "        vertical-align: middle;\n",
       "    }\n",
       "\n",
       "    .dataframe tbody tr th {\n",
       "        vertical-align: top;\n",
       "    }\n",
       "\n",
       "    .dataframe thead th {\n",
       "        text-align: right;\n",
       "    }\n",
       "</style>\n",
       "<table border=\"1\" class=\"dataframe\">\n",
       "  <thead>\n",
       "    <tr style=\"text-align: right;\">\n",
       "      <th></th>\n",
       "      <th>country</th>\n",
       "      <th>rank</th>\n",
       "      <th>grade</th>\n",
       "      <th>score</th>\n",
       "      <th>check</th>\n",
       "    </tr>\n",
       "  </thead>\n",
       "  <tbody>\n",
       "    <tr>\n",
       "      <th>0</th>\n",
       "      <td>kor</td>\n",
       "      <td>1</td>\n",
       "      <td>A</td>\n",
       "      <td>100</td>\n",
       "      <td>NaN</td>\n",
       "    </tr>\n",
       "    <tr>\n",
       "      <th>1</th>\n",
       "      <td>usa</td>\n",
       "      <td>2</td>\n",
       "      <td>B</td>\n",
       "      <td>80</td>\n",
       "      <td>NaN</td>\n",
       "    </tr>\n",
       "    <tr>\n",
       "      <th>2</th>\n",
       "      <td>china</td>\n",
       "      <td>3</td>\n",
       "      <td>C</td>\n",
       "      <td>60</td>\n",
       "      <td>NaN</td>\n",
       "    </tr>\n",
       "    <tr>\n",
       "      <th>3</th>\n",
       "      <td>japan</td>\n",
       "      <td>4</td>\n",
       "      <td>D</td>\n",
       "      <td>40</td>\n",
       "      <td>NaN</td>\n",
       "    </tr>\n",
       "  </tbody>\n",
       "</table>\n",
       "</div>"
      ],
      "text/plain": [
       "  country  rank grade  score  check\n",
       "0     kor     1     A    100    NaN\n",
       "1     usa     2     B     80    NaN\n",
       "2   china     3     C     60    NaN\n",
       "3   japan     4     D     40    NaN"
      ]
     },
     "execution_count": 32,
     "metadata": {},
     "output_type": "execute_result"
    }
   ],
   "source": [
    "df['check'] = np.nan\n",
    "df"
   ]
  },
  {
   "cell_type": "code",
   "execution_count": 33,
   "metadata": {
    "colab": {
     "base_uri": "https://localhost:8080/",
     "height": 175
    },
    "executionInfo": {
     "elapsed": 4,
     "status": "ok",
     "timestamp": 1680758084093,
     "user": {
      "displayName": "seungri soft",
      "userId": "02507643838407733197"
     },
     "user_tz": -540
    },
    "id": "qDJdcaUf_EP6",
    "outputId": "e03a9ba0-f1b6-424d-91a1-542260e548d6"
   },
   "outputs": [
    {
     "data": {
      "text/html": [
       "<div>\n",
       "<style scoped>\n",
       "    .dataframe tbody tr th:only-of-type {\n",
       "        vertical-align: middle;\n",
       "    }\n",
       "\n",
       "    .dataframe tbody tr th {\n",
       "        vertical-align: top;\n",
       "    }\n",
       "\n",
       "    .dataframe thead th {\n",
       "        text-align: right;\n",
       "    }\n",
       "</style>\n",
       "<table border=\"1\" class=\"dataframe\">\n",
       "  <thead>\n",
       "    <tr style=\"text-align: right;\">\n",
       "      <th></th>\n",
       "      <th>country</th>\n",
       "      <th>rank</th>\n",
       "      <th>grade</th>\n",
       "      <th>score</th>\n",
       "      <th>check</th>\n",
       "    </tr>\n",
       "  </thead>\n",
       "  <tbody>\n",
       "    <tr>\n",
       "      <th>0</th>\n",
       "      <td>False</td>\n",
       "      <td>False</td>\n",
       "      <td>False</td>\n",
       "      <td>False</td>\n",
       "      <td>True</td>\n",
       "    </tr>\n",
       "    <tr>\n",
       "      <th>1</th>\n",
       "      <td>False</td>\n",
       "      <td>False</td>\n",
       "      <td>False</td>\n",
       "      <td>False</td>\n",
       "      <td>True</td>\n",
       "    </tr>\n",
       "    <tr>\n",
       "      <th>2</th>\n",
       "      <td>False</td>\n",
       "      <td>False</td>\n",
       "      <td>False</td>\n",
       "      <td>False</td>\n",
       "      <td>True</td>\n",
       "    </tr>\n",
       "    <tr>\n",
       "      <th>3</th>\n",
       "      <td>False</td>\n",
       "      <td>False</td>\n",
       "      <td>False</td>\n",
       "      <td>False</td>\n",
       "      <td>True</td>\n",
       "    </tr>\n",
       "  </tbody>\n",
       "</table>\n",
       "</div>"
      ],
      "text/plain": [
       "   country   rank  grade  score  check\n",
       "0    False  False  False  False   True\n",
       "1    False  False  False  False   True\n",
       "2    False  False  False  False   True\n",
       "3    False  False  False  False   True"
      ]
     },
     "execution_count": 33,
     "metadata": {},
     "output_type": "execute_result"
    }
   ],
   "source": [
    "df.isna()\n",
    "df.isnull()"
   ]
  },
  {
   "cell_type": "code",
   "execution_count": 34,
   "metadata": {
    "colab": {
     "base_uri": "https://localhost:8080/",
     "height": 175
    },
    "executionInfo": {
     "elapsed": 487,
     "status": "ok",
     "timestamp": 1680758277809,
     "user": {
      "displayName": "seungri soft",
      "userId": "02507643838407733197"
     },
     "user_tz": -540
    },
    "id": "zGTjFwXF_JA_",
    "outputId": "55cc3d7c-42b5-43ee-d822-b58ae2a147c5"
   },
   "outputs": [
    {
     "data": {
      "text/html": [
       "<div>\n",
       "<style scoped>\n",
       "    .dataframe tbody tr th:only-of-type {\n",
       "        vertical-align: middle;\n",
       "    }\n",
       "\n",
       "    .dataframe tbody tr th {\n",
       "        vertical-align: top;\n",
       "    }\n",
       "\n",
       "    .dataframe thead th {\n",
       "        text-align: right;\n",
       "    }\n",
       "</style>\n",
       "<table border=\"1\" class=\"dataframe\">\n",
       "  <thead>\n",
       "    <tr style=\"text-align: right;\">\n",
       "      <th></th>\n",
       "      <th>country</th>\n",
       "      <th>rank</th>\n",
       "      <th>grade</th>\n",
       "      <th>score</th>\n",
       "      <th>check</th>\n",
       "    </tr>\n",
       "  </thead>\n",
       "  <tbody>\n",
       "    <tr>\n",
       "      <th>0</th>\n",
       "      <td>kor</td>\n",
       "      <td>1</td>\n",
       "      <td>A</td>\n",
       "      <td>100</td>\n",
       "      <td>pass</td>\n",
       "    </tr>\n",
       "    <tr>\n",
       "      <th>1</th>\n",
       "      <td>usa</td>\n",
       "      <td>2</td>\n",
       "      <td>B</td>\n",
       "      <td>80</td>\n",
       "      <td>pass</td>\n",
       "    </tr>\n",
       "    <tr>\n",
       "      <th>2</th>\n",
       "      <td>china</td>\n",
       "      <td>3</td>\n",
       "      <td>C</td>\n",
       "      <td>60</td>\n",
       "      <td>pass</td>\n",
       "    </tr>\n",
       "    <tr>\n",
       "      <th>3</th>\n",
       "      <td>japan</td>\n",
       "      <td>4</td>\n",
       "      <td>D</td>\n",
       "      <td>40</td>\n",
       "      <td>pass</td>\n",
       "    </tr>\n",
       "  </tbody>\n",
       "</table>\n",
       "</div>"
      ],
      "text/plain": [
       "  country  rank grade  score check\n",
       "0     kor     1     A    100  pass\n",
       "1     usa     2     B     80  pass\n",
       "2   china     3     C     60  pass\n",
       "3   japan     4     D     40  pass"
      ]
     },
     "execution_count": 34,
     "metadata": {},
     "output_type": "execute_result"
    }
   ],
   "source": [
    "df.fillna(value=\"pass\", inplace=True)\n",
    "\n",
    "# null 데이터를 어떻게 처리할 것인가?\n",
    "# (1) 제거한다. => 데이터가 극히 소량인 경우에 한해서 (예를 들어서, 100만건, 100건 null)\n",
    "# (2) 10% null => 평균값을 채워넣습니다.\n",
    "# (3) 계산을 할 수 있다면 => 계산을 해서 채워넣는다.\n",
    "\n",
    "df"
   ]
  },
  {
   "cell_type": "code",
   "execution_count": 35,
   "metadata": {
    "colab": {
     "base_uri": "https://localhost:8080/",
     "height": 143
    },
    "executionInfo": {
     "elapsed": 1040,
     "status": "ok",
     "timestamp": 1680758357407,
     "user": {
      "displayName": "seungri soft",
      "userId": "02507643838407733197"
     },
     "user_tz": -540
    },
    "id": "rxm_KSni_ee9",
    "outputId": "cf9236f4-c52e-4f6e-ebcb-750bbb05c816"
   },
   "outputs": [
    {
     "data": {
      "text/html": [
       "<div>\n",
       "<style scoped>\n",
       "    .dataframe tbody tr th:only-of-type {\n",
       "        vertical-align: middle;\n",
       "    }\n",
       "\n",
       "    .dataframe tbody tr th {\n",
       "        vertical-align: top;\n",
       "    }\n",
       "\n",
       "    .dataframe thead th {\n",
       "        text-align: right;\n",
       "    }\n",
       "</style>\n",
       "<table border=\"1\" class=\"dataframe\">\n",
       "  <thead>\n",
       "    <tr style=\"text-align: right;\">\n",
       "      <th></th>\n",
       "      <th>country</th>\n",
       "      <th>rank</th>\n",
       "      <th>grade</th>\n",
       "      <th>score</th>\n",
       "      <th>check</th>\n",
       "    </tr>\n",
       "  </thead>\n",
       "  <tbody>\n",
       "    <tr>\n",
       "      <th>0</th>\n",
       "      <td>kor</td>\n",
       "      <td>1</td>\n",
       "      <td>A</td>\n",
       "      <td>100.0</td>\n",
       "      <td>pass</td>\n",
       "    </tr>\n",
       "    <tr>\n",
       "      <th>1</th>\n",
       "      <td>usa</td>\n",
       "      <td>2</td>\n",
       "      <td>B</td>\n",
       "      <td>80.0</td>\n",
       "      <td>pass</td>\n",
       "    </tr>\n",
       "    <tr>\n",
       "      <th>3</th>\n",
       "      <td>japan</td>\n",
       "      <td>4</td>\n",
       "      <td>D</td>\n",
       "      <td>40.0</td>\n",
       "      <td>pass</td>\n",
       "    </tr>\n",
       "  </tbody>\n",
       "</table>\n",
       "</div>"
      ],
      "text/plain": [
       "  country  rank grade  score check\n",
       "0     kor     1     A  100.0  pass\n",
       "1     usa     2     B   80.0  pass\n",
       "3   japan     4     D   40.0  pass"
      ]
     },
     "execution_count": 35,
     "metadata": {},
     "output_type": "execute_result"
    }
   ],
   "source": [
    "df.iloc[2,3] = np.nan\n",
    "df.dropna(how='any')"
   ]
  },
  {
   "cell_type": "code",
   "execution_count": 36,
   "metadata": {
    "colab": {
     "base_uri": "https://localhost:8080/",
     "height": 175
    },
    "executionInfo": {
     "elapsed": 1396,
     "status": "ok",
     "timestamp": 1680758387244,
     "user": {
      "displayName": "seungri soft",
      "userId": "02507643838407733197"
     },
     "user_tz": -540
    },
    "id": "bc9SXTffAFra",
    "outputId": "dddb3126-c088-4f94-f879-85c84c578948"
   },
   "outputs": [
    {
     "data": {
      "text/html": [
       "<div>\n",
       "<style scoped>\n",
       "    .dataframe tbody tr th:only-of-type {\n",
       "        vertical-align: middle;\n",
       "    }\n",
       "\n",
       "    .dataframe tbody tr th {\n",
       "        vertical-align: top;\n",
       "    }\n",
       "\n",
       "    .dataframe thead th {\n",
       "        text-align: right;\n",
       "    }\n",
       "</style>\n",
       "<table border=\"1\" class=\"dataframe\">\n",
       "  <thead>\n",
       "    <tr style=\"text-align: right;\">\n",
       "      <th></th>\n",
       "      <th>country</th>\n",
       "      <th>rank</th>\n",
       "      <th>grade</th>\n",
       "      <th>score</th>\n",
       "      <th>check</th>\n",
       "    </tr>\n",
       "  </thead>\n",
       "  <tbody>\n",
       "    <tr>\n",
       "      <th>0</th>\n",
       "      <td>kor</td>\n",
       "      <td>1</td>\n",
       "      <td>A</td>\n",
       "      <td>100.0</td>\n",
       "      <td>pass</td>\n",
       "    </tr>\n",
       "    <tr>\n",
       "      <th>1</th>\n",
       "      <td>usa</td>\n",
       "      <td>2</td>\n",
       "      <td>B</td>\n",
       "      <td>80.0</td>\n",
       "      <td>pass</td>\n",
       "    </tr>\n",
       "    <tr>\n",
       "      <th>2</th>\n",
       "      <td>china</td>\n",
       "      <td>3</td>\n",
       "      <td>C</td>\n",
       "      <td>NaN</td>\n",
       "      <td>pass</td>\n",
       "    </tr>\n",
       "    <tr>\n",
       "      <th>3</th>\n",
       "      <td>japan</td>\n",
       "      <td>4</td>\n",
       "      <td>D</td>\n",
       "      <td>40.0</td>\n",
       "      <td>pass</td>\n",
       "    </tr>\n",
       "  </tbody>\n",
       "</table>\n",
       "</div>"
      ],
      "text/plain": [
       "  country  rank grade  score check\n",
       "0     kor     1     A  100.0  pass\n",
       "1     usa     2     B   80.0  pass\n",
       "2   china     3     C    NaN  pass\n",
       "3   japan     4     D   40.0  pass"
      ]
     },
     "execution_count": 36,
     "metadata": {},
     "output_type": "execute_result"
    }
   ],
   "source": [
    "df"
   ]
  },
  {
   "cell_type": "code",
   "execution_count": 37,
   "metadata": {
    "id": "TxdM-dv8AaRO"
   },
   "outputs": [],
   "source": [
    "df['birth'] = [\"2020.07.15\", \"2021.06.03\", \"2023.05.05\", \"2023.02.04\"]"
   ]
  },
  {
   "cell_type": "code",
   "execution_count": 38,
   "metadata": {
    "colab": {
     "base_uri": "https://localhost:8080/",
     "height": 175
    },
    "executionInfo": {
     "elapsed": 3,
     "status": "ok",
     "timestamp": 1680758448568,
     "user": {
      "displayName": "seungri soft",
      "userId": "02507643838407733197"
     },
     "user_tz": -540
    },
    "id": "rMT3EHoEAo5A",
    "outputId": "a5925631-c1f4-41cf-b5a0-4c6fa038837d"
   },
   "outputs": [
    {
     "data": {
      "text/html": [
       "<div>\n",
       "<style scoped>\n",
       "    .dataframe tbody tr th:only-of-type {\n",
       "        vertical-align: middle;\n",
       "    }\n",
       "\n",
       "    .dataframe tbody tr th {\n",
       "        vertical-align: top;\n",
       "    }\n",
       "\n",
       "    .dataframe thead th {\n",
       "        text-align: right;\n",
       "    }\n",
       "</style>\n",
       "<table border=\"1\" class=\"dataframe\">\n",
       "  <thead>\n",
       "    <tr style=\"text-align: right;\">\n",
       "      <th></th>\n",
       "      <th>country</th>\n",
       "      <th>rank</th>\n",
       "      <th>grade</th>\n",
       "      <th>score</th>\n",
       "      <th>check</th>\n",
       "      <th>birth</th>\n",
       "    </tr>\n",
       "  </thead>\n",
       "  <tbody>\n",
       "    <tr>\n",
       "      <th>0</th>\n",
       "      <td>kor</td>\n",
       "      <td>1</td>\n",
       "      <td>A</td>\n",
       "      <td>100.0</td>\n",
       "      <td>pass</td>\n",
       "      <td>2020.07.15</td>\n",
       "    </tr>\n",
       "    <tr>\n",
       "      <th>1</th>\n",
       "      <td>usa</td>\n",
       "      <td>2</td>\n",
       "      <td>B</td>\n",
       "      <td>80.0</td>\n",
       "      <td>pass</td>\n",
       "      <td>2021.06.03</td>\n",
       "    </tr>\n",
       "    <tr>\n",
       "      <th>2</th>\n",
       "      <td>china</td>\n",
       "      <td>3</td>\n",
       "      <td>C</td>\n",
       "      <td>NaN</td>\n",
       "      <td>pass</td>\n",
       "      <td>2023.05.05</td>\n",
       "    </tr>\n",
       "    <tr>\n",
       "      <th>3</th>\n",
       "      <td>japan</td>\n",
       "      <td>4</td>\n",
       "      <td>D</td>\n",
       "      <td>40.0</td>\n",
       "      <td>pass</td>\n",
       "      <td>2023.02.04</td>\n",
       "    </tr>\n",
       "  </tbody>\n",
       "</table>\n",
       "</div>"
      ],
      "text/plain": [
       "  country  rank grade  score check       birth\n",
       "0     kor     1     A  100.0  pass  2020.07.15\n",
       "1     usa     2     B   80.0  pass  2021.06.03\n",
       "2   china     3     C    NaN  pass  2023.05.05\n",
       "3   japan     4     D   40.0  pass  2023.02.04"
      ]
     },
     "execution_count": 38,
     "metadata": {},
     "output_type": "execute_result"
    }
   ],
   "source": [
    "df"
   ]
  },
  {
   "cell_type": "code",
   "execution_count": 39,
   "metadata": {
    "colab": {
     "base_uri": "https://localhost:8080/"
    },
    "executionInfo": {
     "elapsed": 5,
     "status": "ok",
     "timestamp": 1680758483784,
     "user": {
      "displayName": "seungri soft",
      "userId": "02507643838407733197"
     },
     "user_tz": -540
    },
    "id": "qLWCnl0_ApjD",
    "outputId": "414805bf-6974-4de5-d142-63de74feec61"
   },
   "outputs": [
    {
     "data": {
      "text/plain": [
       "dtype('O')"
      ]
     },
     "execution_count": 39,
     "metadata": {},
     "output_type": "execute_result"
    }
   ],
   "source": [
    "df['birth'].dtypes"
   ]
  },
  {
   "cell_type": "code",
   "execution_count": 40,
   "metadata": {
    "colab": {
     "base_uri": "https://localhost:8080/",
     "height": 175
    },
    "executionInfo": {
     "elapsed": 671,
     "status": "ok",
     "timestamp": 1680758619771,
     "user": {
      "displayName": "seungri soft",
      "userId": "02507643838407733197"
     },
     "user_tz": -540
    },
    "id": "BEzc8CwfAuI3",
    "outputId": "d7cf938d-1d32-4670-92a7-8d239bfcaa43"
   },
   "outputs": [
    {
     "data": {
      "text/html": [
       "<div>\n",
       "<style scoped>\n",
       "    .dataframe tbody tr th:only-of-type {\n",
       "        vertical-align: middle;\n",
       "    }\n",
       "\n",
       "    .dataframe tbody tr th {\n",
       "        vertical-align: top;\n",
       "    }\n",
       "\n",
       "    .dataframe thead th {\n",
       "        text-align: right;\n",
       "    }\n",
       "</style>\n",
       "<table border=\"1\" class=\"dataframe\">\n",
       "  <thead>\n",
       "    <tr style=\"text-align: right;\">\n",
       "      <th></th>\n",
       "      <th>country</th>\n",
       "      <th>rank</th>\n",
       "      <th>grade</th>\n",
       "      <th>score</th>\n",
       "      <th>check</th>\n",
       "      <th>birth</th>\n",
       "    </tr>\n",
       "  </thead>\n",
       "  <tbody>\n",
       "    <tr>\n",
       "      <th>0</th>\n",
       "      <td>kor</td>\n",
       "      <td>1</td>\n",
       "      <td>A</td>\n",
       "      <td>100.0</td>\n",
       "      <td>pass</td>\n",
       "      <td>2020.07.15</td>\n",
       "    </tr>\n",
       "    <tr>\n",
       "      <th>1</th>\n",
       "      <td>usa</td>\n",
       "      <td>2</td>\n",
       "      <td>B</td>\n",
       "      <td>80.0</td>\n",
       "      <td>pass</td>\n",
       "      <td>2021.06.03</td>\n",
       "    </tr>\n",
       "    <tr>\n",
       "      <th>3</th>\n",
       "      <td>japan</td>\n",
       "      <td>4</td>\n",
       "      <td>D</td>\n",
       "      <td>40.0</td>\n",
       "      <td>pass</td>\n",
       "      <td>2023.02.04</td>\n",
       "    </tr>\n",
       "    <tr>\n",
       "      <th>2</th>\n",
       "      <td>china</td>\n",
       "      <td>3</td>\n",
       "      <td>C</td>\n",
       "      <td>NaN</td>\n",
       "      <td>pass</td>\n",
       "      <td>2023.05.05</td>\n",
       "    </tr>\n",
       "  </tbody>\n",
       "</table>\n",
       "</div>"
      ],
      "text/plain": [
       "  country  rank grade  score check       birth\n",
       "0     kor     1     A  100.0  pass  2020.07.15\n",
       "1     usa     2     B   80.0  pass  2021.06.03\n",
       "3   japan     4     D   40.0  pass  2023.02.04\n",
       "2   china     3     C    NaN  pass  2023.05.05"
      ]
     },
     "execution_count": 40,
     "metadata": {},
     "output_type": "execute_result"
    }
   ],
   "source": [
    "df.sort_values('birth')"
   ]
  },
  {
   "cell_type": "markdown",
   "metadata": {
    "id": "MaBRKiXjBajz"
   },
   "source": [
    "### merge()\n",
    "- merge 함수는 두 개 이상의 데이터프레임을 **특정 열(또는 열들)을 기준으로 합칠 때 사용**됩니다.\n",
    "- 데이터베이스의 테이블 조인과 유사하게 병합할 수 있습니다.\n",
    "- 매개변수: on, how, left, right 등\n",
    "- 이를 사용하여 어떤 열을 기준으로 병합할 것인지와 어떤 방식으로 병합할 것인지를 지정할 수 있습니다.\n"
   ]
  },
  {
   "cell_type": "code",
   "execution_count": 41,
   "metadata": {
    "colab": {
     "base_uri": "https://localhost:8080/",
     "height": 175
    },
    "executionInfo": {
     "elapsed": 1248,
     "status": "ok",
     "timestamp": 1680758746088,
     "user": {
      "displayName": "seungri soft",
      "userId": "02507643838407733197"
     },
     "user_tz": -540
    },
    "id": "inhI9tbaBTlf",
    "outputId": "4f6184de-d3ce-4cb7-fc1c-1eaf64aabb08"
   },
   "outputs": [
    {
     "data": {
      "text/html": [
       "<div>\n",
       "<style scoped>\n",
       "    .dataframe tbody tr th:only-of-type {\n",
       "        vertical-align: middle;\n",
       "    }\n",
       "\n",
       "    .dataframe tbody tr th {\n",
       "        vertical-align: top;\n",
       "    }\n",
       "\n",
       "    .dataframe thead th {\n",
       "        text-align: right;\n",
       "    }\n",
       "</style>\n",
       "<table border=\"1\" class=\"dataframe\">\n",
       "  <thead>\n",
       "    <tr style=\"text-align: right;\">\n",
       "      <th></th>\n",
       "      <th>고객번호</th>\n",
       "      <th>이름</th>\n",
       "    </tr>\n",
       "  </thead>\n",
       "  <tbody>\n",
       "    <tr>\n",
       "      <th>0</th>\n",
       "      <td>1001</td>\n",
       "      <td>LG</td>\n",
       "    </tr>\n",
       "    <tr>\n",
       "      <th>1</th>\n",
       "      <td>1002</td>\n",
       "      <td>Samsung</td>\n",
       "    </tr>\n",
       "    <tr>\n",
       "      <th>2</th>\n",
       "      <td>1003</td>\n",
       "      <td>Hyundai</td>\n",
       "    </tr>\n",
       "    <tr>\n",
       "      <th>3</th>\n",
       "      <td>1004</td>\n",
       "      <td>Kia</td>\n",
       "    </tr>\n",
       "  </tbody>\n",
       "</table>\n",
       "</div>"
      ],
      "text/plain": [
       "   고객번호       이름\n",
       "0  1001       LG\n",
       "1  1002  Samsung\n",
       "2  1003  Hyundai\n",
       "3  1004      Kia"
      ]
     },
     "execution_count": 41,
     "metadata": {},
     "output_type": "execute_result"
    }
   ],
   "source": [
    "data = {\n",
    "    \"고객번호\" : [1001, 1002, 1003, 1004],\n",
    "    '이름': ['LG', \"Samsung\", \"Hyundai\", \"Kia\"]}\n",
    "\n",
    "df1 = pd.DataFrame(data)\n",
    "df1"
   ]
  },
  {
   "cell_type": "code",
   "execution_count": 42,
   "metadata": {
    "colab": {
     "base_uri": "https://localhost:8080/",
     "height": 175
    },
    "executionInfo": {
     "elapsed": 1106,
     "status": "ok",
     "timestamp": 1680758864945,
     "user": {
      "displayName": "seungri soft",
      "userId": "02507643838407733197"
     },
     "user_tz": -540
    },
    "id": "XN7X2UJKByR9",
    "outputId": "038241cb-1162-4007-c4ea-f96f5e073a8a"
   },
   "outputs": [
    {
     "data": {
      "text/html": [
       "<div>\n",
       "<style scoped>\n",
       "    .dataframe tbody tr th:only-of-type {\n",
       "        vertical-align: middle;\n",
       "    }\n",
       "\n",
       "    .dataframe tbody tr th {\n",
       "        vertical-align: top;\n",
       "    }\n",
       "\n",
       "    .dataframe thead th {\n",
       "        text-align: right;\n",
       "    }\n",
       "</style>\n",
       "<table border=\"1\" class=\"dataframe\">\n",
       "  <thead>\n",
       "    <tr style=\"text-align: right;\">\n",
       "      <th></th>\n",
       "      <th>고객번호</th>\n",
       "      <th>시총</th>\n",
       "    </tr>\n",
       "  </thead>\n",
       "  <tbody>\n",
       "    <tr>\n",
       "      <th>0</th>\n",
       "      <td>1001</td>\n",
       "      <td>10조</td>\n",
       "    </tr>\n",
       "    <tr>\n",
       "      <th>1</th>\n",
       "      <td>1001</td>\n",
       "      <td>5조</td>\n",
       "    </tr>\n",
       "    <tr>\n",
       "      <th>2</th>\n",
       "      <td>1005</td>\n",
       "      <td>3조</td>\n",
       "    </tr>\n",
       "    <tr>\n",
       "      <th>3</th>\n",
       "      <td>1006</td>\n",
       "      <td>1조</td>\n",
       "    </tr>\n",
       "  </tbody>\n",
       "</table>\n",
       "</div>"
      ],
      "text/plain": [
       "   고객번호   시총\n",
       "0  1001  10조\n",
       "1  1001   5조\n",
       "2  1005   3조\n",
       "3  1006   1조"
      ]
     },
     "execution_count": 42,
     "metadata": {},
     "output_type": "execute_result"
    }
   ],
   "source": [
    "data = {\n",
    "    \"고객번호\" : [1001, 1001, 1005, 1006],\n",
    "    '시총': ['10조', \"5조\", \"3조\", \"1조\"]\n",
    "}\n",
    "\n",
    "df2 = pd.DataFrame(data)\n",
    "df2"
   ]
  },
  {
   "cell_type": "code",
   "execution_count": 43,
   "metadata": {
    "colab": {
     "base_uri": "https://localhost:8080/",
     "height": 269
    },
    "executionInfo": {
     "elapsed": 1386,
     "status": "ok",
     "timestamp": 1680758983670,
     "user": {
      "displayName": "seungri soft",
      "userId": "02507643838407733197"
     },
     "user_tz": -540
    },
    "id": "2j2Z4sPNCDqB",
    "outputId": "78388bc1-ef91-43d2-cd7b-e635e5b5038a"
   },
   "outputs": [],
   "source": [
    "# 왼쪽 데이터 프레임을 기준으로 오른쪽을 합친다.\n",
    "df = pd.merge(df1, df2, how='outer')\n",
    "\n",
    "df = pd.merge(df2, df1, how='outer') # 왼쪽 데이터 프레임을 기준으로 오른쪽"
   ]
  },
  {
   "cell_type": "code",
   "execution_count": 44,
   "metadata": {
    "colab": {
     "base_uri": "https://localhost:8080/",
     "height": 175
    },
    "executionInfo": {
     "elapsed": 421,
     "status": "ok",
     "timestamp": 1680759078056,
     "user": {
      "displayName": "seungri soft",
      "userId": "02507643838407733197"
     },
     "user_tz": -540
    },
    "id": "VLmf3FOrCVUI",
    "outputId": "08ba0553-ece1-49ab-e786-faa1a4cf5075"
   },
   "outputs": [
    {
     "data": {
      "text/html": [
       "<div>\n",
       "<style scoped>\n",
       "    .dataframe tbody tr th:only-of-type {\n",
       "        vertical-align: middle;\n",
       "    }\n",
       "\n",
       "    .dataframe tbody tr th {\n",
       "        vertical-align: top;\n",
       "    }\n",
       "\n",
       "    .dataframe thead th {\n",
       "        text-align: right;\n",
       "    }\n",
       "</style>\n",
       "<table border=\"1\" class=\"dataframe\">\n",
       "  <thead>\n",
       "    <tr style=\"text-align: right;\">\n",
       "      <th></th>\n",
       "      <th>고객번호</th>\n",
       "      <th>이름</th>\n",
       "      <th>시총</th>\n",
       "    </tr>\n",
       "  </thead>\n",
       "  <tbody>\n",
       "    <tr>\n",
       "      <th>0</th>\n",
       "      <td>1001</td>\n",
       "      <td>LG</td>\n",
       "      <td>10조</td>\n",
       "    </tr>\n",
       "    <tr>\n",
       "      <th>1</th>\n",
       "      <td>1001</td>\n",
       "      <td>LG</td>\n",
       "      <td>5조</td>\n",
       "    </tr>\n",
       "    <tr>\n",
       "      <th>2</th>\n",
       "      <td>1005</td>\n",
       "      <td>NaN</td>\n",
       "      <td>3조</td>\n",
       "    </tr>\n",
       "    <tr>\n",
       "      <th>3</th>\n",
       "      <td>1006</td>\n",
       "      <td>NaN</td>\n",
       "      <td>1조</td>\n",
       "    </tr>\n",
       "  </tbody>\n",
       "</table>\n",
       "</div>"
      ],
      "text/plain": [
       "   고객번호   이름   시총\n",
       "0  1001   LG  10조\n",
       "1  1001   LG   5조\n",
       "2  1005  NaN   3조\n",
       "3  1006  NaN   1조"
      ]
     },
     "execution_count": 44,
     "metadata": {},
     "output_type": "execute_result"
    }
   ],
   "source": [
    "pd.merge(df1, df2, how='right')"
   ]
  },
  {
   "cell_type": "code",
   "execution_count": 45,
   "metadata": {
    "id": "M3LYwZEPC57h"
   },
   "outputs": [],
   "source": [
    "df = pd.merge(df1, df2, how='outer')\n",
    "df.to_csv(\"result.csv\", encoding='utf-8-sig')"
   ]
  },
  {
   "cell_type": "code",
   "execution_count": 48,
   "metadata": {
    "id": "8fixb781G2zk"
   },
   "outputs": [
    {
     "data": {
      "text/html": [
       "<div>\n",
       "<style scoped>\n",
       "    .dataframe tbody tr th:only-of-type {\n",
       "        vertical-align: middle;\n",
       "    }\n",
       "\n",
       "    .dataframe tbody tr th {\n",
       "        vertical-align: top;\n",
       "    }\n",
       "\n",
       "    .dataframe thead th {\n",
       "        text-align: right;\n",
       "    }\n",
       "</style>\n",
       "<table border=\"1\" class=\"dataframe\">\n",
       "  <thead>\n",
       "    <tr style=\"text-align: right;\">\n",
       "      <th></th>\n",
       "      <th>고객번호</th>\n",
       "      <th>이름</th>\n",
       "      <th>시총</th>\n",
       "    </tr>\n",
       "  </thead>\n",
       "  <tbody>\n",
       "    <tr>\n",
       "      <th>0</th>\n",
       "      <td>1001</td>\n",
       "      <td>LG</td>\n",
       "      <td>10조</td>\n",
       "    </tr>\n",
       "    <tr>\n",
       "      <th>1</th>\n",
       "      <td>1001</td>\n",
       "      <td>LG</td>\n",
       "      <td>5조</td>\n",
       "    </tr>\n",
       "    <tr>\n",
       "      <th>2</th>\n",
       "      <td>1002</td>\n",
       "      <td>Samsung</td>\n",
       "      <td>NaN</td>\n",
       "    </tr>\n",
       "    <tr>\n",
       "      <th>3</th>\n",
       "      <td>1003</td>\n",
       "      <td>Hyundai</td>\n",
       "      <td>NaN</td>\n",
       "    </tr>\n",
       "    <tr>\n",
       "      <th>4</th>\n",
       "      <td>1004</td>\n",
       "      <td>Kia</td>\n",
       "      <td>NaN</td>\n",
       "    </tr>\n",
       "    <tr>\n",
       "      <th>5</th>\n",
       "      <td>1005</td>\n",
       "      <td>NaN</td>\n",
       "      <td>3조</td>\n",
       "    </tr>\n",
       "    <tr>\n",
       "      <th>6</th>\n",
       "      <td>1006</td>\n",
       "      <td>NaN</td>\n",
       "      <td>1조</td>\n",
       "    </tr>\n",
       "  </tbody>\n",
       "</table>\n",
       "</div>"
      ],
      "text/plain": [
       "   고객번호       이름   시총\n",
       "0  1001       LG  10조\n",
       "1  1001       LG   5조\n",
       "2  1002  Samsung  NaN\n",
       "3  1003  Hyundai  NaN\n",
       "4  1004      Kia  NaN\n",
       "5  1005      NaN   3조\n",
       "6  1006      NaN   1조"
      ]
     },
     "execution_count": 48,
     "metadata": {},
     "output_type": "execute_result"
    }
   ],
   "source": [
    "df_new = pd.read_csv(\"result.csv\", index_col=0)\n",
    "\n",
    "df_new"
   ]
  },
  {
   "cell_type": "markdown",
   "metadata": {
    "id": "1gtuDjz0ZCeV"
   },
   "source": [
    "### Concat()\n",
    "- concat 함수는 여러 개의 데이터프레임을 행 또는 열 방향으로 간단히 연결하고자 할 때 사용\n",
    "- 데이터프레임을 위아래로 쌓아 올리거나 좌우로 이어붙일 수 있습니다.\n"
   ]
  },
  {
   "cell_type": "code",
   "execution_count": 49,
   "metadata": {
    "colab": {
     "base_uri": "https://localhost:8080/"
    },
    "executionInfo": {
     "elapsed": 366,
     "status": "ok",
     "timestamp": 1682308370908,
     "user": {
      "displayName": "seungri soft",
      "userId": "02507643838407733197"
     },
     "user_tz": -540
    },
    "id": "anSmBVFrZCWZ",
    "outputId": "c5180b2b-7bff-434c-e070-43937f28a188"
   },
   "outputs": [
    {
     "data": {
      "text/html": [
       "<div>\n",
       "<style scoped>\n",
       "    .dataframe tbody tr th:only-of-type {\n",
       "        vertical-align: middle;\n",
       "    }\n",
       "\n",
       "    .dataframe tbody tr th {\n",
       "        vertical-align: top;\n",
       "    }\n",
       "\n",
       "    .dataframe thead th {\n",
       "        text-align: right;\n",
       "    }\n",
       "</style>\n",
       "<table border=\"1\" class=\"dataframe\">\n",
       "  <thead>\n",
       "    <tr style=\"text-align: right;\">\n",
       "      <th></th>\n",
       "      <th>A</th>\n",
       "      <th>B</th>\n",
       "    </tr>\n",
       "  </thead>\n",
       "  <tbody>\n",
       "    <tr>\n",
       "      <th>0</th>\n",
       "      <td>1</td>\n",
       "      <td>3</td>\n",
       "    </tr>\n",
       "    <tr>\n",
       "      <th>1</th>\n",
       "      <td>2</td>\n",
       "      <td>4</td>\n",
       "    </tr>\n",
       "    <tr>\n",
       "      <th>2</th>\n",
       "      <td>3</td>\n",
       "      <td>5</td>\n",
       "    </tr>\n",
       "    <tr>\n",
       "      <th>3</th>\n",
       "      <td>4</td>\n",
       "      <td>6</td>\n",
       "    </tr>\n",
       "  </tbody>\n",
       "</table>\n",
       "</div>"
      ],
      "text/plain": [
       "   A  B\n",
       "0  1  3\n",
       "1  2  4\n",
       "2  3  5\n",
       "3  4  6"
      ]
     },
     "execution_count": 49,
     "metadata": {},
     "output_type": "execute_result"
    }
   ],
   "source": [
    "import pandas as pd\n",
    "df1 = pd.DataFrame({\"A\": [1,2], \"B\": [3,4]})\n",
    "df2 = pd.DataFrame({\"A\": [3,4], \"B\": [5,6]})\n",
    "\n",
    "# display(df1, df2)\n",
    "\n",
    "# 세로로 합쳐보겠습니다.\n",
    "df_concat = pd.concat([df1, df2], ignore_index=True)\n",
    "df_concat"
   ]
  },
  {
   "cell_type": "code",
   "execution_count": 50,
   "metadata": {
    "colab": {
     "base_uri": "https://localhost:8080/"
    },
    "executionInfo": {
     "elapsed": 2,
     "status": "ok",
     "timestamp": 1682308377226,
     "user": {
      "displayName": "seungri soft",
      "userId": "02507643838407733197"
     },
     "user_tz": -540
    },
    "id": "5hG0SjUyDWVp",
    "outputId": "382d8664-f8ea-414d-ef62-8f94aca999b8"
   },
   "outputs": [
    {
     "name": "stdout",
     "output_type": "stream",
     "text": [
      "   A  B  C  D\n",
      "0  1  3  5  7\n",
      "1  2  4  6  8\n"
     ]
    }
   ],
   "source": [
    "import pandas as pd\n",
    "\n",
    "# 가로로 합치기\n",
    "df1 = pd.DataFrame({'A': [1, 2], 'B': [3, 4]})\n",
    "df2 = pd.DataFrame({'C': [5, 6], 'D': [7, 8]})\n",
    "result = pd.concat([df1, df2], axis=1)\n",
    "print(result)\n"
   ]
  },
  {
   "cell_type": "markdown",
   "metadata": {
    "id": "tiXN00eqEHaY"
   },
   "source": [
    "## 3. 판다스 연습문제"
   ]
  },
  {
   "cell_type": "code",
   "execution_count": 51,
   "metadata": {
    "colab": {
     "base_uri": "https://localhost:8080/",
     "height": 300
    },
    "collapsed": true,
    "executionInfo": {
     "elapsed": 467,
     "status": "ok",
     "timestamp": 1727871586581,
     "user": {
      "displayName": "seungri soft",
      "userId": "02507643838407733197"
     },
     "user_tz": -540
    },
    "id": "0NgmpXyuEJV2",
    "outputId": "67526cc3-c48a-496d-f3c9-8a5683cae121"
   },
   "outputs": [
    {
     "data": {
      "text/html": [
       "<div>\n",
       "<style scoped>\n",
       "    .dataframe tbody tr th:only-of-type {\n",
       "        vertical-align: middle;\n",
       "    }\n",
       "\n",
       "    .dataframe tbody tr th {\n",
       "        vertical-align: top;\n",
       "    }\n",
       "\n",
       "    .dataframe thead th {\n",
       "        text-align: right;\n",
       "    }\n",
       "</style>\n",
       "<table border=\"1\" class=\"dataframe\">\n",
       "  <thead>\n",
       "    <tr style=\"text-align: right;\">\n",
       "      <th></th>\n",
       "      <th>도서</th>\n",
       "      <th>출간 연도</th>\n",
       "      <th>판매량</th>\n",
       "      <th>평점</th>\n",
       "    </tr>\n",
       "  </thead>\n",
       "  <tbody>\n",
       "    <tr>\n",
       "      <th>0</th>\n",
       "      <td>해리포터</td>\n",
       "      <td>1997</td>\n",
       "      <td>120</td>\n",
       "      <td>9.7</td>\n",
       "    </tr>\n",
       "    <tr>\n",
       "      <th>1</th>\n",
       "      <td>반지의 제왕</td>\n",
       "      <td>1954</td>\n",
       "      <td>150</td>\n",
       "      <td>9.8</td>\n",
       "    </tr>\n",
       "    <tr>\n",
       "      <th>2</th>\n",
       "      <td>셜록홈즈</td>\n",
       "      <td>1892</td>\n",
       "      <td>80</td>\n",
       "      <td>9.3</td>\n",
       "    </tr>\n",
       "    <tr>\n",
       "      <th>3</th>\n",
       "      <td>노인과 바다</td>\n",
       "      <td>1952</td>\n",
       "      <td>50</td>\n",
       "      <td>8.6</td>\n",
       "    </tr>\n",
       "    <tr>\n",
       "      <th>4</th>\n",
       "      <td>죄와 벌</td>\n",
       "      <td>1866</td>\n",
       "      <td>65</td>\n",
       "      <td>9.2</td>\n",
       "    </tr>\n",
       "    <tr>\n",
       "      <th>5</th>\n",
       "      <td>1984</td>\n",
       "      <td>1949</td>\n",
       "      <td>100</td>\n",
       "      <td>9.5</td>\n",
       "    </tr>\n",
       "    <tr>\n",
       "      <th>6</th>\n",
       "      <td>위대한 개츠비</td>\n",
       "      <td>1925</td>\n",
       "      <td>45</td>\n",
       "      <td>8.4</td>\n",
       "    </tr>\n",
       "    <tr>\n",
       "      <th>7</th>\n",
       "      <td>호밀밭의 파수꾼</td>\n",
       "      <td>1951</td>\n",
       "      <td>70</td>\n",
       "      <td>8.9</td>\n",
       "    </tr>\n",
       "  </tbody>\n",
       "</table>\n",
       "</div>"
      ],
      "text/plain": [
       "         도서  출간 연도  판매량   평점\n",
       "0      해리포터   1997  120  9.7\n",
       "1    반지의 제왕   1954  150  9.8\n",
       "2      셜록홈즈   1892   80  9.3\n",
       "3    노인과 바다   1952   50  8.6\n",
       "4      죄와 벌   1866   65  9.2\n",
       "5      1984   1949  100  9.5\n",
       "6   위대한 개츠비   1925   45  8.4\n",
       "7  호밀밭의 파수꾼   1951   70  8.9"
      ]
     },
     "execution_count": 51,
     "metadata": {},
     "output_type": "execute_result"
    }
   ],
   "source": [
    "import pandas as pd\n",
    "\n",
    "data = {\n",
    "    '도서': ['해리포터', '반지의 제왕', '셜록홈즈', '노인과 바다', '죄와 벌', '1984', '위대한 개츠비', '호밀밭의 파수꾼'],\n",
    "    '출간 연도': [1997, 1954, 1892, 1952, 1866, 1949, 1925, 1951],\n",
    "    '판매량': [120, 150, 80, 50, 65, 100, 45, 70],  # (단위: 백만 부)\n",
    "    '평점': [9.7, 9.8, 9.3, 8.6, 9.2, 9.5, 8.4, 8.9]\n",
    "}\n",
    "\n",
    "df = pd.DataFrame(data)\n",
    "df"
   ]
  },
  {
   "cell_type": "markdown",
   "metadata": {
    "id": "SpEzXqDRM4xO"
   },
   "source": [
    "### 초급 문제\n",
    "\n",
    "1. 전체 데이터 중에서 '도서' 정보만 출력하시오.\n",
    "2. 전체 데이터 중에서 '도서', '평점' 정보를 출력하시오.\n",
    "3. 출간 연도가 1950년 이후인 도서의 데이터를 출력하시오."
   ]
  },
  {
   "cell_type": "code",
   "execution_count": null,
   "metadata": {},
   "outputs": [
    {
     "data": {
      "text/html": [
       "<div>\n",
       "<style scoped>\n",
       "    .dataframe tbody tr th:only-of-type {\n",
       "        vertical-align: middle;\n",
       "    }\n",
       "\n",
       "    .dataframe tbody tr th {\n",
       "        vertical-align: top;\n",
       "    }\n",
       "\n",
       "    .dataframe thead th {\n",
       "        text-align: right;\n",
       "    }\n",
       "</style>\n",
       "<table border=\"1\" class=\"dataframe\">\n",
       "  <thead>\n",
       "    <tr style=\"text-align: right;\">\n",
       "      <th></th>\n",
       "      <th>도서</th>\n",
       "    </tr>\n",
       "  </thead>\n",
       "  <tbody>\n",
       "    <tr>\n",
       "      <th>0</th>\n",
       "      <td>해리포터</td>\n",
       "    </tr>\n",
       "    <tr>\n",
       "      <th>1</th>\n",
       "      <td>반지의 제왕</td>\n",
       "    </tr>\n",
       "    <tr>\n",
       "      <th>2</th>\n",
       "      <td>셜록홈즈</td>\n",
       "    </tr>\n",
       "    <tr>\n",
       "      <th>3</th>\n",
       "      <td>노인과 바다</td>\n",
       "    </tr>\n",
       "    <tr>\n",
       "      <th>4</th>\n",
       "      <td>죄와 벌</td>\n",
       "    </tr>\n",
       "    <tr>\n",
       "      <th>5</th>\n",
       "      <td>1984</td>\n",
       "    </tr>\n",
       "    <tr>\n",
       "      <th>6</th>\n",
       "      <td>위대한 개츠비</td>\n",
       "    </tr>\n",
       "    <tr>\n",
       "      <th>7</th>\n",
       "      <td>호밀밭의 파수꾼</td>\n",
       "    </tr>\n",
       "  </tbody>\n",
       "</table>\n",
       "</div>"
      ],
      "text/plain": [
       "         도서\n",
       "0      해리포터\n",
       "1    반지의 제왕\n",
       "2      셜록홈즈\n",
       "3    노인과 바다\n",
       "4      죄와 벌\n",
       "5      1984\n",
       "6   위대한 개츠비\n",
       "7  호밀밭의 파수꾼"
      ]
     },
     "execution_count": 53,
     "metadata": {},
     "output_type": "execute_result"
    }
   ],
   "source": [
    "# 문제 1\n",
    "df[['도서']]"
   ]
  },
  {
   "cell_type": "code",
   "execution_count": null,
   "metadata": {},
   "outputs": [
    {
     "data": {
      "text/html": [
       "<div>\n",
       "<style scoped>\n",
       "    .dataframe tbody tr th:only-of-type {\n",
       "        vertical-align: middle;\n",
       "    }\n",
       "\n",
       "    .dataframe tbody tr th {\n",
       "        vertical-align: top;\n",
       "    }\n",
       "\n",
       "    .dataframe thead th {\n",
       "        text-align: right;\n",
       "    }\n",
       "</style>\n",
       "<table border=\"1\" class=\"dataframe\">\n",
       "  <thead>\n",
       "    <tr style=\"text-align: right;\">\n",
       "      <th></th>\n",
       "      <th>도서</th>\n",
       "      <th>평점</th>\n",
       "    </tr>\n",
       "  </thead>\n",
       "  <tbody>\n",
       "    <tr>\n",
       "      <th>0</th>\n",
       "      <td>해리포터</td>\n",
       "      <td>9.7</td>\n",
       "    </tr>\n",
       "    <tr>\n",
       "      <th>1</th>\n",
       "      <td>반지의 제왕</td>\n",
       "      <td>9.8</td>\n",
       "    </tr>\n",
       "    <tr>\n",
       "      <th>2</th>\n",
       "      <td>셜록홈즈</td>\n",
       "      <td>9.3</td>\n",
       "    </tr>\n",
       "    <tr>\n",
       "      <th>3</th>\n",
       "      <td>노인과 바다</td>\n",
       "      <td>8.6</td>\n",
       "    </tr>\n",
       "    <tr>\n",
       "      <th>4</th>\n",
       "      <td>죄와 벌</td>\n",
       "      <td>9.2</td>\n",
       "    </tr>\n",
       "    <tr>\n",
       "      <th>5</th>\n",
       "      <td>1984</td>\n",
       "      <td>9.5</td>\n",
       "    </tr>\n",
       "    <tr>\n",
       "      <th>6</th>\n",
       "      <td>위대한 개츠비</td>\n",
       "      <td>8.4</td>\n",
       "    </tr>\n",
       "    <tr>\n",
       "      <th>7</th>\n",
       "      <td>호밀밭의 파수꾼</td>\n",
       "      <td>8.9</td>\n",
       "    </tr>\n",
       "  </tbody>\n",
       "</table>\n",
       "</div>"
      ],
      "text/plain": [
       "         도서   평점\n",
       "0      해리포터  9.7\n",
       "1    반지의 제왕  9.8\n",
       "2      셜록홈즈  9.3\n",
       "3    노인과 바다  8.6\n",
       "4      죄와 벌  9.2\n",
       "5      1984  9.5\n",
       "6   위대한 개츠비  8.4\n",
       "7  호밀밭의 파수꾼  8.9"
      ]
     },
     "execution_count": 54,
     "metadata": {},
     "output_type": "execute_result"
    }
   ],
   "source": [
    "# 문제 2\n",
    "df[['도서', '평점']]"
   ]
  },
  {
   "cell_type": "code",
   "execution_count": 74,
   "metadata": {},
   "outputs": [
    {
     "data": {
      "text/html": [
       "<div>\n",
       "<style scoped>\n",
       "    .dataframe tbody tr th:only-of-type {\n",
       "        vertical-align: middle;\n",
       "    }\n",
       "\n",
       "    .dataframe tbody tr th {\n",
       "        vertical-align: top;\n",
       "    }\n",
       "\n",
       "    .dataframe thead th {\n",
       "        text-align: right;\n",
       "    }\n",
       "</style>\n",
       "<table border=\"1\" class=\"dataframe\">\n",
       "  <thead>\n",
       "    <tr style=\"text-align: right;\">\n",
       "      <th></th>\n",
       "      <th>도서</th>\n",
       "      <th>출간 연도</th>\n",
       "      <th>판매량</th>\n",
       "      <th>평점</th>\n",
       "      <th>추천 점수</th>\n",
       "    </tr>\n",
       "  </thead>\n",
       "  <tbody>\n",
       "    <tr>\n",
       "      <th>0</th>\n",
       "      <td>해리포터</td>\n",
       "      <td>1997</td>\n",
       "      <td>120</td>\n",
       "      <td>9.7</td>\n",
       "      <td>116.4</td>\n",
       "    </tr>\n",
       "    <tr>\n",
       "      <th>1</th>\n",
       "      <td>반지의 제왕</td>\n",
       "      <td>1954</td>\n",
       "      <td>150</td>\n",
       "      <td>9.8</td>\n",
       "      <td>147.0</td>\n",
       "    </tr>\n",
       "    <tr>\n",
       "      <th>3</th>\n",
       "      <td>노인과 바다</td>\n",
       "      <td>1952</td>\n",
       "      <td>50</td>\n",
       "      <td>8.6</td>\n",
       "      <td>43.0</td>\n",
       "    </tr>\n",
       "    <tr>\n",
       "      <th>7</th>\n",
       "      <td>호밀밭의 파수꾼</td>\n",
       "      <td>1951</td>\n",
       "      <td>70</td>\n",
       "      <td>8.9</td>\n",
       "      <td>62.3</td>\n",
       "    </tr>\n",
       "  </tbody>\n",
       "</table>\n",
       "</div>"
      ],
      "text/plain": [
       "         도서  출간 연도  판매량   평점  추천 점수\n",
       "0      해리포터   1997  120  9.7  116.4\n",
       "1    반지의 제왕   1954  150  9.8  147.0\n",
       "3    노인과 바다   1952   50  8.6   43.0\n",
       "7  호밀밭의 파수꾼   1951   70  8.9   62.3"
      ]
     },
     "execution_count": 74,
     "metadata": {},
     "output_type": "execute_result"
    }
   ],
   "source": [
    "# 문제 3\n",
    "df[df['출간 연도'] >= 1950]"
   ]
  },
  {
   "cell_type": "markdown",
   "metadata": {
    "id": "2on_k69N7qGc"
   },
   "source": [
    "---\n",
    "\n",
    "### 중급 문제\n",
    "\n",
    "1. '판매량'이 100만 부 이상인 도서의 '도서', '판매량' 정보를 출력하시오.\n",
    "2. 주어진 계산식을 참고하여 '추천 점수' 컬럼을 추가하시오.\n",
    "    - 추천 점수 = (판매량 * 평점) // 10\n",
    "3. 전체 데이터를 '추천 점수' 기준 내림차순으로 정렬하여 출력하시오.\n",
    "4. '출간 연도'를 기준으로 데이터를 오름차순 정렬하여 출력하시오.\n",
    "\n",
    "---\n"
   ]
  },
  {
   "cell_type": "code",
   "execution_count": null,
   "metadata": {},
   "outputs": [
    {
     "data": {
      "text/html": [
       "<div>\n",
       "<style scoped>\n",
       "    .dataframe tbody tr th:only-of-type {\n",
       "        vertical-align: middle;\n",
       "    }\n",
       "\n",
       "    .dataframe tbody tr th {\n",
       "        vertical-align: top;\n",
       "    }\n",
       "\n",
       "    .dataframe thead th {\n",
       "        text-align: right;\n",
       "    }\n",
       "</style>\n",
       "<table border=\"1\" class=\"dataframe\">\n",
       "  <thead>\n",
       "    <tr style=\"text-align: right;\">\n",
       "      <th></th>\n",
       "      <th>도서</th>\n",
       "      <th>판매량</th>\n",
       "    </tr>\n",
       "  </thead>\n",
       "  <tbody>\n",
       "    <tr>\n",
       "      <th>0</th>\n",
       "      <td>해리포터</td>\n",
       "      <td>120</td>\n",
       "    </tr>\n",
       "    <tr>\n",
       "      <th>1</th>\n",
       "      <td>반지의 제왕</td>\n",
       "      <td>150</td>\n",
       "    </tr>\n",
       "    <tr>\n",
       "      <th>5</th>\n",
       "      <td>1984</td>\n",
       "      <td>100</td>\n",
       "    </tr>\n",
       "  </tbody>\n",
       "</table>\n",
       "</div>"
      ],
      "text/plain": [
       "       도서  판매량\n",
       "0    해리포터  120\n",
       "1  반지의 제왕  150\n",
       "5    1984  100"
      ]
     },
     "execution_count": 59,
     "metadata": {},
     "output_type": "execute_result"
    }
   ],
   "source": [
    "# 문제 1\n",
    "df[df['판매량'] >= 100][['도서', '판매량']]"
   ]
  },
  {
   "cell_type": "code",
   "execution_count": 61,
   "metadata": {},
   "outputs": [
    {
     "data": {
      "text/html": [
       "<div>\n",
       "<style scoped>\n",
       "    .dataframe tbody tr th:only-of-type {\n",
       "        vertical-align: middle;\n",
       "    }\n",
       "\n",
       "    .dataframe tbody tr th {\n",
       "        vertical-align: top;\n",
       "    }\n",
       "\n",
       "    .dataframe thead th {\n",
       "        text-align: right;\n",
       "    }\n",
       "</style>\n",
       "<table border=\"1\" class=\"dataframe\">\n",
       "  <thead>\n",
       "    <tr style=\"text-align: right;\">\n",
       "      <th></th>\n",
       "      <th>도서</th>\n",
       "      <th>출간 연도</th>\n",
       "      <th>판매량</th>\n",
       "      <th>평점</th>\n",
       "      <th>추천 점수</th>\n",
       "    </tr>\n",
       "  </thead>\n",
       "  <tbody>\n",
       "    <tr>\n",
       "      <th>0</th>\n",
       "      <td>해리포터</td>\n",
       "      <td>1997</td>\n",
       "      <td>120</td>\n",
       "      <td>9.7</td>\n",
       "      <td>116.4</td>\n",
       "    </tr>\n",
       "    <tr>\n",
       "      <th>1</th>\n",
       "      <td>반지의 제왕</td>\n",
       "      <td>1954</td>\n",
       "      <td>150</td>\n",
       "      <td>9.8</td>\n",
       "      <td>147.0</td>\n",
       "    </tr>\n",
       "    <tr>\n",
       "      <th>2</th>\n",
       "      <td>셜록홈즈</td>\n",
       "      <td>1892</td>\n",
       "      <td>80</td>\n",
       "      <td>9.3</td>\n",
       "      <td>74.4</td>\n",
       "    </tr>\n",
       "    <tr>\n",
       "      <th>3</th>\n",
       "      <td>노인과 바다</td>\n",
       "      <td>1952</td>\n",
       "      <td>50</td>\n",
       "      <td>8.6</td>\n",
       "      <td>43.0</td>\n",
       "    </tr>\n",
       "    <tr>\n",
       "      <th>4</th>\n",
       "      <td>죄와 벌</td>\n",
       "      <td>1866</td>\n",
       "      <td>65</td>\n",
       "      <td>9.2</td>\n",
       "      <td>59.8</td>\n",
       "    </tr>\n",
       "    <tr>\n",
       "      <th>5</th>\n",
       "      <td>1984</td>\n",
       "      <td>1949</td>\n",
       "      <td>100</td>\n",
       "      <td>9.5</td>\n",
       "      <td>95.0</td>\n",
       "    </tr>\n",
       "    <tr>\n",
       "      <th>6</th>\n",
       "      <td>위대한 개츠비</td>\n",
       "      <td>1925</td>\n",
       "      <td>45</td>\n",
       "      <td>8.4</td>\n",
       "      <td>37.8</td>\n",
       "    </tr>\n",
       "    <tr>\n",
       "      <th>7</th>\n",
       "      <td>호밀밭의 파수꾼</td>\n",
       "      <td>1951</td>\n",
       "      <td>70</td>\n",
       "      <td>8.9</td>\n",
       "      <td>62.3</td>\n",
       "    </tr>\n",
       "  </tbody>\n",
       "</table>\n",
       "</div>"
      ],
      "text/plain": [
       "         도서  출간 연도  판매량   평점  추천 점수\n",
       "0      해리포터   1997  120  9.7  116.4\n",
       "1    반지의 제왕   1954  150  9.8  147.0\n",
       "2      셜록홈즈   1892   80  9.3   74.4\n",
       "3    노인과 바다   1952   50  8.6   43.0\n",
       "4      죄와 벌   1866   65  9.2   59.8\n",
       "5      1984   1949  100  9.5   95.0\n",
       "6   위대한 개츠비   1925   45  8.4   37.8\n",
       "7  호밀밭의 파수꾼   1951   70  8.9   62.3"
      ]
     },
     "execution_count": 61,
     "metadata": {},
     "output_type": "execute_result"
    }
   ],
   "source": [
    "# 문제 2\n",
    "df['추천 점수'] = (df['판매량'] * df['평점']) / 10\n",
    "df"
   ]
  },
  {
   "cell_type": "code",
   "execution_count": 62,
   "metadata": {},
   "outputs": [
    {
     "data": {
      "text/html": [
       "<div>\n",
       "<style scoped>\n",
       "    .dataframe tbody tr th:only-of-type {\n",
       "        vertical-align: middle;\n",
       "    }\n",
       "\n",
       "    .dataframe tbody tr th {\n",
       "        vertical-align: top;\n",
       "    }\n",
       "\n",
       "    .dataframe thead th {\n",
       "        text-align: right;\n",
       "    }\n",
       "</style>\n",
       "<table border=\"1\" class=\"dataframe\">\n",
       "  <thead>\n",
       "    <tr style=\"text-align: right;\">\n",
       "      <th></th>\n",
       "      <th>도서</th>\n",
       "      <th>출간 연도</th>\n",
       "      <th>판매량</th>\n",
       "      <th>평점</th>\n",
       "      <th>추천 점수</th>\n",
       "    </tr>\n",
       "  </thead>\n",
       "  <tbody>\n",
       "    <tr>\n",
       "      <th>1</th>\n",
       "      <td>반지의 제왕</td>\n",
       "      <td>1954</td>\n",
       "      <td>150</td>\n",
       "      <td>9.8</td>\n",
       "      <td>147.0</td>\n",
       "    </tr>\n",
       "    <tr>\n",
       "      <th>0</th>\n",
       "      <td>해리포터</td>\n",
       "      <td>1997</td>\n",
       "      <td>120</td>\n",
       "      <td>9.7</td>\n",
       "      <td>116.4</td>\n",
       "    </tr>\n",
       "    <tr>\n",
       "      <th>5</th>\n",
       "      <td>1984</td>\n",
       "      <td>1949</td>\n",
       "      <td>100</td>\n",
       "      <td>9.5</td>\n",
       "      <td>95.0</td>\n",
       "    </tr>\n",
       "    <tr>\n",
       "      <th>2</th>\n",
       "      <td>셜록홈즈</td>\n",
       "      <td>1892</td>\n",
       "      <td>80</td>\n",
       "      <td>9.3</td>\n",
       "      <td>74.4</td>\n",
       "    </tr>\n",
       "    <tr>\n",
       "      <th>7</th>\n",
       "      <td>호밀밭의 파수꾼</td>\n",
       "      <td>1951</td>\n",
       "      <td>70</td>\n",
       "      <td>8.9</td>\n",
       "      <td>62.3</td>\n",
       "    </tr>\n",
       "    <tr>\n",
       "      <th>4</th>\n",
       "      <td>죄와 벌</td>\n",
       "      <td>1866</td>\n",
       "      <td>65</td>\n",
       "      <td>9.2</td>\n",
       "      <td>59.8</td>\n",
       "    </tr>\n",
       "    <tr>\n",
       "      <th>3</th>\n",
       "      <td>노인과 바다</td>\n",
       "      <td>1952</td>\n",
       "      <td>50</td>\n",
       "      <td>8.6</td>\n",
       "      <td>43.0</td>\n",
       "    </tr>\n",
       "    <tr>\n",
       "      <th>6</th>\n",
       "      <td>위대한 개츠비</td>\n",
       "      <td>1925</td>\n",
       "      <td>45</td>\n",
       "      <td>8.4</td>\n",
       "      <td>37.8</td>\n",
       "    </tr>\n",
       "  </tbody>\n",
       "</table>\n",
       "</div>"
      ],
      "text/plain": [
       "         도서  출간 연도  판매량   평점  추천 점수\n",
       "1    반지의 제왕   1954  150  9.8  147.0\n",
       "0      해리포터   1997  120  9.7  116.4\n",
       "5      1984   1949  100  9.5   95.0\n",
       "2      셜록홈즈   1892   80  9.3   74.4\n",
       "7  호밀밭의 파수꾼   1951   70  8.9   62.3\n",
       "4      죄와 벌   1866   65  9.2   59.8\n",
       "3    노인과 바다   1952   50  8.6   43.0\n",
       "6   위대한 개츠비   1925   45  8.4   37.8"
      ]
     },
     "execution_count": 62,
     "metadata": {},
     "output_type": "execute_result"
    }
   ],
   "source": [
    "# 문제 3\n",
    "df.sort_values(by=['추천 점수'], ascending=False)"
   ]
  },
  {
   "cell_type": "code",
   "execution_count": 63,
   "metadata": {},
   "outputs": [
    {
     "data": {
      "text/html": [
       "<div>\n",
       "<style scoped>\n",
       "    .dataframe tbody tr th:only-of-type {\n",
       "        vertical-align: middle;\n",
       "    }\n",
       "\n",
       "    .dataframe tbody tr th {\n",
       "        vertical-align: top;\n",
       "    }\n",
       "\n",
       "    .dataframe thead th {\n",
       "        text-align: right;\n",
       "    }\n",
       "</style>\n",
       "<table border=\"1\" class=\"dataframe\">\n",
       "  <thead>\n",
       "    <tr style=\"text-align: right;\">\n",
       "      <th></th>\n",
       "      <th>도서</th>\n",
       "      <th>출간 연도</th>\n",
       "      <th>판매량</th>\n",
       "      <th>평점</th>\n",
       "      <th>추천 점수</th>\n",
       "    </tr>\n",
       "  </thead>\n",
       "  <tbody>\n",
       "    <tr>\n",
       "      <th>4</th>\n",
       "      <td>죄와 벌</td>\n",
       "      <td>1866</td>\n",
       "      <td>65</td>\n",
       "      <td>9.2</td>\n",
       "      <td>59.8</td>\n",
       "    </tr>\n",
       "    <tr>\n",
       "      <th>2</th>\n",
       "      <td>셜록홈즈</td>\n",
       "      <td>1892</td>\n",
       "      <td>80</td>\n",
       "      <td>9.3</td>\n",
       "      <td>74.4</td>\n",
       "    </tr>\n",
       "    <tr>\n",
       "      <th>6</th>\n",
       "      <td>위대한 개츠비</td>\n",
       "      <td>1925</td>\n",
       "      <td>45</td>\n",
       "      <td>8.4</td>\n",
       "      <td>37.8</td>\n",
       "    </tr>\n",
       "    <tr>\n",
       "      <th>5</th>\n",
       "      <td>1984</td>\n",
       "      <td>1949</td>\n",
       "      <td>100</td>\n",
       "      <td>9.5</td>\n",
       "      <td>95.0</td>\n",
       "    </tr>\n",
       "    <tr>\n",
       "      <th>7</th>\n",
       "      <td>호밀밭의 파수꾼</td>\n",
       "      <td>1951</td>\n",
       "      <td>70</td>\n",
       "      <td>8.9</td>\n",
       "      <td>62.3</td>\n",
       "    </tr>\n",
       "    <tr>\n",
       "      <th>3</th>\n",
       "      <td>노인과 바다</td>\n",
       "      <td>1952</td>\n",
       "      <td>50</td>\n",
       "      <td>8.6</td>\n",
       "      <td>43.0</td>\n",
       "    </tr>\n",
       "    <tr>\n",
       "      <th>1</th>\n",
       "      <td>반지의 제왕</td>\n",
       "      <td>1954</td>\n",
       "      <td>150</td>\n",
       "      <td>9.8</td>\n",
       "      <td>147.0</td>\n",
       "    </tr>\n",
       "    <tr>\n",
       "      <th>0</th>\n",
       "      <td>해리포터</td>\n",
       "      <td>1997</td>\n",
       "      <td>120</td>\n",
       "      <td>9.7</td>\n",
       "      <td>116.4</td>\n",
       "    </tr>\n",
       "  </tbody>\n",
       "</table>\n",
       "</div>"
      ],
      "text/plain": [
       "         도서  출간 연도  판매량   평점  추천 점수\n",
       "4      죄와 벌   1866   65  9.2   59.8\n",
       "2      셜록홈즈   1892   80  9.3   74.4\n",
       "6   위대한 개츠비   1925   45  8.4   37.8\n",
       "5      1984   1949  100  9.5   95.0\n",
       "7  호밀밭의 파수꾼   1951   70  8.9   62.3\n",
       "3    노인과 바다   1952   50  8.6   43.0\n",
       "1    반지의 제왕   1954  150  9.8  147.0\n",
       "0      해리포터   1997  120  9.7  116.4"
      ]
     },
     "execution_count": 63,
     "metadata": {},
     "output_type": "execute_result"
    }
   ],
   "source": [
    "# 문제 4\n",
    "df.sort_values(by=['출간 연도'])"
   ]
  },
  {
   "cell_type": "markdown",
   "metadata": {
    "id": "va_K9lt57sHh"
   },
   "source": [
    "\n",
    "### 고급 문제\n",
    "\n",
    "1. '평점'이 가장 높은 도서를 찾고, 해당 도서의 모든 정보를 출력하시오.\n",
    "2. '판매량'의 평균을 계산하고, 평균 이상의 판매량을 기록한 도서 데이터를 출력하시오.\n",
    "3. 출간 연도가 1900년부터 1950년 사이인 도서를 필터링하고, '도서', '출간 연도', '평점' 정보를 출력하시오."
   ]
  },
  {
   "cell_type": "code",
   "execution_count": 69,
   "metadata": {},
   "outputs": [
    {
     "data": {
      "text/html": [
       "<div>\n",
       "<style scoped>\n",
       "    .dataframe tbody tr th:only-of-type {\n",
       "        vertical-align: middle;\n",
       "    }\n",
       "\n",
       "    .dataframe tbody tr th {\n",
       "        vertical-align: top;\n",
       "    }\n",
       "\n",
       "    .dataframe thead th {\n",
       "        text-align: right;\n",
       "    }\n",
       "</style>\n",
       "<table border=\"1\" class=\"dataframe\">\n",
       "  <thead>\n",
       "    <tr style=\"text-align: right;\">\n",
       "      <th></th>\n",
       "      <th>도서</th>\n",
       "      <th>출간 연도</th>\n",
       "      <th>판매량</th>\n",
       "      <th>평점</th>\n",
       "      <th>추천 점수</th>\n",
       "    </tr>\n",
       "  </thead>\n",
       "  <tbody>\n",
       "    <tr>\n",
       "      <th>1</th>\n",
       "      <td>반지의 제왕</td>\n",
       "      <td>1954</td>\n",
       "      <td>150</td>\n",
       "      <td>9.8</td>\n",
       "      <td>147.0</td>\n",
       "    </tr>\n",
       "  </tbody>\n",
       "</table>\n",
       "</div>"
      ],
      "text/plain": [
       "       도서  출간 연도  판매량   평점  추천 점수\n",
       "1  반지의 제왕   1954  150  9.8  147.0"
      ]
     },
     "execution_count": 69,
     "metadata": {},
     "output_type": "execute_result"
    }
   ],
   "source": [
    "# 문제 1\n",
    "max_score = df['평점'].max()\n",
    "df[df['평점'] >= max_score]"
   ]
  },
  {
   "cell_type": "code",
   "execution_count": 72,
   "metadata": {},
   "outputs": [
    {
     "data": {
      "text/html": [
       "<div>\n",
       "<style scoped>\n",
       "    .dataframe tbody tr th:only-of-type {\n",
       "        vertical-align: middle;\n",
       "    }\n",
       "\n",
       "    .dataframe tbody tr th {\n",
       "        vertical-align: top;\n",
       "    }\n",
       "\n",
       "    .dataframe thead th {\n",
       "        text-align: right;\n",
       "    }\n",
       "</style>\n",
       "<table border=\"1\" class=\"dataframe\">\n",
       "  <thead>\n",
       "    <tr style=\"text-align: right;\">\n",
       "      <th></th>\n",
       "      <th>도서</th>\n",
       "    </tr>\n",
       "  </thead>\n",
       "  <tbody>\n",
       "    <tr>\n",
       "      <th>0</th>\n",
       "      <td>해리포터</td>\n",
       "    </tr>\n",
       "    <tr>\n",
       "      <th>1</th>\n",
       "      <td>반지의 제왕</td>\n",
       "    </tr>\n",
       "    <tr>\n",
       "      <th>5</th>\n",
       "      <td>1984</td>\n",
       "    </tr>\n",
       "  </tbody>\n",
       "</table>\n",
       "</div>"
      ],
      "text/plain": [
       "       도서\n",
       "0    해리포터\n",
       "1  반지의 제왕\n",
       "5    1984"
      ]
     },
     "execution_count": 72,
     "metadata": {},
     "output_type": "execute_result"
    }
   ],
   "source": [
    "# 문제 2\n",
    "mean_score = df['판매량'].mean()\n",
    "df[df['판매량'] >= mean_score][['도서']]"
   ]
  },
  {
   "cell_type": "code",
   "execution_count": 73,
   "metadata": {},
   "outputs": [
    {
     "data": {
      "text/html": [
       "<div>\n",
       "<style scoped>\n",
       "    .dataframe tbody tr th:only-of-type {\n",
       "        vertical-align: middle;\n",
       "    }\n",
       "\n",
       "    .dataframe tbody tr th {\n",
       "        vertical-align: top;\n",
       "    }\n",
       "\n",
       "    .dataframe thead th {\n",
       "        text-align: right;\n",
       "    }\n",
       "</style>\n",
       "<table border=\"1\" class=\"dataframe\">\n",
       "  <thead>\n",
       "    <tr style=\"text-align: right;\">\n",
       "      <th></th>\n",
       "      <th>도서</th>\n",
       "      <th>출간 연도</th>\n",
       "      <th>평점</th>\n",
       "    </tr>\n",
       "  </thead>\n",
       "  <tbody>\n",
       "    <tr>\n",
       "      <th>5</th>\n",
       "      <td>1984</td>\n",
       "      <td>1949</td>\n",
       "      <td>9.5</td>\n",
       "    </tr>\n",
       "    <tr>\n",
       "      <th>6</th>\n",
       "      <td>위대한 개츠비</td>\n",
       "      <td>1925</td>\n",
       "      <td>8.4</td>\n",
       "    </tr>\n",
       "  </tbody>\n",
       "</table>\n",
       "</div>"
      ],
      "text/plain": [
       "        도서  출간 연도   평점\n",
       "5     1984   1949  9.5\n",
       "6  위대한 개츠비   1925  8.4"
      ]
     },
     "execution_count": 73,
     "metadata": {},
     "output_type": "execute_result"
    }
   ],
   "source": [
    "# 문제 3\n",
    "filter_df = df[(df['출간 연도'] >= 1900) & (df['출간 연도'] <= 1950)]\n",
    "filter_df[['도서', '출간 연도', '평점']]"
   ]
  },
  {
   "cell_type": "markdown",
   "metadata": {
    "id": "1Flq47MbBkhF"
   },
   "source": [
    "## 와인 데이터"
   ]
  },
  {
   "cell_type": "code",
   "execution_count": 83,
   "metadata": {
    "colab": {
     "base_uri": "https://localhost:8080/",
     "height": 478
    },
    "collapsed": true,
    "executionInfo": {
     "elapsed": 352,
     "status": "ok",
     "timestamp": 1727872584830,
     "user": {
      "displayName": "seungri soft",
      "userId": "02507643838407733197"
     },
     "user_tz": -540
    },
    "id": "tiqopY35OrZb",
    "outputId": "b2028056-d8e3-4402-91f4-adb51f21e5d2"
   },
   "outputs": [
    {
     "data": {
      "text/html": [
       "<div>\n",
       "<style scoped>\n",
       "    .dataframe tbody tr th:only-of-type {\n",
       "        vertical-align: middle;\n",
       "    }\n",
       "\n",
       "    .dataframe tbody tr th {\n",
       "        vertical-align: top;\n",
       "    }\n",
       "\n",
       "    .dataframe thead th {\n",
       "        text-align: right;\n",
       "    }\n",
       "</style>\n",
       "<table border=\"1\" class=\"dataframe\">\n",
       "  <thead>\n",
       "    <tr style=\"text-align: right;\">\n",
       "      <th></th>\n",
       "      <th>type</th>\n",
       "      <th>fixed acidity</th>\n",
       "      <th>volatile acidity</th>\n",
       "      <th>citric acid</th>\n",
       "      <th>residual sugar</th>\n",
       "      <th>chlorides</th>\n",
       "      <th>free sulfur dioxide</th>\n",
       "      <th>total sulfur dioxide</th>\n",
       "      <th>density</th>\n",
       "      <th>pH</th>\n",
       "      <th>sulphates</th>\n",
       "      <th>alcohol</th>\n",
       "      <th>quality</th>\n",
       "    </tr>\n",
       "  </thead>\n",
       "  <tbody>\n",
       "    <tr>\n",
       "      <th>0</th>\n",
       "      <td>white</td>\n",
       "      <td>7.0</td>\n",
       "      <td>0.270</td>\n",
       "      <td>0.36</td>\n",
       "      <td>20.7</td>\n",
       "      <td>0.045</td>\n",
       "      <td>45.0</td>\n",
       "      <td>170.0</td>\n",
       "      <td>1.00100</td>\n",
       "      <td>3.00</td>\n",
       "      <td>0.45</td>\n",
       "      <td>8.8</td>\n",
       "      <td>6</td>\n",
       "    </tr>\n",
       "    <tr>\n",
       "      <th>1</th>\n",
       "      <td>white</td>\n",
       "      <td>6.3</td>\n",
       "      <td>0.300</td>\n",
       "      <td>0.34</td>\n",
       "      <td>1.6</td>\n",
       "      <td>0.049</td>\n",
       "      <td>14.0</td>\n",
       "      <td>132.0</td>\n",
       "      <td>0.99400</td>\n",
       "      <td>3.30</td>\n",
       "      <td>0.49</td>\n",
       "      <td>9.5</td>\n",
       "      <td>6</td>\n",
       "    </tr>\n",
       "    <tr>\n",
       "      <th>2</th>\n",
       "      <td>white</td>\n",
       "      <td>8.1</td>\n",
       "      <td>0.280</td>\n",
       "      <td>0.40</td>\n",
       "      <td>6.9</td>\n",
       "      <td>0.050</td>\n",
       "      <td>30.0</td>\n",
       "      <td>97.0</td>\n",
       "      <td>0.99510</td>\n",
       "      <td>3.26</td>\n",
       "      <td>0.44</td>\n",
       "      <td>10.1</td>\n",
       "      <td>6</td>\n",
       "    </tr>\n",
       "    <tr>\n",
       "      <th>3</th>\n",
       "      <td>white</td>\n",
       "      <td>7.2</td>\n",
       "      <td>0.230</td>\n",
       "      <td>0.32</td>\n",
       "      <td>8.5</td>\n",
       "      <td>0.058</td>\n",
       "      <td>47.0</td>\n",
       "      <td>186.0</td>\n",
       "      <td>0.99560</td>\n",
       "      <td>3.19</td>\n",
       "      <td>0.40</td>\n",
       "      <td>9.9</td>\n",
       "      <td>6</td>\n",
       "    </tr>\n",
       "    <tr>\n",
       "      <th>4</th>\n",
       "      <td>white</td>\n",
       "      <td>7.2</td>\n",
       "      <td>0.230</td>\n",
       "      <td>0.32</td>\n",
       "      <td>8.5</td>\n",
       "      <td>0.058</td>\n",
       "      <td>47.0</td>\n",
       "      <td>186.0</td>\n",
       "      <td>0.99560</td>\n",
       "      <td>3.19</td>\n",
       "      <td>0.40</td>\n",
       "      <td>9.9</td>\n",
       "      <td>6</td>\n",
       "    </tr>\n",
       "    <tr>\n",
       "      <th>...</th>\n",
       "      <td>...</td>\n",
       "      <td>...</td>\n",
       "      <td>...</td>\n",
       "      <td>...</td>\n",
       "      <td>...</td>\n",
       "      <td>...</td>\n",
       "      <td>...</td>\n",
       "      <td>...</td>\n",
       "      <td>...</td>\n",
       "      <td>...</td>\n",
       "      <td>...</td>\n",
       "      <td>...</td>\n",
       "      <td>...</td>\n",
       "    </tr>\n",
       "    <tr>\n",
       "      <th>6492</th>\n",
       "      <td>red</td>\n",
       "      <td>6.2</td>\n",
       "      <td>0.600</td>\n",
       "      <td>0.08</td>\n",
       "      <td>2.0</td>\n",
       "      <td>0.090</td>\n",
       "      <td>32.0</td>\n",
       "      <td>44.0</td>\n",
       "      <td>0.99490</td>\n",
       "      <td>3.45</td>\n",
       "      <td>0.58</td>\n",
       "      <td>10.5</td>\n",
       "      <td>5</td>\n",
       "    </tr>\n",
       "    <tr>\n",
       "      <th>6493</th>\n",
       "      <td>red</td>\n",
       "      <td>5.9</td>\n",
       "      <td>0.550</td>\n",
       "      <td>0.10</td>\n",
       "      <td>2.2</td>\n",
       "      <td>0.062</td>\n",
       "      <td>39.0</td>\n",
       "      <td>51.0</td>\n",
       "      <td>0.99512</td>\n",
       "      <td>3.52</td>\n",
       "      <td>NaN</td>\n",
       "      <td>11.2</td>\n",
       "      <td>6</td>\n",
       "    </tr>\n",
       "    <tr>\n",
       "      <th>6494</th>\n",
       "      <td>red</td>\n",
       "      <td>6.3</td>\n",
       "      <td>0.510</td>\n",
       "      <td>0.13</td>\n",
       "      <td>2.3</td>\n",
       "      <td>0.076</td>\n",
       "      <td>29.0</td>\n",
       "      <td>40.0</td>\n",
       "      <td>0.99574</td>\n",
       "      <td>3.42</td>\n",
       "      <td>0.75</td>\n",
       "      <td>11.0</td>\n",
       "      <td>6</td>\n",
       "    </tr>\n",
       "    <tr>\n",
       "      <th>6495</th>\n",
       "      <td>red</td>\n",
       "      <td>5.9</td>\n",
       "      <td>0.645</td>\n",
       "      <td>0.12</td>\n",
       "      <td>2.0</td>\n",
       "      <td>0.075</td>\n",
       "      <td>32.0</td>\n",
       "      <td>44.0</td>\n",
       "      <td>0.99547</td>\n",
       "      <td>3.57</td>\n",
       "      <td>0.71</td>\n",
       "      <td>10.2</td>\n",
       "      <td>5</td>\n",
       "    </tr>\n",
       "    <tr>\n",
       "      <th>6496</th>\n",
       "      <td>red</td>\n",
       "      <td>6.0</td>\n",
       "      <td>0.310</td>\n",
       "      <td>0.47</td>\n",
       "      <td>3.6</td>\n",
       "      <td>0.067</td>\n",
       "      <td>18.0</td>\n",
       "      <td>42.0</td>\n",
       "      <td>0.99549</td>\n",
       "      <td>3.39</td>\n",
       "      <td>0.66</td>\n",
       "      <td>11.0</td>\n",
       "      <td>6</td>\n",
       "    </tr>\n",
       "  </tbody>\n",
       "</table>\n",
       "<p>6497 rows × 13 columns</p>\n",
       "</div>"
      ],
      "text/plain": [
       "       type  fixed acidity  volatile acidity  citric acid  residual sugar  \\\n",
       "0     white            7.0             0.270         0.36            20.7   \n",
       "1     white            6.3             0.300         0.34             1.6   \n",
       "2     white            8.1             0.280         0.40             6.9   \n",
       "3     white            7.2             0.230         0.32             8.5   \n",
       "4     white            7.2             0.230         0.32             8.5   \n",
       "...     ...            ...               ...          ...             ...   \n",
       "6492    red            6.2             0.600         0.08             2.0   \n",
       "6493    red            5.9             0.550         0.10             2.2   \n",
       "6494    red            6.3             0.510         0.13             2.3   \n",
       "6495    red            5.9             0.645         0.12             2.0   \n",
       "6496    red            6.0             0.310         0.47             3.6   \n",
       "\n",
       "      chlorides  free sulfur dioxide  total sulfur dioxide  density    pH  \\\n",
       "0         0.045                 45.0                 170.0  1.00100  3.00   \n",
       "1         0.049                 14.0                 132.0  0.99400  3.30   \n",
       "2         0.050                 30.0                  97.0  0.99510  3.26   \n",
       "3         0.058                 47.0                 186.0  0.99560  3.19   \n",
       "4         0.058                 47.0                 186.0  0.99560  3.19   \n",
       "...         ...                  ...                   ...      ...   ...   \n",
       "6492      0.090                 32.0                  44.0  0.99490  3.45   \n",
       "6493      0.062                 39.0                  51.0  0.99512  3.52   \n",
       "6494      0.076                 29.0                  40.0  0.99574  3.42   \n",
       "6495      0.075                 32.0                  44.0  0.99547  3.57   \n",
       "6496      0.067                 18.0                  42.0  0.99549  3.39   \n",
       "\n",
       "      sulphates  alcohol  quality  \n",
       "0          0.45      8.8        6  \n",
       "1          0.49      9.5        6  \n",
       "2          0.44     10.1        6  \n",
       "3          0.40      9.9        6  \n",
       "4          0.40      9.9        6  \n",
       "...         ...      ...      ...  \n",
       "6492       0.58     10.5        5  \n",
       "6493        NaN     11.2        6  \n",
       "6494       0.75     11.0        6  \n",
       "6495       0.71     10.2        5  \n",
       "6496       0.66     11.0        6  \n",
       "\n",
       "[6497 rows x 13 columns]"
      ]
     },
     "execution_count": 83,
     "metadata": {},
     "output_type": "execute_result"
    }
   ],
   "source": [
    "# 와인 데이터 분석\n",
    "import pandas as pd\n",
    "\n",
    "wine = pd.read_csv('data/winequality.csv')\n",
    "wine"
   ]
  },
  {
   "cell_type": "code",
   "execution_count": null,
   "metadata": {
    "id": "FnGZVNci9cyT"
   },
   "outputs": [],
   "source": [
    "# 위 데이터를 보고 가설 3개를 세워봅시다."
   ]
  },
  {
   "cell_type": "code",
   "execution_count": 77,
   "metadata": {
    "colab": {
     "base_uri": "https://localhost:8080/",
     "height": 355
    },
    "collapsed": true,
    "executionInfo": {
     "elapsed": 363,
     "status": "ok",
     "timestamp": 1727872752424,
     "user": {
      "displayName": "seungri soft",
      "userId": "02507643838407733197"
     },
     "user_tz": -540
    },
    "id": "1_qPm5HqOyTi",
    "outputId": "2bad5102-4723-4219-f9ca-8c6b6415b803"
   },
   "outputs": [
    {
     "data": {
      "text/plain": [
       "alcohol                         0\n",
       "malic_acid                      0\n",
       "ash                             0\n",
       "alcalinity_of_ash               0\n",
       "magnesium                       0\n",
       "total_phenols                   0\n",
       "flavanoids                      0\n",
       "nonflavanoid_phenols            0\n",
       "proanthocyanins                 0\n",
       "color_intensity                 0\n",
       "hue                             0\n",
       "od280/od315_of_diluted_wines    0\n",
       "proline                         0\n",
       "dtype: int64"
      ]
     },
     "execution_count": 77,
     "metadata": {},
     "output_type": "execute_result"
    }
   ],
   "source": [
    "# wine.describe()\n",
    "# wine.info()\n",
    "wine.isna().sum()"
   ]
  },
  {
   "cell_type": "markdown",
   "metadata": {
    "id": "qqtc2bJ89fnF"
   },
   "source": [
    "### Q1. 우리 가게의 화이트 와인의 평균 당도는 어떻게 될까? 레드와인의 평균 당도는?  \n",
    "(데이트: 화이트 와인 - 달달하니까)\n",
    "\n",
    "- 우리 가게의 와인의 평균 등급은 어떻게 될까? 타입별 등급의 평균은 어떻게 될까?\n",
    "- 데이트: 화이트 와인 - 달달하니깐. 진짜일까?\n",
    "\n",
    "### Q2. 9등급 와인과 1등급 와인의 각 컬럼의 평균값의 차이는 어떻게 될까?\n",
    "\n",
    "### Q3. 각 등급별 와인의 갯수는 어떻게 될까?\n",
    "\n",
    "### Q4. 와인의 등급(quality)에 가장 큰 영향을 주는 요소(컬럼)은 무엇일까? 각 타입별 등급의 갯수는 어떻게 될까?"
   ]
  },
  {
   "cell_type": "code",
   "execution_count": 84,
   "metadata": {},
   "outputs": [
    {
     "data": {
      "text/plain": [
       "type\n",
       "red      2.538806\n",
       "white    6.393250\n",
       "Name: residual sugar, dtype: float64"
      ]
     },
     "execution_count": 84,
     "metadata": {},
     "output_type": "execute_result"
    }
   ],
   "source": [
    "wine[wine['type'] == 'white']['residual sugar'].mean() # 6.39\n",
    "wine[wine['type'] == 'red']['residual sugar'].mean() # 2.53\n",
    "\n",
    "\n",
    "wine.groupby('type').mean()\n",
    "wine.groupby('type')['residual sugar'].mean()"
   ]
  },
  {
   "cell_type": "code",
   "execution_count": 85,
   "metadata": {},
   "outputs": [
    {
     "data": {
      "text/plain": [
       "type\n",
       "red      5.636023\n",
       "white    5.877909\n",
       "Name: quality, dtype: float64"
      ]
     },
     "execution_count": 85,
     "metadata": {},
     "output_type": "execute_result"
    }
   ],
   "source": [
    "# 우리 가게의 와인의 평균 등급은 어떻게 될까?\n",
    "\n",
    "wine['quality'].mean() # 5.81\n",
    "\n",
    "# 타입별 등급의 평균은 어떻게 될까? - 화이트와인과 레드와인의 평균 등급 차이\n",
    "wine.groupby('type')['quality'].mean()"
   ]
  },
  {
   "cell_type": "code",
   "execution_count": null,
   "metadata": {},
   "outputs": [
    {
     "data": {
      "text/plain": [
       "fixed acidity           0.090652\n",
       "volatile acidity       -0.091768\n",
       "citric acid             0.078279\n",
       "residual sugar         -1.684116\n",
       "chlorides              -0.037266\n",
       "free sulfur dioxide     3.162629\n",
       "total sulfur dioxide   -4.839102\n",
       "density                -0.004389\n",
       "pH                      0.095958\n",
       "sulphates              -0.060416\n",
       "alcohol                 2.342217\n",
       "quality                 4.000000\n",
       "dtype: float64"
      ]
     },
     "execution_count": 86,
     "metadata": {},
     "output_type": "execute_result"
    }
   ],
   "source": [
    "# 9등급 와인과 5등급 와인의 각 컬럼의 평균값의 차이는 어떻게 될까?\n",
    "wine[wine['quality'] == 9].mean(numeric_only=True) - wine[wine['quality'] == 5].mean(numeric_only=True)"
   ]
  },
  {
   "cell_type": "code",
   "execution_count": 88,
   "metadata": {},
   "outputs": [
    {
     "data": {
      "text/plain": [
       "quality\n",
       "9       5\n",
       "3      30\n",
       "8     193\n",
       "4     216\n",
       "7    1079\n",
       "5    2138\n",
       "6    2836\n",
       "Name: counts, dtype: int64"
      ]
     },
     "execution_count": 88,
     "metadata": {},
     "output_type": "execute_result"
    }
   ],
   "source": [
    "# Q4. 각 등급별 와인의 갯수는 어떻게 될까? =>\n",
    "# 위에 0 대신 컬럼명을 넣으려면..\n",
    "wine_quality_se = wine.groupby('quality').size().sort_values()\n",
    "wine_quality_se.name = 'counts'\n",
    "\n",
    "wine_quality_se"
   ]
  },
  {
   "cell_type": "code",
   "execution_count": 89,
   "metadata": {},
   "outputs": [
    {
     "data": {
      "text/html": [
       "<div>\n",
       "<style scoped>\n",
       "    .dataframe tbody tr th:only-of-type {\n",
       "        vertical-align: middle;\n",
       "    }\n",
       "\n",
       "    .dataframe tbody tr th {\n",
       "        vertical-align: top;\n",
       "    }\n",
       "\n",
       "    .dataframe thead th {\n",
       "        text-align: right;\n",
       "    }\n",
       "</style>\n",
       "<table border=\"1\" class=\"dataframe\">\n",
       "  <thead>\n",
       "    <tr style=\"text-align: right;\">\n",
       "      <th></th>\n",
       "      <th>fixed acidity</th>\n",
       "      <th>volatile acidity</th>\n",
       "      <th>citric acid</th>\n",
       "      <th>residual sugar</th>\n",
       "      <th>chlorides</th>\n",
       "      <th>free sulfur dioxide</th>\n",
       "      <th>total sulfur dioxide</th>\n",
       "      <th>density</th>\n",
       "      <th>pH</th>\n",
       "      <th>sulphates</th>\n",
       "      <th>alcohol</th>\n",
       "      <th>quality</th>\n",
       "    </tr>\n",
       "  </thead>\n",
       "  <tbody>\n",
       "    <tr>\n",
       "      <th>fixed acidity</th>\n",
       "      <td>1.000000</td>\n",
       "      <td>0.220172</td>\n",
       "      <td>0.323736</td>\n",
       "      <td>-0.112319</td>\n",
       "      <td>0.298421</td>\n",
       "      <td>-0.283317</td>\n",
       "      <td>-0.329747</td>\n",
       "      <td>0.459204</td>\n",
       "      <td>-0.251814</td>\n",
       "      <td>0.300380</td>\n",
       "      <td>-0.095603</td>\n",
       "      <td>-0.077031</td>\n",
       "    </tr>\n",
       "    <tr>\n",
       "      <th>volatile acidity</th>\n",
       "      <td>0.220172</td>\n",
       "      <td>1.000000</td>\n",
       "      <td>-0.378061</td>\n",
       "      <td>-0.196702</td>\n",
       "      <td>0.377167</td>\n",
       "      <td>-0.353230</td>\n",
       "      <td>-0.414928</td>\n",
       "      <td>0.271193</td>\n",
       "      <td>0.260660</td>\n",
       "      <td>0.225476</td>\n",
       "      <td>-0.038248</td>\n",
       "      <td>-0.265953</td>\n",
       "    </tr>\n",
       "    <tr>\n",
       "      <th>citric acid</th>\n",
       "      <td>0.323736</td>\n",
       "      <td>-0.378061</td>\n",
       "      <td>1.000000</td>\n",
       "      <td>0.142486</td>\n",
       "      <td>0.039315</td>\n",
       "      <td>0.133437</td>\n",
       "      <td>0.195218</td>\n",
       "      <td>0.096320</td>\n",
       "      <td>-0.328689</td>\n",
       "      <td>0.057613</td>\n",
       "      <td>-0.010433</td>\n",
       "      <td>0.085706</td>\n",
       "    </tr>\n",
       "    <tr>\n",
       "      <th>residual sugar</th>\n",
       "      <td>-0.112319</td>\n",
       "      <td>-0.196702</td>\n",
       "      <td>0.142486</td>\n",
       "      <td>1.000000</td>\n",
       "      <td>-0.128902</td>\n",
       "      <td>0.403439</td>\n",
       "      <td>0.495820</td>\n",
       "      <td>0.552498</td>\n",
       "      <td>-0.267050</td>\n",
       "      <td>-0.185745</td>\n",
       "      <td>-0.359706</td>\n",
       "      <td>-0.036825</td>\n",
       "    </tr>\n",
       "    <tr>\n",
       "      <th>chlorides</th>\n",
       "      <td>0.298421</td>\n",
       "      <td>0.377167</td>\n",
       "      <td>0.039315</td>\n",
       "      <td>-0.128902</td>\n",
       "      <td>1.000000</td>\n",
       "      <td>-0.195042</td>\n",
       "      <td>-0.279580</td>\n",
       "      <td>0.362594</td>\n",
       "      <td>0.044806</td>\n",
       "      <td>0.395332</td>\n",
       "      <td>-0.256861</td>\n",
       "      <td>-0.200886</td>\n",
       "    </tr>\n",
       "    <tr>\n",
       "      <th>free sulfur dioxide</th>\n",
       "      <td>-0.283317</td>\n",
       "      <td>-0.353230</td>\n",
       "      <td>0.133437</td>\n",
       "      <td>0.403439</td>\n",
       "      <td>-0.195042</td>\n",
       "      <td>1.000000</td>\n",
       "      <td>0.720934</td>\n",
       "      <td>0.025717</td>\n",
       "      <td>-0.145191</td>\n",
       "      <td>-0.188489</td>\n",
       "      <td>-0.179838</td>\n",
       "      <td>0.055463</td>\n",
       "    </tr>\n",
       "    <tr>\n",
       "      <th>total sulfur dioxide</th>\n",
       "      <td>-0.329747</td>\n",
       "      <td>-0.414928</td>\n",
       "      <td>0.195218</td>\n",
       "      <td>0.495820</td>\n",
       "      <td>-0.279580</td>\n",
       "      <td>0.720934</td>\n",
       "      <td>1.000000</td>\n",
       "      <td>0.032395</td>\n",
       "      <td>-0.237687</td>\n",
       "      <td>-0.275381</td>\n",
       "      <td>-0.265740</td>\n",
       "      <td>-0.041385</td>\n",
       "    </tr>\n",
       "    <tr>\n",
       "      <th>density</th>\n",
       "      <td>0.459204</td>\n",
       "      <td>0.271193</td>\n",
       "      <td>0.096320</td>\n",
       "      <td>0.552498</td>\n",
       "      <td>0.362594</td>\n",
       "      <td>0.025717</td>\n",
       "      <td>0.032395</td>\n",
       "      <td>1.000000</td>\n",
       "      <td>0.011920</td>\n",
       "      <td>0.259454</td>\n",
       "      <td>-0.686745</td>\n",
       "      <td>-0.305858</td>\n",
       "    </tr>\n",
       "    <tr>\n",
       "      <th>pH</th>\n",
       "      <td>-0.251814</td>\n",
       "      <td>0.260660</td>\n",
       "      <td>-0.328689</td>\n",
       "      <td>-0.267050</td>\n",
       "      <td>0.044806</td>\n",
       "      <td>-0.145191</td>\n",
       "      <td>-0.237687</td>\n",
       "      <td>0.011920</td>\n",
       "      <td>1.000000</td>\n",
       "      <td>0.191248</td>\n",
       "      <td>0.121002</td>\n",
       "      <td>0.019366</td>\n",
       "    </tr>\n",
       "    <tr>\n",
       "      <th>sulphates</th>\n",
       "      <td>0.300380</td>\n",
       "      <td>0.225476</td>\n",
       "      <td>0.057613</td>\n",
       "      <td>-0.185745</td>\n",
       "      <td>0.395332</td>\n",
       "      <td>-0.188489</td>\n",
       "      <td>-0.275381</td>\n",
       "      <td>0.259454</td>\n",
       "      <td>0.191248</td>\n",
       "      <td>1.000000</td>\n",
       "      <td>-0.003261</td>\n",
       "      <td>0.038729</td>\n",
       "    </tr>\n",
       "    <tr>\n",
       "      <th>alcohol</th>\n",
       "      <td>-0.095603</td>\n",
       "      <td>-0.038248</td>\n",
       "      <td>-0.010433</td>\n",
       "      <td>-0.359706</td>\n",
       "      <td>-0.256861</td>\n",
       "      <td>-0.179838</td>\n",
       "      <td>-0.265740</td>\n",
       "      <td>-0.686745</td>\n",
       "      <td>0.121002</td>\n",
       "      <td>-0.003261</td>\n",
       "      <td>1.000000</td>\n",
       "      <td>0.444319</td>\n",
       "    </tr>\n",
       "    <tr>\n",
       "      <th>quality</th>\n",
       "      <td>-0.077031</td>\n",
       "      <td>-0.265953</td>\n",
       "      <td>0.085706</td>\n",
       "      <td>-0.036825</td>\n",
       "      <td>-0.200886</td>\n",
       "      <td>0.055463</td>\n",
       "      <td>-0.041385</td>\n",
       "      <td>-0.305858</td>\n",
       "      <td>0.019366</td>\n",
       "      <td>0.038729</td>\n",
       "      <td>0.444319</td>\n",
       "      <td>1.000000</td>\n",
       "    </tr>\n",
       "  </tbody>\n",
       "</table>\n",
       "</div>"
      ],
      "text/plain": [
       "                      fixed acidity  volatile acidity  citric acid  \\\n",
       "fixed acidity              1.000000          0.220172     0.323736   \n",
       "volatile acidity           0.220172          1.000000    -0.378061   \n",
       "citric acid                0.323736         -0.378061     1.000000   \n",
       "residual sugar            -0.112319         -0.196702     0.142486   \n",
       "chlorides                  0.298421          0.377167     0.039315   \n",
       "free sulfur dioxide       -0.283317         -0.353230     0.133437   \n",
       "total sulfur dioxide      -0.329747         -0.414928     0.195218   \n",
       "density                    0.459204          0.271193     0.096320   \n",
       "pH                        -0.251814          0.260660    -0.328689   \n",
       "sulphates                  0.300380          0.225476     0.057613   \n",
       "alcohol                   -0.095603         -0.038248    -0.010433   \n",
       "quality                   -0.077031         -0.265953     0.085706   \n",
       "\n",
       "                      residual sugar  chlorides  free sulfur dioxide  \\\n",
       "fixed acidity              -0.112319   0.298421            -0.283317   \n",
       "volatile acidity           -0.196702   0.377167            -0.353230   \n",
       "citric acid                 0.142486   0.039315             0.133437   \n",
       "residual sugar              1.000000  -0.128902             0.403439   \n",
       "chlorides                  -0.128902   1.000000            -0.195042   \n",
       "free sulfur dioxide         0.403439  -0.195042             1.000000   \n",
       "total sulfur dioxide        0.495820  -0.279580             0.720934   \n",
       "density                     0.552498   0.362594             0.025717   \n",
       "pH                         -0.267050   0.044806            -0.145191   \n",
       "sulphates                  -0.185745   0.395332            -0.188489   \n",
       "alcohol                    -0.359706  -0.256861            -0.179838   \n",
       "quality                    -0.036825  -0.200886             0.055463   \n",
       "\n",
       "                      total sulfur dioxide   density        pH  sulphates  \\\n",
       "fixed acidity                    -0.329747  0.459204 -0.251814   0.300380   \n",
       "volatile acidity                 -0.414928  0.271193  0.260660   0.225476   \n",
       "citric acid                       0.195218  0.096320 -0.328689   0.057613   \n",
       "residual sugar                    0.495820  0.552498 -0.267050  -0.185745   \n",
       "chlorides                        -0.279580  0.362594  0.044806   0.395332   \n",
       "free sulfur dioxide               0.720934  0.025717 -0.145191  -0.188489   \n",
       "total sulfur dioxide              1.000000  0.032395 -0.237687  -0.275381   \n",
       "density                           0.032395  1.000000  0.011920   0.259454   \n",
       "pH                               -0.237687  0.011920  1.000000   0.191248   \n",
       "sulphates                        -0.275381  0.259454  0.191248   1.000000   \n",
       "alcohol                          -0.265740 -0.686745  0.121002  -0.003261   \n",
       "quality                          -0.041385 -0.305858  0.019366   0.038729   \n",
       "\n",
       "                       alcohol   quality  \n",
       "fixed acidity        -0.095603 -0.077031  \n",
       "volatile acidity     -0.038248 -0.265953  \n",
       "citric acid          -0.010433  0.085706  \n",
       "residual sugar       -0.359706 -0.036825  \n",
       "chlorides            -0.256861 -0.200886  \n",
       "free sulfur dioxide  -0.179838  0.055463  \n",
       "total sulfur dioxide -0.265740 -0.041385  \n",
       "density              -0.686745 -0.305858  \n",
       "pH                    0.121002  0.019366  \n",
       "sulphates            -0.003261  0.038729  \n",
       "alcohol               1.000000  0.444319  \n",
       "quality               0.444319  1.000000  "
      ]
     },
     "execution_count": 89,
     "metadata": {},
     "output_type": "execute_result"
    }
   ],
   "source": [
    "# Q5. 와인의 등급(quality)에 가장 큰 영향을 주는 요소(컬럼)은 무엇일까? 각 타입별 등급의 갯수는 어떻게 될까?\n",
    "# 상관관계 : -1 ~ 1\n",
    "# 키가 클수록 => 몸무게가 많이나간다.\n",
    "\n",
    "wine.corr(numeric_only=True)"
   ]
  },
  {
   "cell_type": "code",
   "execution_count": null,
   "metadata": {
    "colab": {
     "base_uri": "https://localhost:8080/",
     "height": 143
    },
    "executionInfo": {
     "elapsed": 336,
     "status": "ok",
     "timestamp": 1727873117293,
     "user": {
      "displayName": "seungri soft",
      "userId": "02507643838407733197"
     },
     "user_tz": -540
    },
    "id": "-gCnR03qPjo9",
    "outputId": "d8d88b93-b19a-4059-bcea-12ae585b9481"
   },
   "outputs": [
    {
     "data": {
      "text/plain": [
       "quality\n",
       "9       5\n",
       "3      30\n",
       "8     193\n",
       "4     216\n",
       "7    1079\n",
       "5    2138\n",
       "6    2836\n",
       "Name: counts, dtype: int64"
      ]
     },
     "execution_count": 87,
     "metadata": {},
     "output_type": "execute_result"
    }
   ],
   "source": [
    "# # 데이터할 때 어떤 와인 마시죠? => 화이트(달달, 알콜높아)\n",
    "# # groupby => 그룹으로 묶어줘.\n",
    "\n",
    "# # 화이트 와인과 레드 와인의 평균 알콜 도수, 당도가 궁금해.\n",
    "# wine.groupby('type')[['alcohol', 'residual sugar', 'quality']].mean()"
   ]
  },
  {
   "cell_type": "code",
   "execution_count": null,
   "metadata": {
    "colab": {
     "base_uri": "https://localhost:8080/",
     "height": 335
    },
    "executionInfo": {
     "elapsed": 355,
     "status": "ok",
     "timestamp": 1727873294204,
     "user": {
      "displayName": "seungri soft",
      "userId": "02507643838407733197"
     },
     "user_tz": -540
    },
    "id": "RjGp1npJQWYN",
    "outputId": "81b47392-44bf-4be1-9891-92abf82eb436"
   },
   "outputs": [
    {
     "data": {
      "text/html": [
       "<div>\n",
       "<style scoped>\n",
       "    .dataframe tbody tr th:only-of-type {\n",
       "        vertical-align: middle;\n",
       "    }\n",
       "\n",
       "    .dataframe tbody tr th {\n",
       "        vertical-align: top;\n",
       "    }\n",
       "\n",
       "    .dataframe thead th {\n",
       "        text-align: right;\n",
       "    }\n",
       "</style>\n",
       "<table border=\"1\" class=\"dataframe\">\n",
       "  <thead>\n",
       "    <tr style=\"text-align: right;\">\n",
       "      <th></th>\n",
       "      <th>count</th>\n",
       "    </tr>\n",
       "    <tr>\n",
       "      <th>quality</th>\n",
       "      <th></th>\n",
       "    </tr>\n",
       "  </thead>\n",
       "  <tbody>\n",
       "    <tr>\n",
       "      <th>6</th>\n",
       "      <td>2198</td>\n",
       "    </tr>\n",
       "    <tr>\n",
       "      <th>5</th>\n",
       "      <td>1457</td>\n",
       "    </tr>\n",
       "    <tr>\n",
       "      <th>7</th>\n",
       "      <td>880</td>\n",
       "    </tr>\n",
       "    <tr>\n",
       "      <th>8</th>\n",
       "      <td>175</td>\n",
       "    </tr>\n",
       "    <tr>\n",
       "      <th>4</th>\n",
       "      <td>163</td>\n",
       "    </tr>\n",
       "    <tr>\n",
       "      <th>3</th>\n",
       "      <td>20</td>\n",
       "    </tr>\n",
       "    <tr>\n",
       "      <th>9</th>\n",
       "      <td>5</td>\n",
       "    </tr>\n",
       "  </tbody>\n",
       "</table>\n",
       "</div><br><label><b>dtype:</b> int64</label>"
      ],
      "text/plain": [
       "quality\n",
       "6    2198\n",
       "5    1457\n",
       "7     880\n",
       "8     175\n",
       "4     163\n",
       "3      20\n",
       "9       5\n",
       "Name: count, dtype: int64"
      ]
     },
     "execution_count": 81,
     "metadata": {},
     "output_type": "execute_result"
    }
   ],
   "source": [
    "# 레드와인의 등급별 갯수는 어떻게되?  1등-1개, 2등급-3개\n",
    "wine[wine['type']=='red']['quality'].value_counts()\n",
    "wine[wine['type']=='white']['quality'].value_counts()"
   ]
  },
  {
   "cell_type": "code",
   "execution_count": null,
   "metadata": {
    "id": "PRgjYDdoAQ22"
   },
   "outputs": [],
   "source": [
    "wine_corr = wine.corr(numeric_only=True) # correlation\n",
    "wine_corr\n",
    "\n",
    "# import seaborn as sns\n",
    "# sns.heatmap(wine_corr, fmt='%d')\n",
    "\n",
    "# 와인을 선물 받으면 뭐부터 본다? => 도수"
   ]
  }
 ],
 "metadata": {
  "colab": {
   "provenance": []
  },
  "kernelspec": {
   "display_name": "ds_study",
   "language": "python",
   "name": "python3"
  },
  "language_info": {
   "codemirror_mode": {
    "name": "ipython",
    "version": 3
   },
   "file_extension": ".py",
   "mimetype": "text/x-python",
   "name": "python",
   "nbconvert_exporter": "python",
   "pygments_lexer": "ipython3",
   "version": "3.8.19"
  }
 },
 "nbformat": 4,
 "nbformat_minor": 0
}
