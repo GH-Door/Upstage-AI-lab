{
 "cells": [
  {
   "cell_type": "markdown",
   "id": "9cb1e9fb",
   "metadata": {},
   "source": [
    "#### Library"
   ]
  },
  {
   "cell_type": "code",
   "execution_count": 1,
   "id": "4d0279a8",
   "metadata": {},
   "outputs": [],
   "source": [
    "import re\n",
    "import numpy as np\n",
    "import pandas as pd\n",
    "import torch\n",
    "import torchtext\n",
    "import matplotlib.pyplot as plt\n",
    "import random\n",
    "import torch.nn as nn\n",
    "import torch.optim as optim\n",
    "import torch.backends.cudnn as cudnn\n",
    "from sklearn.metrics import accuracy_score\n",
    "from sklearn.model_selection import train_test_split\n",
    "from tqdm.notebook import tqdm\n",
    "from torch.utils.data import Dataset, DataLoader\n",
    "from torchtext.data import get_tokenizer"
   ]
  },
  {
   "cell_type": "code",
   "execution_count": 2,
   "id": "32d3df26",
   "metadata": {},
   "outputs": [],
   "source": [
    "# seed 고정\n",
    "def random_seed(seed_num):\n",
    "    torch.manual_seed(seed_num)\n",
    "    torch.cuda.manual_seed(seed_num)\n",
    "    torch.cuda.manual_seed_all(seed_num)\n",
    "    np.random.seed(seed_num)\n",
    "    cudnn.benchmark = False\n",
    "    cudnn.deterministic = True\n",
    "    random.seed(seed_num)\n",
    "\n",
    "random_seed(42)"
   ]
  },
  {
   "cell_type": "markdown",
   "id": "956c6873",
   "metadata": {},
   "source": [
    "#### Data Load"
   ]
  },
  {
   "cell_type": "code",
   "execution_count": 3,
   "id": "ec5850f2",
   "metadata": {},
   "outputs": [
    {
     "data": {
      "text/plain": [
       "array(['A Beginner’s Guide to Word Embedding with Gensim Word2Vec\\xa0Model',\n",
       "       'Hands-on Graph Neural Networks with PyTorch & PyTorch Geometric',\n",
       "       'How to Use ggplot2 in\\xa0Python', ...,\n",
       "       'Content and Marketing Beyond Mass Consumption',\n",
       "       '5 Questions All Copywriters Should Ask Clients Before Their Pen Hits the\\xa0Paper',\n",
       "       'How To Write a Good Business Blog\\xa0Post'], dtype=object)"
      ]
     },
     "execution_count": 3,
     "metadata": {},
     "output_type": "execute_result"
    }
   ],
   "source": [
    "df = pd.read_csv(\"../data/Medium/medium_data.csv\")\n",
    "df = df['title'].values # title 만 사용\n",
    "df"
   ]
  },
  {
   "cell_type": "code",
   "execution_count": 4,
   "id": "94065f04",
   "metadata": {},
   "outputs": [
    {
     "name": "stdout",
     "output_type": "stream",
     "text": [
      "Before preprocessing\n",
      "['A Beginner’s Guide to Word Embedding with Gensim Word2Vec\\xa0Model'\n",
      " 'Hands-on Graph Neural Networks with PyTorch & PyTorch Geometric'\n",
      " 'How to Use ggplot2 in\\xa0Python'\n",
      " 'Databricks: How to Save Files in CSV on Your Local\\xa0Computer'\n",
      " 'A Step-by-Step Implementation of Gradient Descent and Backpropagation']\n",
      "After preprocessing\n",
      "['A Beginners Guide to Word Embedding with Gensim Word2Vec Model', 'Handson Graph Neural Networks with PyTorch  PyTorch Geometric', 'How to Use ggplot2 in Python', 'Databricks How to Save Files in CSV on Your Local Computer', 'A StepbyStep Implementation of Gradient Descent and Backpropagation']\n"
     ]
    }
   ],
   "source": [
    "def cleaning_text(text):\n",
    "    cleaned_text = re.sub( r\"[^a-zA-Z0-9.,@#!\\s']+\", \"\", text) # 특수문자 를 모두 지우는 작업을 수행\n",
    "    cleaned_text = cleaned_text.replace(u'\\xa0',u' ') # No-break space를 unicode 빈칸으로 변환\n",
    "    cleaned_text = cleaned_text.replace('\\u200a',' ') # unicode 빈칸을 빈칸으로 변환\n",
    "    return cleaned_text\n",
    "\n",
    "cleaned_data = list(map(cleaning_text, df)) # 모든 특수문자와 공백을 지움\n",
    "print('Before preprocessing')\n",
    "print(df[:5])\n",
    "print('After preprocessing')\n",
    "print(cleaned_data[:5])"
   ]
  },
  {
   "cell_type": "markdown",
   "id": "d7d0dfb0",
   "metadata": {},
   "source": [
    "#### Tokenizer"
   ]
  },
  {
   "cell_type": "code",
   "execution_count": null,
   "id": "65d441a4",
   "metadata": {},
   "outputs": [
    {
     "name": "stdout",
     "output_type": "stream",
     "text": [
      "Original text: A Beginners Guide to Word Embedding with Gensim Word2Vec Model\n",
      "Token: ['a', 'beginners', 'guide', 'to', 'word', 'embedding', 'with', 'gensim', 'word2vec', 'model']\n"
     ]
    }
   ],
   "source": [
    "tokenizer = get_tokenizer(\"basic_english\")\n",
    "tokens = tokenizer(cleaned_data[0])\n",
    "print(f\"Original text: {cleaned_data[0]}\") # 원본\n",
    "print(f\"Token: {tokens}\") # tokenizer 후"
   ]
  },
  {
   "cell_type": "code",
   "execution_count": null,
   "id": "6212d47e",
   "metadata": {},
   "outputs": [],
   "source": []
  }
 ],
 "metadata": {
  "kernelspec": {
   "display_name": "Upstage",
   "language": "python",
   "name": "python3"
  },
  "language_info": {
   "codemirror_mode": {
    "name": "ipython",
    "version": 3
   },
   "file_extension": ".py",
   "mimetype": "text/x-python",
   "name": "python",
   "nbconvert_exporter": "python",
   "pygments_lexer": "ipython3",
   "version": "3.9.23"
  }
 },
 "nbformat": 4,
 "nbformat_minor": 5
}
