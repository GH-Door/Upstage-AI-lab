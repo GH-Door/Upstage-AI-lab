{
 "cells": [
  {
   "cell_type": "markdown",
   "id": "e9386fad",
   "metadata": {
    "id": "e9386fad"
   },
   "source": [
    "# 1. 조건문 (if)\n",
    "\n",
    "특정 조건을 검사하여 그 조건에 따라 다른 코드를 실행하도록 하는 구문\n",
    "\n",
    "**`if`, `elif`, `else`** 키워드를 사용하여 조건문을 작성\n",
    "\n",
    "프로그램의 흐름을 제어"
   ]
  },
  {
   "cell_type": "code",
   "execution_count": null,
   "id": "630d2547",
   "metadata": {
    "colab": {
     "base_uri": "https://localhost:8080/"
    },
    "executionInfo": {
     "elapsed": 1018,
     "status": "ok",
     "timestamp": 1737683769936,
     "user": {
      "displayName": "Kim InSeop",
      "userId": "13965062148001194946"
     },
     "user_tz": -540
    },
    "id": "630d2547",
    "outputId": "92636ed2-b5f3-43a9-9fc1-47a4d76032c5"
   },
   "outputs": [
    {
     "name": "stdout",
     "output_type": "stream",
     "text": [
      "x는 5보다 큽니다.\n"
     ]
    }
   ],
   "source": [
    "# 조건문 예제\n",
    "x = 5\n",
    "\n",
    "if x > 5:\n",
    "    print(\"x는 5보다 큽니다.\")  # 출력됨\n",
    "elif x == 5: # else if => elif\n",
    "    print(\"x는 5입니다.\")\n",
    "else:\n",
    "    print(\"x는 5보다 작습니다.\")"
   ]
  },
  {
   "cell_type": "markdown",
   "id": "8f8c9347",
   "metadata": {
    "id": "8f8c9347"
   },
   "source": [
    "## (1) 조건문의 구조\n",
    "\n",
    "### **1. 기본 구조**\n",
    "\n",
    "```python\n",
    "if 조건:\n",
    "    실행할 코드\n",
    "elif 조건:\n",
    "    실행할 코드\n",
    "else:\n",
    "    실행할 코드\n",
    "```\n",
    "\n",
    "### **2. 작동 원리**\n",
    "\n",
    "- **`if`**: 조건이 참이면 해당 블록 실행.\n",
    "- **`elif`**: 위 조건이 모두 거짓일 때 새로운 조건을 검사.\n",
    "- **`else`**: 모든 조건이 거짓일 때 실행."
   ]
  },
  {
   "cell_type": "markdown",
   "id": "8d8fcea6",
   "metadata": {
    "id": "8d8fcea6"
   },
   "source": [
    "## (2) 조건문 예제\n",
    "\n",
    "### **1. 기본 사용법**"
   ]
  },
  {
   "cell_type": "code",
   "execution_count": null,
   "id": "f0066bcb",
   "metadata": {
    "id": "f0066bcb"
   },
   "outputs": [],
   "source": [
    "x = 10\n",
    "\n",
    "if x > 5:\n",
    "    print(\"x는 5보다 큽니다.\")  # 출력됨\n",
    "elif x == 5:\n",
    "    print(\"x는 5입니다.\")\n",
    "else:\n",
    "    print(\"x는 5보다 작습니다.\")"
   ]
  },
  {
   "cell_type": "markdown",
   "id": "a23e55e3",
   "metadata": {
    "id": "a23e55e3"
   },
   "source": [
    "### **2. 중첩 조건문**"
   ]
  },
  {
   "cell_type": "code",
   "execution_count": null,
   "id": "3551201b",
   "metadata": {
    "id": "3551201b"
   },
   "outputs": [],
   "source": [
    "x = 15\n",
    "\n",
    "if x > 10:\n",
    "    if x % 2 == 0:\n",
    "        print(\"x는 10보다 크고 짝수입니다.\")\n",
    "    else:\n",
    "        print(\"x는 10보다 크고 홀수입니다.\")\n",
    "else:\n",
    "    print(\"x는 10 이하입니다.\")"
   ]
  },
  {
   "cell_type": "markdown",
   "id": "88534800",
   "metadata": {
    "id": "88534800"
   },
   "source": [
    "### **3. 조건문**"
   ]
  },
  {
   "cell_type": "code",
   "execution_count": null,
   "id": "217c5094",
   "metadata": {
    "id": "217c5094"
   },
   "outputs": [],
   "source": [
    "age = 25\n",
    "is_student = True\n",
    "\n",
    "if age < 18 or is_student:\n",
    "    print(\"할인이 적용됩니다.\")  # 출력됨\n",
    "else:\n",
    "    print(\"할인이 적용되지 않습니다.\")"
   ]
  },
  {
   "cell_type": "markdown",
   "id": "e41629fc",
   "metadata": {
    "id": "e41629fc"
   },
   "source": [
    "## (3) 조건문과 자주 사용되는 함수\n",
    "\n",
    "### **1. `input()`**\n",
    "\n",
    "사용자로부터 입력을 받아 조건을 검사할 때 자주 사용됩니다."
   ]
  },
  {
   "cell_type": "code",
   "execution_count": null,
   "id": "8d6be7e3",
   "metadata": {
    "id": "8d6be7e3"
   },
   "outputs": [],
   "source": [
    "age = int(input(\"나이를 입력하세요: \"))\n",
    "\n",
    "if age >= 18:\n",
    "    print(\"성인입니다.\")\n",
    "else:\n",
    "    print(\"미성년자입니다.\")"
   ]
  },
  {
   "cell_type": "markdown",
   "id": "f96145c1",
   "metadata": {
    "id": "f96145c1"
   },
   "source": [
    "### **2. `len()`**\n",
    "\n",
    "문자열이나 리스트의 길이를 조건으로 사용할 수 있습니다."
   ]
  },
  {
   "cell_type": "code",
   "execution_count": null,
   "id": "da8d9ee7",
   "metadata": {
    "id": "da8d9ee7"
   },
   "outputs": [],
   "source": [
    "password = \"abc123\"\n",
    "\n",
    "if len(password) >= 6:\n",
    "    print(\"비밀번호가 유효합니다.\")\n",
    "else:\n",
    "    print(\"비밀번호는 최소 6자 이상이어야 합니다.\")"
   ]
  },
  {
   "cell_type": "markdown",
   "id": "4fb27081",
   "metadata": {
    "id": "4fb27081"
   },
   "source": [
    "## (4) 비교연산자\n",
    "\n",
    "조건문에 값을 비교할 때 사용\n",
    "\n",
    "- a와 b가 같다 : `a == b`\n",
    "- a와 b가 같지 않다 : `a != b`\n",
    "- a가 b보다 작다 : `a < b`\n",
    "- a가 b보다 작거나 같다 : `a <= b`\n",
    "- a가 b보다 크다 : `a > b`\n",
    "- a가 b보다 크거나 같다 : `a >= b`\n"
   ]
  },
  {
   "cell_type": "code",
   "execution_count": null,
   "id": "57ae211e",
   "metadata": {
    "id": "57ae211e"
   },
   "outputs": [],
   "source": [
    "a = 1\n",
    "b = 3\n",
    "\n",
    "print(a == b)  # False\n",
    "print(a != b)  # True\n",
    "print(a < b)   # True\n",
    "print(a <= b)  # True\n",
    "print(a > b)   # False\n",
    "print(a >= b)  # False"
   ]
  },
  {
   "cell_type": "markdown",
   "id": "f5b4e3b1",
   "metadata": {
    "id": "f5b4e3b1"
   },
   "source": [
    "## **(5) and, or 연산자**\n",
    "\n",
    "만약에 조건이 2가지 이상인 경우에는?\n",
    "\n",
    "```python\n",
    "money = 100000\n",
    "airplane = False\n",
    "\n",
    "if money >= 100000 and airplane:\n",
    "    print(\"비행기를 타세요.\")\n",
    "elif money >= 100000 or airplane:\n",
    "    print(\"기차를 타세요.\")\n",
    "```"
   ]
  },
  {
   "cell_type": "code",
   "execution_count": null,
   "id": "e4b6b531",
   "metadata": {
    "id": "e4b6b531"
   },
   "outputs": [],
   "source": [
    "money = 100000\n",
    "airplane = False\n",
    "\n",
    "if money >= 100000 and airplane:\n",
    "    print(\"비행기를 타세요.\")\n",
    "elif money >= 100000 or airplane:\n",
    "    print(\"기차를 타세요.\")"
   ]
  },
  {
   "cell_type": "markdown",
   "id": "4d6a0f23",
   "metadata": {
    "id": "4d6a0f23"
   },
   "source": [
    "## [실습]\n",
    "\n",
    "### **문제 1: 기본 조건문**\n",
    "\n",
    "- 사용자로부터 숫자를 입력받아, 그 숫자가 양수, 음수, 또는 0인지 출력하세요."
   ]
  },
  {
   "cell_type": "code",
   "execution_count": 3,
   "id": "006c5404",
   "metadata": {
    "colab": {
     "base_uri": "https://localhost:8080/"
    },
    "executionInfo": {
     "elapsed": 2,
     "status": "ok",
     "timestamp": 1737684715757,
     "user": {
      "displayName": "Kim InSeop",
      "userId": "13965062148001194946"
     },
     "user_tz": -540
    },
    "id": "006c5404",
    "outputId": "daf97587-2395-44be-d598-f8d0a65d7fa3"
   },
   "outputs": [
    {
     "name": "stdout",
     "output_type": "stream",
     "text": [
      "-1는 음수입니다.\n"
     ]
    }
   ],
   "source": [
    "input_message = int(input(\"숫자를 입력하세요\"))\n",
    "\n",
    "if input_message >= 1:\n",
    "    print(f\"{input_message}는 양수입니다.\")\n",
    "\n",
    "elif input_message < 0: \n",
    "    print(f\"{input_message}는 음수입니다.\") \n",
    "else:\n",
    "    print(f\"{input_message}는 0 입니다.\")"
   ]
  },
  {
   "cell_type": "markdown",
   "id": "8b09f32c",
   "metadata": {
    "id": "8b09f32c"
   },
   "source": [
    "### **문제 2: 짝수와 홀수**\n",
    "\n",
    "- 사용자로부터 숫자를 입력받아, 짝수인지 홀수인지 판단하세요."
   ]
  },
  {
   "cell_type": "code",
   "execution_count": 21,
   "id": "23fe8167",
   "metadata": {
    "colab": {
     "base_uri": "https://localhost:8080/"
    },
    "executionInfo": {
     "elapsed": 2,
     "status": "ok",
     "timestamp": 1737684751528,
     "user": {
      "displayName": "Kim InSeop",
      "userId": "13965062148001194946"
     },
     "user_tz": -540
    },
    "id": "23fe8167",
    "outputId": "c7ba043e-13cb-4148-a5b9-a1e5f5548c21"
   },
   "outputs": [
    {
     "name": "stdout",
     "output_type": "stream",
     "text": [
      "7는 홀수입니다.\n"
     ]
    }
   ],
   "source": [
    "input_num = int(input(\"숫자를 입력하세요\"))\n",
    "\n",
    "if input_num % 2 == 0:\n",
    "    print(f\"{input_num}는 짝수입니다.\")\n",
    "elif input_num % 2 == 1:\n",
    "    print(f\"{input_num}는 홀수입니다.\")    "
   ]
  },
  {
   "cell_type": "markdown",
   "id": "8daca7ed",
   "metadata": {
    "id": "8daca7ed"
   },
   "source": [
    "### **문제 3: 비밀번호 유효성 검사**\n",
    "\n",
    "- 사용자로부터 비밀번호를 입력받아, 비밀번호가 8자 이상인지 검사하세요."
   ]
  },
  {
   "cell_type": "code",
   "execution_count": 23,
   "id": "e8381abe",
   "metadata": {
    "colab": {
     "base_uri": "https://localhost:8080/"
    },
    "executionInfo": {
     "elapsed": 254,
     "status": "ok",
     "timestamp": 1737684847153,
     "user": {
      "displayName": "Kim InSeop",
      "userId": "13965062148001194946"
     },
     "user_tz": -540
    },
    "id": "e8381abe",
    "outputId": "1d122f38-116c-497b-a937-e5f8369da4fd"
   },
   "outputs": [
    {
     "name": "stdout",
     "output_type": "stream",
     "text": [
      "비밀번호가 8자 이하입니다.\n"
     ]
    }
   ],
   "source": [
    "input_password = input(\"비밀번호를 입력하세요\")\n",
    "\n",
    "if len(input_password) >= 8:\n",
    "    print(f\"비밀번호가 8자 이상입니다.\")\n",
    "elif len(input_password) <= 8:\n",
    "    print(f\"비밀번호가 8자 이하입니다.\")"
   ]
  },
  {
   "cell_type": "markdown",
   "id": "0c168538",
   "metadata": {
    "id": "0c168538"
   },
   "source": [
    "### **문제 4: 학점 계산**\n",
    "\n",
    "점수를 입력받아 아래 기준에 따라 학점을 출력하세요:\n",
    "\n",
    "- 90점 이상: A\n",
    "- 80점 이상: B\n",
    "- 70점 이상: C\n",
    "- 나머지: F"
   ]
  },
  {
   "cell_type": "code",
   "execution_count": 26,
   "id": "d2c6998f",
   "metadata": {
    "id": "d2c6998f"
   },
   "outputs": [
    {
     "name": "stdout",
     "output_type": "stream",
     "text": [
      "87점 이상: B\n"
     ]
    }
   ],
   "source": [
    "import random\n",
    "\n",
    "score = random.randint(0, 100)\n",
    "\n",
    "if score >= 90:\n",
    "    print(f\"{score}점 이상: A\")\n",
    "elif score >= 80:\n",
    "    print(f\"{score}점 이상: B\")\n",
    "elif score >= 70:\n",
    "    print(f\"{score}점 이상: C\")\n",
    "else:\n",
    "    print(f\"나머지: F\")"
   ]
  },
  {
   "cell_type": "markdown",
   "id": "1c96d24a",
   "metadata": {
    "id": "1c96d24a"
   },
   "source": [
    "### **문제 5: 포함 여부 검사**\n",
    "\n",
    "리스트에 특정 값이 있는지 검사하는 코드를 완성하세요."
   ]
  },
  {
   "cell_type": "code",
   "execution_count": 54,
   "id": "b78301f8",
   "metadata": {
    "colab": {
     "base_uri": "https://localhost:8080/"
    },
    "executionInfo": {
     "elapsed": 2707,
     "status": "ok",
     "timestamp": 1737685034718,
     "user": {
      "displayName": "Kim InSeop",
      "userId": "13965062148001194946"
     },
     "user_tz": -540
    },
    "id": "b78301f8",
    "outputId": "44570a6f-13c4-493e-ab78-abd777e69174"
   },
   "outputs": [
    {
     "name": "stdout",
     "output_type": "stream",
     "text": [
      "1, 3, 5 중 일부 또는 전부가 없습니다. 현재 리스트: [1, 4, 8]\n"
     ]
    }
   ],
   "source": [
    "random_list = [random.randint(0, 10) for _ in range(3)]\n",
    "\n",
    "if all(x in random_list for x in [1, 3, 5]):\n",
    "    print(\"1, 3, 5가 모두 존재합니다.\")\n",
    "else:\n",
    "    print(f\"1, 3, 5 중 일부 또는 전부가 없습니다. 현재 리스트: {random_list}\")"
   ]
  },
  {
   "cell_type": "markdown",
   "id": "730c2d15",
   "metadata": {
    "id": "730c2d15"
   },
   "source": [
    "### **문제 6: 나이대 판단**\n",
    "\n",
    "- 사용자로부터 나이를 입력받아, 나이대(어린이, 성인, 시니어)를 출력하세요."
   ]
  },
  {
   "cell_type": "code",
   "execution_count": 55,
   "id": "411061f9",
   "metadata": {
    "colab": {
     "base_uri": "https://localhost:8080/"
    },
    "executionInfo": {
     "elapsed": 320,
     "status": "ok",
     "timestamp": 1737685086415,
     "user": {
      "displayName": "Kim InSeop",
      "userId": "13965062148001194946"
     },
     "user_tz": -540
    },
    "id": "411061f9",
    "outputId": "2b0c0e61-1f52-454a-91c0-dcc2f12f32f6"
   },
   "outputs": [
    {
     "name": "stdout",
     "output_type": "stream",
     "text": [
      "성인\n"
     ]
    }
   ],
   "source": [
    "input_age = int(input(\"나이를 입력하세요\"))\n",
    "\n",
    "if input_age <= 20:\n",
    "    print(\"어린이\")\n",
    "elif input_age <= 60:\n",
    "    print(\"성인\")\n",
    "else:\n",
    "    print(\"시니어\")"
   ]
  },
  {
   "cell_type": "markdown",
   "id": "051f0307",
   "metadata": {
    "id": "051f0307"
   },
   "source": [
    "### **문제 7: 온도에 따른 행동**\n",
    "\n",
    "온도를 입력받아, 다음 규칙에 따라 행동을 출력하세요:\n",
    "\n",
    "- 30도 이상: \"에어컨을 켭니다.\"\n",
    "- 10도 이상 30도 미만: \"적당한 날씨입니다.\"\n",
    "- 10도 미만: \"난방을 켭니다.\""
   ]
  },
  {
   "cell_type": "code",
   "execution_count": 56,
   "id": "dd7dc574",
   "metadata": {
    "id": "dd7dc574"
   },
   "outputs": [
    {
     "name": "stdout",
     "output_type": "stream",
     "text": [
      "적당한 날씨네\n"
     ]
    }
   ],
   "source": [
    "temp = 24\n",
    "\n",
    "if temp >= 30:\n",
    "    print(\"에어컨좀 키자\")\n",
    "elif temp >= 10 and temp < 30:\n",
    "    print(\"적당한 날씨네\")\n",
    "elif temp < 10:\n",
    "    print(\"난방좀 키자\")"
   ]
  },
  {
   "cell_type": "markdown",
   "id": "a9f56ad7",
   "metadata": {
    "id": "a9f56ad7"
   },
   "source": [
    "### **문제 8: 중첩 조건문**\n",
    "\n",
    "점수와 출석률을 입력받아 합격 여부를 출력하세요.\n",
    "\n",
    "- 점수가 60점 이상이고 출석률이 80% 이상이면 \"합격\"\n",
    "- 그렇지 않으면 \"불합격\""
   ]
  },
  {
   "cell_type": "code",
   "execution_count": 58,
   "id": "61b1cad2",
   "metadata": {
    "colab": {
     "base_uri": "https://localhost:8080/"
    },
    "executionInfo": {
     "elapsed": 405,
     "status": "ok",
     "timestamp": 1737685264886,
     "user": {
      "displayName": "Kim InSeop",
      "userId": "13965062148001194946"
     },
     "user_tz": -540
    },
    "id": "61b1cad2",
    "outputId": "17969ebf-cee8-45e5-e233-3ca23c243363"
   },
   "outputs": [
    {
     "name": "stdout",
     "output_type": "stream",
     "text": [
      "합격\n"
     ]
    }
   ],
   "source": [
    "socre = random.randint(0, 100)\n",
    "rate = random.randint(0, 100)\n",
    "\n",
    "if score >= 60 and rate >= 80:\n",
    "    print(\"합격\")\n",
    "else:\n",
    "    print(\"불합격\")"
   ]
  },
  {
   "cell_type": "markdown",
   "id": "8d9cd3ee",
   "metadata": {
    "id": "8d9cd3ee"
   },
   "source": [
    "### **문제 9: 로그인 시스템**\n",
    "\n",
    "아이디와 비밀번호를 입력받아 인증 여부를 출력하세요.\n",
    "\n",
    "- 아이디: `admin`\n",
    "- 비밀번호: `1234`"
   ]
  },
  {
   "cell_type": "code",
   "execution_count": 64,
   "id": "51c57ed3",
   "metadata": {
    "colab": {
     "base_uri": "https://localhost:8080/"
    },
    "executionInfo": {
     "elapsed": 269,
     "status": "ok",
     "timestamp": 1737685296033,
     "user": {
      "displayName": "Kim InSeop",
      "userId": "13965062148001194946"
     },
     "user_tz": -540
    },
    "id": "51c57ed3",
    "outputId": "d3d9ee0a-c2ae-476b-83d0-0e6a57c40f8e"
   },
   "outputs": [
    {
     "name": "stdout",
     "output_type": "stream",
     "text": [
      "login succes\n"
     ]
    }
   ],
   "source": [
    "id = \"admin\"\n",
    "pw = \"1234\"\n",
    "\n",
    "if id == \"admin\":\n",
    "    if pw == \"1234\":\n",
    "        print(\"login succes\")\n",
    "    else:\n",
    "        print(\"Password failed\")\n",
    "else:\n",
    "    print(\"login failed(ID)\")"
   ]
  },
  {
   "cell_type": "markdown",
   "id": "cee25899",
   "metadata": {
    "id": "cee25899"
   },
   "source": [
    "### **문제 10: 3의 배수 판단**\n",
    "\n",
    "- 숫자를 입력받아, 3의 배수인지 확인하고, 맞다면 \"3의 배수입니다.\"를 출력하세요."
   ]
  },
  {
   "cell_type": "code",
   "execution_count": 67,
   "id": "00844f35",
   "metadata": {
    "colab": {
     "base_uri": "https://localhost:8080/"
    },
    "executionInfo": {
     "elapsed": 439,
     "status": "ok",
     "timestamp": 1737685357506,
     "user": {
      "displayName": "Kim InSeop",
      "userId": "13965062148001194946"
     },
     "user_tz": -540
    },
    "id": "00844f35",
    "outputId": "100f88a5-2804-495c-cad7-3c012fd65e4a"
   },
   "outputs": [
    {
     "name": "stdout",
     "output_type": "stream",
     "text": [
      "랜덤 숫자: 3\n",
      "3의 배수입니다.\n"
     ]
    }
   ],
   "source": [
    "num = random.randint(0, 10)\n",
    "\n",
    "if num % 3 == 0:\n",
    "    print(f\"랜덤 숫자: {num}\\n3의 배수입니다.\")\n",
    "else:\n",
    "    print(f\"랜덤 숫자: {num}\\n3의 배수가 아닙니다.\")"
   ]
  },
  {
   "cell_type": "code",
   "execution_count": null,
   "id": "86yDnAXYHcDI",
   "metadata": {
    "id": "86yDnAXYHcDI"
   },
   "outputs": [],
   "source": []
  }
 ],
 "metadata": {
  "colab": {
   "provenance": []
  },
  "kernelspec": {
   "display_name": "ds_study",
   "language": "python",
   "name": "python3"
  },
  "language_info": {
   "codemirror_mode": {
    "name": "ipython",
    "version": 3
   },
   "file_extension": ".py",
   "mimetype": "text/x-python",
   "name": "python",
   "nbconvert_exporter": "python",
   "pygments_lexer": "ipython3",
   "version": "3.8.19"
  }
 },
 "nbformat": 4,
 "nbformat_minor": 5
}
