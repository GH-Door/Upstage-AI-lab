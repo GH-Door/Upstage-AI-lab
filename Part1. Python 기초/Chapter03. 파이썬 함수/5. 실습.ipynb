{
 "cells": [
  {
   "cell_type": "markdown",
   "id": "fd32ca7b",
   "metadata": {},
   "source": [
    "# [실습]\n",
    "\n",
    "### 문제 1: 함수 작성\n",
    "\n",
    "- 두 숫자를 입력받아 더한 값을 반환하는 함수를 작성하세요."
   ]
  },
  {
   "cell_type": "code",
   "execution_count": 6,
   "id": "1c4f7581",
   "metadata": {},
   "outputs": [
    {
     "data": {
      "text/plain": [
       "28"
      ]
     },
     "execution_count": 6,
     "metadata": {},
     "output_type": "execute_result"
    }
   ],
   "source": [
    "def plus():\n",
    "    num1 = int(input(\"숫자를 입력해주세요\"))\n",
    "    num2 = int(input(\"숫자를 입력해주세요\"))\n",
    "    total = num1 + num2\n",
    "    return total\n",
    "\n",
    "plus()"
   ]
  },
  {
   "cell_type": "markdown",
   "id": "fe2e52e9",
   "metadata": {},
   "source": [
    "### 문제 2: 기본값 매개변수\n",
    "\n",
    "이름과 나이를 출력하는 함수를 작성하세요. 나이를 입력하지 않으면 기본값으로 20을 사용하세요."
   ]
  },
  {
   "cell_type": "code",
   "execution_count": 13,
   "id": "e2bfd28e",
   "metadata": {},
   "outputs": [
    {
     "name": "stdout",
     "output_type": "stream",
     "text": [
      "이름: 문국현\n",
      "나이: 20\n"
     ]
    }
   ],
   "source": [
    "def name_age_print():\n",
    "    name = input(\"이름을 입력하세요\")\n",
    "    age = input(\"나이를 입력하세요\")\n",
    "\n",
    "    if age == '':\n",
    "        age = 20\n",
    "    print(f\"이름: {name}\\n나이: {age}\")\n",
    "\n",
    "name_age_print()"
   ]
  },
  {
   "cell_type": "markdown",
   "id": "7e20ba7a",
   "metadata": {},
   "source": [
    "### 문제 3: 가변 매개변수\n",
    "\n",
    "- 여러 개의 숫자를 입력받아 그 합을 반환하는 함수를 작성하세요."
   ]
  },
  {
   "cell_type": "code",
   "execution_count": 18,
   "id": "84d6dd4b",
   "metadata": {},
   "outputs": [
    {
     "data": {
      "text/plain": [
       "40"
      ]
     },
     "execution_count": 18,
     "metadata": {},
     "output_type": "execute_result"
    }
   ],
   "source": [
    "def num_sum():\n",
    "    input_num_1 = int(input(\"숫자를 입력하세요\"))\n",
    "    input_num_2 = int(input(\"숫자를 입력하세요\"))\n",
    "    input_num_3 = int(input(\"숫자를 입력하세요\"))\n",
    "    total = input_num_1 + input_num_2 + input_num_3\n",
    "\n",
    "    return total\n",
    "\n",
    "num_sum()"
   ]
  },
  {
   "cell_type": "markdown",
   "id": "f9cd5778",
   "metadata": {},
   "source": [
    "### 문제 4: 클래스 정의\n",
    "\n",
    "- `Car` 클래스를 정의하고, `brand`와 `model`을 속성으로 가지며, 이를 출력하는 메서드를 작성하세요."
   ]
  },
  {
   "cell_type": "code",
   "execution_count": 19,
   "id": "86f7c86a",
   "metadata": {},
   "outputs": [
    {
     "name": "stdout",
     "output_type": "stream",
     "text": [
      "브랜드: Hyundai, 모델: Sonata\n"
     ]
    }
   ],
   "source": [
    "class Car:\n",
    "    def __init__(self, brand, model):\n",
    "        self.brand = brand\n",
    "        self.model = model\n",
    "\n",
    "    def display(self):\n",
    "        print(f\"브랜드: {self.brand}, 모델: {self.model}\")\n",
    "\n",
    "my_car = Car(\"Hyundai\", \"Sonata\")\n",
    "my_car.display()"
   ]
  },
  {
   "cell_type": "markdown",
   "id": "a56781c2",
   "metadata": {},
   "source": [
    "### 문제 5: 클래스 변수\n",
    "\n",
    "`Student` 클래스를 정의하고, 생성될 때마다 학생 수를 카운트하는 클래스를 작성하세요."
   ]
  },
  {
   "cell_type": "code",
   "execution_count": 21,
   "id": "a71c8a9d",
   "metadata": {},
   "outputs": [
    {
     "name": "stdout",
     "output_type": "stream",
     "text": [
      "현재 학생 수: 3\n"
     ]
    }
   ],
   "source": [
    "class Student:\n",
    "    count = 0\n",
    "\n",
    "    def __init__(self):\n",
    "        Student.count += 1\n",
    "\n",
    "    @classmethod\n",
    "    def get_count(cls):\n",
    "        return cls.count\n",
    "    \n",
    "s1 = Student()\n",
    "s2 = Student()\n",
    "s3 = Student()\n",
    "\n",
    "print(\"현재 학생 수:\", Student.get_count())"
   ]
  },
  {
   "cell_type": "markdown",
   "id": "2bfcb463",
   "metadata": {},
   "source": [
    "### 문제 6: 리스트의 최대값 찾기 함수\n",
    "\n",
    "- 리스트를 입력받아 최대값을 반환하는 함수를 작성하세요."
   ]
  },
  {
   "cell_type": "code",
   "execution_count": 24,
   "id": "3a41d99d",
   "metadata": {},
   "outputs": [
    {
     "data": {
      "text/plain": [
       "30"
      ]
     },
     "execution_count": 24,
     "metadata": {},
     "output_type": "execute_result"
    }
   ],
   "source": [
    "def max_return():\n",
    "    input_num = input(\"숫자를 입력하세요 (예: 10,20,30): \")\n",
    "    list_input = list(map(int, input_num.split(',')))\n",
    "    return max(list_input)\n",
    "\n",
    "max_return()"
   ]
  },
  {
   "cell_type": "markdown",
   "id": "9359765f",
   "metadata": {},
   "source": [
    "### 문제 7: 문자열 역순 반환 함수\n",
    "\n",
    "- 문자열을 입력받아 역순으로 반환하는 함수를 작성하세요."
   ]
  },
  {
   "cell_type": "code",
   "execution_count": 25,
   "id": "cdd24b26",
   "metadata": {},
   "outputs": [
    {
     "data": {
      "text/plain": [
       "'..다체하 늘오'"
      ]
     },
     "execution_count": 25,
     "metadata": {},
     "output_type": "execute_result"
    }
   ],
   "source": [
    "def sort_str():\n",
    "    input_str = input(\"문자를 입력해주세요\")\n",
    "    return input_str[::-1]\n",
    "\n",
    "sort_str()"
   ]
  },
  {
   "cell_type": "markdown",
   "id": "8a42d048",
   "metadata": {},
   "source": [
    "### 문제 8: 은행 계좌 클래스\n",
    "\n",
    "- `BankAccount` 클래스를 정의하고, 입금하고 출금하는 메서드를 작성하세요.\n",
    "- 클래스 생성 시 balance를 입력하세요."
   ]
  },
  {
   "cell_type": "code",
   "execution_count": 31,
   "id": "ed57f49a",
   "metadata": {},
   "outputs": [
    {
     "name": "stdout",
     "output_type": "stream",
     "text": [
      "5000원 입금 완료! 현재 잔액: 15000원\n",
      "3000원 출금 완료! 현재 잔액: 12000원\n",
      "현재 출금 금액: 15000\n",
      "잔액이 부족합니다.\n"
     ]
    }
   ],
   "source": [
    "class BankAccount:\n",
    "    def __init__(self, balance):  # 계좌 생성 시 잔액 입력\n",
    "        self.balance = balance\n",
    "\n",
    "    def deposit(self, amount):  # 입금\n",
    "        self.balance += amount\n",
    "        print(f\"{amount}원 입금 완료! 현재 잔액: {self.balance}원\")\n",
    "\n",
    "    def withdraw(self, amount):  # 출금\n",
    "        if amount <= self.balance:\n",
    "            self.balance -= amount\n",
    "            print(f\"{amount}원 출금 완료! 현재 잔액: {self.balance}원\")\n",
    "        else:\n",
    "            print(f\"현재 출금 금액: {amount}\\n잔액이 부족합니다.\")\n",
    "\n",
    "my_account = BankAccount(10000)\n",
    "my_account.deposit(5000)\n",
    "my_account.withdraw(3000)\n",
    "my_account.withdraw(15000)"
   ]
  },
  {
   "cell_type": "markdown",
   "id": "600f0970",
   "metadata": {},
   "source": [
    "### 문제 9: 다중 메서드 클래스\n",
    "\n",
    "- `Rectangle` 클래스를 정의하고, 가로와 세로를 받아 넓이와 둘레를 계산하는 메서드를 작성하세요."
   ]
  },
  {
   "cell_type": "code",
   "execution_count": 46,
   "id": "45540b47",
   "metadata": {},
   "outputs": [
    {
     "name": "stdout",
     "output_type": "stream",
     "text": [
      "면적: 9\n",
      "둘레: 12\n"
     ]
    }
   ],
   "source": [
    "import math\n",
    "\n",
    "class RightTriangle:\n",
    "    def __init__(self, width, height):\n",
    "        self.width = width\n",
    "        self.height = height\n",
    "\n",
    "    def area(self):\n",
    "        return self.width * self.height\n",
    "\n",
    "    def perimeter(self):\n",
    "        return ((self.width + self.height) * 2)\n",
    "\n",
    "triangle = RightTriangle(3, 3)\n",
    "\n",
    "print(f\"면적: {triangle.area()}\")\n",
    "print(f\"둘레: {triangle.perimeter()}\")"
   ]
  },
  {
   "cell_type": "markdown",
   "id": "70667016",
   "metadata": {},
   "source": [
    "### 문제 10: 학생 관리 시스템\n",
    "\n",
    "- `Student` 클래스를 정의하고, 학생 이름과 점수를 관리하며 평균 점수를 계산하는 메서드를 작성하세요."
   ]
  },
  {
   "cell_type": "code",
   "execution_count": 48,
   "id": "c5dee565",
   "metadata": {},
   "outputs": [
    {
     "name": "stdout",
     "output_type": "stream",
     "text": [
      "학생 이름: 하하\n",
      "점수: [70, 60, 90, 80]\n",
      "평균 점수: 75.0\n"
     ]
    }
   ],
   "source": [
    "class Student:\n",
    "    def __init__(self, name, score):\n",
    "        self.name = name\n",
    "        self.score = score\n",
    "\n",
    "    def stu_name_score(self):\n",
    "        print(f\"학생 이름: {self.name}\\n점수: {self.score}\")\n",
    "\n",
    "    def mean_score(self):\n",
    "        mean_sc = sum(self.score) / len(self.score)\n",
    "        print(f\"평균 점수: {round(mean_sc, 2)}\")\n",
    "\n",
    "stu = Student(\"하하\", [70, 60, 90, 80])\n",
    "stu.stu_name_score()\n",
    "stu.mean_score()"
   ]
  },
  {
   "cell_type": "code",
   "execution_count": null,
   "id": "b6c53607",
   "metadata": {},
   "outputs": [],
   "source": []
  }
 ],
 "metadata": {
  "kernelspec": {
   "display_name": "ds_study",
   "language": "python",
   "name": "python3"
  },
  "language_info": {
   "codemirror_mode": {
    "name": "ipython",
    "version": 3
   },
   "file_extension": ".py",
   "mimetype": "text/x-python",
   "name": "python",
   "nbconvert_exporter": "python",
   "pygments_lexer": "ipython3",
   "version": "3.8.19"
  }
 },
 "nbformat": 4,
 "nbformat_minor": 5
}
