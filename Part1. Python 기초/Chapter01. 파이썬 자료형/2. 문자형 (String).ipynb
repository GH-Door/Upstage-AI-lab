{
 "cells": [
  {
   "cell_type": "markdown",
   "id": "7dde1d4e",
   "metadata": {
    "id": "7dde1d4e"
   },
   "source": [
    "# 문자형 (String)\n",
    "\n",
    "문자형(String)은 문자의 집합으로 이루어진 데이터 타입입니다. 텍스트 데이터를 다룰 때 사용되며, 작은 따옴표(') 또는 큰 따옴표(\")로 묶어서 표현합니다.\n"
   ]
  },
  {
   "cell_type": "code",
   "execution_count": null,
   "id": "63c6e701",
   "metadata": {
    "id": "63c6e701"
   },
   "outputs": [],
   "source": [
    "\n",
    "a = \"python\"\n",
    "b = 'easy'\n",
    "print(type(b))  # <class 'str'>\n"
   ]
  },
  {
   "cell_type": "code",
   "execution_count": 1,
   "id": "L0gonvEV03Lc",
   "metadata": {
    "colab": {
     "base_uri": "https://localhost:8080/",
     "height": 141
    },
    "executionInfo": {
     "elapsed": 280,
     "status": "error",
     "timestamp": 1737680471191,
     "user": {
      "displayName": "Kim InSeop",
      "userId": "13965062148001194946"
     },
     "user_tz": -540
    },
    "id": "L0gonvEV03Lc",
    "outputId": "ea92cf07-9dc4-4368-f006-f35b883b4493"
   },
   "outputs": [
    {
     "ename": "TypeError",
     "evalue": "unsupported operand type(s) for +: 'int' and 'str'",
     "output_type": "error",
     "traceback": [
      "\u001b[0;31m---------------------------------------------------------------------------\u001b[0m",
      "\u001b[0;31mTypeError\u001b[0m                                 Traceback (most recent call last)",
      "\u001b[0;32m<ipython-input-1-f28364f12ac7>\u001b[0m in \u001b[0;36m<cell line: 0>\u001b[0;34m()\u001b[0m\n\u001b[0;32m----> 1\u001b[0;31m \u001b[0;36m1\u001b[0m \u001b[0;34m+\u001b[0m \u001b[0;34m'1'\u001b[0m \u001b[0;31m# 11? 2?\u001b[0m\u001b[0;34m\u001b[0m\u001b[0;34m\u001b[0m\u001b[0m\n\u001b[0m",
      "\u001b[0;31mTypeError\u001b[0m: unsupported operand type(s) for +: 'int' and 'str'"
     ]
    }
   ],
   "source": [
    "1 + '1' # 11? 2?"
   ]
  },
  {
   "cell_type": "markdown",
   "id": "ddf20083",
   "metadata": {
    "id": "ddf20083"
   },
   "source": [
    "## (1) 문자형 기본 사용법\n",
    "\n",
    "### **문자형 생성**\n"
   ]
  },
  {
   "cell_type": "code",
   "execution_count": null,
   "id": "33369ee1",
   "metadata": {
    "id": "33369ee1"
   },
   "outputs": [],
   "source": [
    "\n",
    "# 작은 따옴표와 큰 따옴표 모두 사용 가능\n",
    "text1 = 'Hello'\n",
    "text2 = \"World\"\n",
    "\n",
    "# 따옴표 혼합 사용\n",
    "text3 = \"It's a beautiful day\"\n",
    "\n",
    "print(text1, text2)  # Hello World\n",
    "print(text3)         # It's a beautiful day\n"
   ]
  },
  {
   "cell_type": "markdown",
   "id": "8f13d96c",
   "metadata": {
    "id": "8f13d96c"
   },
   "source": [
    "### **문자열 결합**\n",
    "\n",
    "문자열을 결합(Concatenation)하려면 `+` 연산자를 사용합니다.\n"
   ]
  },
  {
   "cell_type": "code",
   "execution_count": null,
   "id": "66dcbc84",
   "metadata": {
    "id": "66dcbc84"
   },
   "outputs": [],
   "source": [
    "greeting = \"Hello, \"\n",
    "name = \"Alice\"\n",
    "message = greeting + name\n",
    "print(message)  # Hello, Alice"
   ]
  },
  {
   "cell_type": "markdown",
   "id": "64cd0b11",
   "metadata": {
    "id": "64cd0b11"
   },
   "source": [
    "### **문자열 반복**\n",
    "\n",
    "문자열을 반복하려면 `*` 연산자를 사용합니다.\n"
   ]
  },
  {
   "cell_type": "code",
   "execution_count": null,
   "id": "196c6353",
   "metadata": {
    "id": "196c6353"
   },
   "outputs": [],
   "source": [
    "text = \"Python! \"\n",
    "print(text * 3)  # Python! Python! Python!"
   ]
  },
  {
   "cell_type": "markdown",
   "id": "b3de9eb5",
   "metadata": {
    "id": "b3de9eb5"
   },
   "source": [
    "## (2) 문자열 인덱싱과 슬라이싱"
   ]
  },
  {
   "cell_type": "markdown",
   "id": "0f8874e6",
   "metadata": {
    "id": "0f8874e6"
   },
   "source": [
    "![img](https://file.notion.so/f/f/55199e9f-cf92-44a7-8d9d-f768017a960b/39b25fb9-0c4d-4050-9024-5ca53aacb94f/Untitled.png?table=block&id=8cec02a2-44e4-4ee4-82ad-9e7fd23ba11e&spaceId=55199e9f-cf92-44a7-8d9d-f768017a960b&expirationTimestamp=1735466400000&signature=X4RFliMGb5Y3rypaNRSMauaGd_kssHPLnDsFZop3A84&downloadName=Untitled.png)"
   ]
  },
  {
   "cell_type": "code",
   "execution_count": 2,
   "id": "949e72f8",
   "metadata": {
    "colab": {
     "base_uri": "https://localhost:8080/"
    },
    "executionInfo": {
     "elapsed": 268,
     "status": "ok",
     "timestamp": 1737680637709,
     "user": {
      "displayName": "Kim InSeop",
      "userId": "13965062148001194946"
     },
     "user_tz": -540
    },
    "id": "949e72f8",
    "outputId": "c1e466c3-76f4-4fda-d2c3-8fd66349a06a"
   },
   "outputs": [
    {
     "name": "stdout",
     "output_type": "stream",
     "text": [
      "P\n",
      "n\n"
     ]
    }
   ],
   "source": [
    "text = \"Python\"\n",
    "print(text[0])   # P\n",
    "print(text[-1])  # n (뒤에서 첫 번째)"
   ]
  },
  {
   "cell_type": "code",
   "execution_count": 7,
   "id": "83e9d32b",
   "metadata": {
    "colab": {
     "base_uri": "https://localhost:8080/"
    },
    "executionInfo": {
     "elapsed": 264,
     "status": "ok",
     "timestamp": 1737680751522,
     "user": {
      "displayName": "Kim InSeop",
      "userId": "13965062148001194946"
     },
     "user_tz": -540
    },
    "id": "83e9d32b",
    "outputId": "2bce0d0d-5cb6-4206-c3d5-6e4e4f37c0e5"
   },
   "outputs": [
    {
     "name": "stdout",
     "output_type": "stream",
     "text": [
      "Pyt\n",
      "Pyth\n",
      "Pto\n",
      "nohtyP\n"
     ]
    }
   ],
   "source": [
    "text = \"Python\"\n",
    "print(text[0:3])   # Pyt (0부터 2까지) => 0 <= x < 3\n",
    "print(text[:4])    # Pyth (처음부터 3까지)\n",
    "print(text[::2])   # Pto (2칸씩 건너뜀)\n",
    "print(text[::-1])   # nohtyP (역순)"
   ]
  },
  {
   "cell_type": "markdown",
   "id": "4fcb0d65",
   "metadata": {
    "id": "4fcb0d65"
   },
   "source": [
    "## (3) 문자열 함수\n",
    "\n",
    "문자열 길이 확인, 대소문자 변환, 문자열 검색, 문자열 교체, 문자열 분리와 결합, 공백 제거, 문자열 포함 여부 등 다양한 문자열 관련 함수들을 사용할 수 있습니다.\n"
   ]
  },
  {
   "cell_type": "markdown",
   "id": "2927dbdf",
   "metadata": {
    "id": "2927dbdf"
   },
   "source": [
    "### **문자열 길이 확인: `len()`**\n",
    "\n",
    "문자열의 길이를 반환합니다."
   ]
  },
  {
   "cell_type": "code",
   "execution_count": null,
   "id": "5a945623",
   "metadata": {
    "id": "5a945623"
   },
   "outputs": [],
   "source": [
    "\n",
    "text = \"Hello, Python!\"\n",
    "print(len(text))  # 14\n"
   ]
  },
  {
   "cell_type": "markdown",
   "id": "43932745",
   "metadata": {
    "id": "43932745"
   },
   "source": [
    "### **대소문자 변환**\n",
    "\n",
    "- **`upper()`**: 문자열을 대문자로 변환\n",
    "- **`lower()`**: 문자열을 소문자로 변환\n",
    "- **`capitalize()`**: 첫 글자만 대문자로 변환"
   ]
  },
  {
   "cell_type": "code",
   "execution_count": 8,
   "id": "fa3eaacf",
   "metadata": {
    "colab": {
     "base_uri": "https://localhost:8080/"
    },
    "executionInfo": {
     "elapsed": 244,
     "status": "ok",
     "timestamp": 1737680788647,
     "user": {
      "displayName": "Kim InSeop",
      "userId": "13965062148001194946"
     },
     "user_tz": -540
    },
    "id": "fa3eaacf",
    "outputId": "ea3388c5-02db-4dc2-a7c2-811e67752f3f"
   },
   "outputs": [
    {
     "name": "stdout",
     "output_type": "stream",
     "text": [
      "HELLO WORLD\n",
      "hello world\n",
      "Hello world\n"
     ]
    }
   ],
   "source": [
    "text = \"hello world\"\n",
    "print(text.upper())       # HELLO WORLD\n",
    "print(text.lower())       # hello world\n",
    "print(text.capitalize())  # Hello world"
   ]
  },
  {
   "cell_type": "markdown",
   "id": "d024e9bf",
   "metadata": {
    "id": "d024e9bf"
   },
   "source": [
    "### **문자열 검색**\n",
    "\n",
    "- **`find(sub)`**: 특정 문자열의 시작 위치 반환 (없으면 `1`)\n",
    "- **`count(sub)`**: 특정 문자열이 몇 번 등장하는지 반환"
   ]
  },
  {
   "cell_type": "code",
   "execution_count": null,
   "id": "d8b97fde",
   "metadata": {
    "id": "d8b97fde"
   },
   "outputs": [],
   "source": [
    "text = \"hello world, hello Python\"\n",
    "print(text.find(\"world\"))  # 6\n",
    "print(text.find(\"Java\"))   # -1\n",
    "print(text.count(\"hello\")) # 2"
   ]
  },
  {
   "cell_type": "markdown",
   "id": "b26d4d57",
   "metadata": {
    "id": "b26d4d57"
   },
   "source": [
    "### **문자열 교체: `replace()`**\n",
    "\n",
    "특정 부분 문자열을 다른 문자열로 교체합니다."
   ]
  },
  {
   "cell_type": "code",
   "execution_count": null,
   "id": "38bd18e5",
   "metadata": {
    "id": "38bd18e5"
   },
   "outputs": [],
   "source": [
    "text = \"I like Python\"\n",
    "new_text = text.replace(\"Python\", \"Java\")\n",
    "print(new_text)  # I like Java"
   ]
  },
  {
   "cell_type": "markdown",
   "id": "f31546ee",
   "metadata": {
    "id": "f31546ee"
   },
   "source": [
    "### **문자열 분리와 결합**\n",
    "\n",
    "- **`split(delimiter)`**: 특정 구분자를 기준으로 문자열을 나눔\n",
    "- **`join(iterable)`**: 리스트 같은 반복 가능한 객체를 문자열로 결합"
   ]
  },
  {
   "cell_type": "code",
   "execution_count": 10,
   "id": "3b6ca58f",
   "metadata": {
    "colab": {
     "base_uri": "https://localhost:8080/"
    },
    "executionInfo": {
     "elapsed": 242,
     "status": "ok",
     "timestamp": 1737680941435,
     "user": {
      "displayName": "Kim InSeop",
      "userId": "13965062148001194946"
     },
     "user_tz": -540
    },
    "id": "3b6ca58f",
    "outputId": "70560a49-4750-458c-ed8b-b8b2f4b12693"
   },
   "outputs": [
    {
     "name": "stdout",
     "output_type": "stream",
     "text": [
      "['apple', 'banana', 'cherry']\n",
      "apple-banana-cherry\n"
     ]
    }
   ],
   "source": [
    "# split 예제\n",
    "text = \"apple,banana,cherry\"\n",
    "fruits = text.split(\",\")  # 리스트로 반환\n",
    "print(fruits)  # ['apple', 'banana', 'cherry']\n",
    "\n",
    "# join 예제\n",
    "fruits_list = ['apple', 'banana', 'cherry']\n",
    "result = \"-\".join(fruits_list)\n",
    "print(result)  # apple banana cherry"
   ]
  },
  {
   "cell_type": "markdown",
   "id": "b78dfe1e",
   "metadata": {
    "id": "b78dfe1e"
   },
   "source": [
    "### **공백 제거: `strip()`**\n",
    "\n",
    "문자열 양쪽의 공백을 제거합니다.\n",
    "\n",
    "- **`lstrip()`**: 왼쪽 공백 제거\n",
    "- **`rstrip()`**: 오른쪽 공백 제거"
   ]
  },
  {
   "cell_type": "code",
   "execution_count": 11,
   "id": "36454fc4",
   "metadata": {
    "colab": {
     "base_uri": "https://localhost:8080/"
    },
    "executionInfo": {
     "elapsed": 248,
     "status": "ok",
     "timestamp": 1737680958295,
     "user": {
      "displayName": "Kim InSeop",
      "userId": "13965062148001194946"
     },
     "user_tz": -540
    },
    "id": "36454fc4",
    "outputId": "9fa73759-9501-4d53-a525-d90c63f8479a"
   },
   "outputs": [
    {
     "name": "stdout",
     "output_type": "stream",
     "text": [
      "Hello, World!\n"
     ]
    }
   ],
   "source": [
    "text = \"   Hello, World!   \"\n",
    "print(text.strip())  # \"Hello, World!\""
   ]
  },
  {
   "cell_type": "code",
   "execution_count": 12,
   "id": "-y1J1NR62zyb",
   "metadata": {
    "colab": {
     "base_uri": "https://localhost:8080/"
    },
    "executionInfo": {
     "elapsed": 253,
     "status": "ok",
     "timestamp": 1737680968336,
     "user": {
      "displayName": "Kim InSeop",
      "userId": "13965062148001194946"
     },
     "user_tz": -540
    },
    "id": "-y1J1NR62zyb",
    "outputId": "17deebcf-1e4c-4ac8-ca70-2f6b448353cd"
   },
   "outputs": [
    {
     "data": {
      "text/plain": [
       "3"
      ]
     },
     "execution_count": 12,
     "metadata": {},
     "output_type": "execute_result"
    }
   ],
   "source": [
    "data = '3     '\n",
    "int(data)"
   ]
  },
  {
   "cell_type": "markdown",
   "id": "01dea7de",
   "metadata": {
    "id": "01dea7de"
   },
   "source": [
    "### **문자열 포함 여부: `in`, `not in`**\n",
    "\n",
    "특정 문자열이 포함되어 있는지 확인합니다."
   ]
  },
  {
   "cell_type": "code",
   "execution_count": null,
   "id": "c7560721",
   "metadata": {
    "id": "c7560721"
   },
   "outputs": [],
   "source": [
    "text = \"Hello, Python\"\n",
    "print(\"Python\" in text)     # True\n",
    "print(\"Java\" not in text)   # True"
   ]
  },
  {
   "cell_type": "markdown",
   "id": "587fe2f9",
   "metadata": {
    "id": "587fe2f9"
   },
   "source": [
    "## (4) 문자열 포맷팅\n",
    "\n",
    "파이썬에서는 문자열을 동적으로 구성하기 위한 다양한 포맷팅 방법을 제공합니다.\n"
   ]
  },
  {
   "cell_type": "code",
   "execution_count": null,
   "id": "4b89ea1f",
   "metadata": {
    "id": "4b89ea1f"
   },
   "outputs": [],
   "source": [
    "name = \"Inseop\"\n",
    "age = 33\n",
    "message = \"My name is {} and I am {} years old.\".format(name, age)\n",
    "print(message)  # My name is Inseop and I am 33 years old.\n"
   ]
  },
  {
   "cell_type": "code",
   "execution_count": null,
   "id": "7f7a0ff2",
   "metadata": {
    "id": "7f7a0ff2"
   },
   "outputs": [],
   "source": [
    "# f-string\n",
    "name = \"Alice\"\n",
    "age = 25\n",
    "message = f\"My name is {name} and I am {age} years old.\"\n",
    "print(message)  # My name is Alice and I am 25 years old."
   ]
  },
  {
   "cell_type": "markdown",
   "id": "484391cf",
   "metadata": {
    "id": "484391cf"
   },
   "source": [
    "## [실습]\n",
    "\n",
    "### **문제 1: 단어 개수 세기**\n",
    "\n",
    "- 문자열 `\"hello world, hello python\"`에서 `\"hello\"`라는 단어가 몇 번 등장하는지 출력하세요.\n"
   ]
  },
  {
   "cell_type": "code",
   "execution_count": 7,
   "id": "88b6d7ac",
   "metadata": {
    "id": "88b6d7ac"
   },
   "outputs": [
    {
     "name": "stdout",
     "output_type": "stream",
     "text": [
      "2\n",
      "Hello Count: 2\n"
     ]
    }
   ],
   "source": [
    "message = \"hello world, hello python\"\n",
    "\n",
    "print(message.count(\"hello\"))\n",
    "print(f\"Hello Count: {message.count('hello')}\")"
   ]
  },
  {
   "cell_type": "markdown",
   "id": "d32cc157",
   "metadata": {
    "id": "d32cc157"
   },
   "source": [
    "### **문제 2: 대소문자 변환 후 비교**\n",
    "\n",
    "- 문자열 `\"Python\"`을 소문자로 변환한 뒤, `\"python\"`과 동일한지 확인하세요.\n"
   ]
  },
  {
   "cell_type": "code",
   "execution_count": 9,
   "id": "b298bafc",
   "metadata": {
    "id": "b298bafc"
   },
   "outputs": [
    {
     "name": "stdout",
     "output_type": "stream",
     "text": [
      "기존 문자열: Python\n",
      "변경 후 문자열: python\n"
     ]
    }
   ],
   "source": [
    "message = \"Python\"\n",
    "\n",
    "print(f\"기존 문자열: {message}\\n변경 후 문자열: {message.lower()}\")"
   ]
  },
  {
   "cell_type": "markdown",
   "id": "a308ad3e",
   "metadata": {
    "id": "a308ad3e"
   },
   "source": [
    "### **문제 3: 파일 확장자 추출**\n",
    "\n",
    "- 파일 이름 `\"example.txt\"`에서 확장자를 추출하세요.\n"
   ]
  },
  {
   "cell_type": "code",
   "execution_count": 3,
   "id": "4bb9382d",
   "metadata": {
    "id": "4bb9382d"
   },
   "outputs": [
    {
     "name": "stdout",
     "output_type": "stream",
     "text": [
      "File Name extension: txt\n"
     ]
    }
   ],
   "source": [
    "file_name = \"example.txt\"\n",
    "extension = file_name.split('.')[1]\n",
    "\n",
    "print(f\"File Name extension: {extension}\")"
   ]
  },
  {
   "cell_type": "markdown",
   "id": "278bff3d",
   "metadata": {
    "id": "278bff3d"
   },
   "source": [
    "### **문제 4: 이메일 검증**\n",
    "\n",
    "- 문자열 `\"user@example.com\"`이 유효한 이메일인지 확인하세요. 이메일은 반드시 `@`와 `.`을 포함해야 합니다.\n"
   ]
  },
  {
   "cell_type": "code",
   "execution_count": 12,
   "id": "ec0a9bea",
   "metadata": {
    "id": "ec0a9bea"
   },
   "outputs": [
    {
     "name": "stdout",
     "output_type": "stream",
     "text": [
      "user@example.com은 유효한 이메일\n"
     ]
    }
   ],
   "source": [
    "email_url = \"user@example.com\"\n",
    "\n",
    "if \"@\" in email_url and \".\" in email_url:\n",
    "    print(f\"{email_url}은 유효한 이메일\")\n",
    "else:\n",
    "    print(f\"{email_url}은 유효하지 않은 이메일\")"
   ]
  },
  {
   "cell_type": "markdown",
   "id": "4fcb56ff",
   "metadata": {
    "id": "4fcb56ff"
   },
   "source": [
    "### **문제 5: 문자열 함수 활용**\n",
    "\n",
    "아래 문자열을 사용하여 다음 작업을 수행하세요:\n",
    "\n",
    "```python\n",
    "text = \"  Python is fun!  \"\n",
    "```\n",
    "\n",
    "1. 모든 문자를 대문자로 변환하세요.\n",
    "2. 양쪽 공백을 제거하세요.\n",
    "3. `is`라는 단어가 몇 번 등장하는지 확인하세요.\n"
   ]
  },
  {
   "cell_type": "code",
   "execution_count": 15,
   "id": "348fd9e1",
   "metadata": {
    "id": "348fd9e1"
   },
   "outputs": [
    {
     "name": "stdout",
     "output_type": "stream",
     "text": [
      "대문자 변환: PYTHON IS FUN!\n",
      "is Count: 1\n"
     ]
    }
   ],
   "source": [
    "text = \"  Python is fun!  \"\n",
    "\n",
    "print(f\"대문자 변환: {text.strip().upper()}\\nis Count: {text.count('is')}\")"
   ]
  },
  {
   "cell_type": "markdown",
   "id": "f2e1b35b",
   "metadata": {
    "id": "f2e1b35b"
   },
   "source": [
    "### **문제 6: 문자열 포맷팅**\n",
    "\n",
    "- 사용자의 **좋아하는 음식과 음료**를 입력받아, `\"I love eating [음식] and drinking [음료].\"` 형식의 문장을 출력하세요.\n"
   ]
  },
  {
   "cell_type": "code",
   "execution_count": 18,
   "id": "84983ec3",
   "metadata": {
    "id": "84983ec3"
   },
   "outputs": [
    {
     "name": "stdout",
     "output_type": "stream",
     "text": [
      "I love eating 치킨 and drinking 커피.\n"
     ]
    }
   ],
   "source": [
    "text = \"I love eating [음식] and drinking [음료].\"\n",
    "\n",
    "input_food = input(\"좋아하는 음식을 입력하세요.\")\n",
    "input_drink = input(\"좋아하는 음료를 입력하세요\")\n",
    "\n",
    "print(f\"I love eating {input_food} and drinking {input_drink}.\")"
   ]
  },
  {
   "cell_type": "markdown",
   "id": "aeb00799",
   "metadata": {
    "id": "aeb00799"
   },
   "source": [
    "### **문제 7: 단어 뒤집기**\n",
    "\n",
    "사용자가 입력한 문장을 단어 단위로 뒤집어서 출력하세요.\n"
   ]
  },
  {
   "cell_type": "code",
   "execution_count": 20,
   "id": "c00b87a1",
   "metadata": {
    "id": "c00b87a1"
   },
   "outputs": [
    {
     "name": "stdout",
     "output_type": "stream",
     "text": [
      "사용자가 입력한 문장: 오늘 하체다.. 너무 하기싫다..\n",
      "변환된 문장: ..다싫기하 무너 ..다체하 늘오\n"
     ]
    }
   ],
   "source": [
    "input_message = input(\"문장을 입력하세요\")\n",
    "print(f\"사용자가 입력한 문장: {input_message}\\n변환된 문장: {input_message[::-1]}\")"
   ]
  },
  {
   "cell_type": "markdown",
   "id": "c3ddc8dc",
   "metadata": {
    "id": "c3ddc8dc"
   },
   "source": [
    "### **문제 8: 첫 글자 대문자화**\n",
    "\n",
    "- 문자열 `\"hello world\"`의 첫 글자를 대문자로 변환하세요.\n"
   ]
  },
  {
   "cell_type": "code",
   "execution_count": 22,
   "id": "6a396f6d",
   "metadata": {
    "id": "6a396f6d"
   },
   "outputs": [
    {
     "name": "stdout",
     "output_type": "stream",
     "text": [
      "변환 전 문자열: hello world\n",
      "변환 후 문자열: Hello world\n"
     ]
    }
   ],
   "source": [
    "text = \"hello world\"\n",
    "\n",
    "print(f\"변환 전 문자열: {text}\\n변환 후 문자열: {text.capitalize()}\")"
   ]
  },
  {
   "cell_type": "markdown",
   "id": "980335ec",
   "metadata": {
    "id": "980335ec"
   },
   "source": [
    "### **문제 9: 문자열에서 특정 문자 제거**\n",
    "\n",
    "- 문자열 `\"Python!!!\"`에서 `!`를 모두 제거하세요.\n"
   ]
  },
  {
   "cell_type": "code",
   "execution_count": 24,
   "id": "a7a23459",
   "metadata": {
    "id": "a7a23459"
   },
   "outputs": [
    {
     "name": "stdout",
     "output_type": "stream",
     "text": [
      "변환 전 문자열: Python!!!\n",
      "변환 후 문자열: Python\n"
     ]
    }
   ],
   "source": [
    "text = \"Python!!!\"\n",
    "\n",
    "print(f\"변환 전 문자열: {text}\\n변환 후 문자열: {text.replace('!', '')}\")"
   ]
  },
  {
   "cell_type": "markdown",
   "id": "5604c42d",
   "metadata": {
    "id": "5604c42d"
   },
   "source": [
    "### **문제 10: 단어 수 세기**\n",
    "\n",
    "- 문자열 `\"Python is fun. Python is powerful.\"`에서 단어의 개수를 출력하세요.\n"
   ]
  },
  {
   "cell_type": "code",
   "execution_count": 26,
   "id": "de743345",
   "metadata": {
    "id": "de743345"
   },
   "outputs": [
    {
     "name": "stdout",
     "output_type": "stream",
     "text": [
      "Text에서 단어 개수: 6\n"
     ]
    }
   ],
   "source": [
    "text = \"Python is fun. Python is powerful.\"\n",
    "\n",
    "print(f\"Text에서 단어 개수: {len(text.split())}\")"
   ]
  },
  {
   "cell_type": "code",
   "execution_count": null,
   "id": "0cc78ad1",
   "metadata": {},
   "outputs": [],
   "source": []
  }
 ],
 "metadata": {
  "colab": {
   "provenance": []
  },
  "kernelspec": {
   "display_name": "ds_study",
   "language": "python",
   "name": "python3"
  },
  "language_info": {
   "codemirror_mode": {
    "name": "ipython",
    "version": 3
   },
   "file_extension": ".py",
   "mimetype": "text/x-python",
   "name": "python",
   "nbconvert_exporter": "python",
   "pygments_lexer": "ipython3",
   "version": "3.8.19"
  }
 },
 "nbformat": 4,
 "nbformat_minor": 5
}
