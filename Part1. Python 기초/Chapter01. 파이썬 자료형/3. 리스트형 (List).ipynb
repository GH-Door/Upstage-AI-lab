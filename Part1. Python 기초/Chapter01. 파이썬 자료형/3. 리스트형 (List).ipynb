{
 "cells": [
  {
   "cell_type": "markdown",
   "id": "1d312e09",
   "metadata": {
    "id": "1d312e09"
   },
   "source": [
    "\n",
    "# 파이썬 리스트형 자료형\n",
    "\n",
    "## 1. 리스트형 소개\n",
    "\n",
    "리스트는 여러 개의 데이터를 하나의 변수에 저장할 수 있는 자료형입니다. **대괄호([])**를 사용하여 생성하며, 서로 다른 자료형도 저장할 수 있습니다.\n",
    "\n",
    "### 주요 특징\n",
    "1. **순서가 있다 (Ordered)**: 리스트는 순서를 유지하며, 인덱스를 통해 각 값에 접근할 수 있습니다.\n",
    "2. **변경 가능 (Mutable)**: 리스트는 생성 후에도 값을 변경할 수 있습니다.\n",
    "3. **중복 허용**: 동일한 값을 여러 번 포함할 수 있습니다.\n",
    "4. **다양한 자료형 포함 가능**: 숫자, 문자열, 리스트 등 다양한 자료형을 저장할 수 있습니다.\n",
    "    "
   ]
  },
  {
   "cell_type": "code",
   "execution_count": null,
   "id": "886d0363",
   "metadata": {
    "id": "886d0363"
   },
   "outputs": [],
   "source": [
    "# 리스트 예시\n",
    "x = [\"a\", \"b\", \"c\", \"d\", \"e\"]\n",
    "print(x)\n",
    "\n",
    "y = [1, 2, 3, [\"x\", \"y\"]]\n",
    "print(y)"
   ]
  },
  {
   "cell_type": "markdown",
   "id": "1101869a",
   "metadata": {
    "id": "1101869a"
   },
   "source": [
    "\n",
    "## 2. 리스트 생성 및 기본 사용법\n",
    "\n",
    "### 리스트 생성\n",
    "    "
   ]
  },
  {
   "cell_type": "code",
   "execution_count": null,
   "id": "b7f1773b",
   "metadata": {
    "id": "b7f1773b"
   },
   "outputs": [],
   "source": [
    "# 빈 리스트 생성\n",
    "empty_list = []\n",
    "\n",
    "# 값이 있는 리스트 생성\n",
    "fruits = [\"apple\", \"banana\", \"cherry\"]\n",
    "numbers = [1, 2, 3, 4, 5]\n",
    "mixed = [1, \"apple\", 3.14, [2, 4, 6]]\n",
    "\n",
    "print(fruits)   # ['apple', 'banana', 'cherry']\n",
    "print(numbers)  # [1, 2, 3, 4, 5]\n",
    "print(mixed)    # [1, 'apple', 3.14, [2, 4, 6]]\n"
   ]
  },
  {
   "cell_type": "markdown",
   "id": "114139e3",
   "metadata": {
    "id": "114139e3"
   },
   "source": [
    "\n",
    "## **(3) 리스트 인덱싱과 슬라이싱**\n",
    "\n",
    "- **인덱싱**: 특정 위치의 값을 가져옴 (0부터 시작).\n",
    "- **슬라이싱**: 리스트의 일부를 잘라냄.\n",
    "    "
   ]
  },
  {
   "cell_type": "code",
   "execution_count": null,
   "id": "10a98e6a",
   "metadata": {
    "id": "10a98e6a"
   },
   "outputs": [],
   "source": [
    "# 리스트 인덱싱\n",
    "fruits = [\"apple\", \"banana\", \"cherry\", \"date\"]\n",
    "print(fruits[0])  # apple\n",
    "print(fruits[-1]) # date (뒤에서 첫 번째)\n",
    "\n",
    "# 리스트 슬라이싱\n",
    "print(fruits[1:3])  # ['banana', 'cherry']\n",
    "print(fruits[:2])   # ['apple', 'banana'] (처음부터 2번째까지)\n",
    "print(fruits[::2])  # ['apple', 'cherry'] (2칸씩 건너뜀)"
   ]
  },
  {
   "cell_type": "markdown",
   "id": "f5687e8f",
   "metadata": {
    "id": "f5687e8f"
   },
   "source": [
    "## (4) 리스트의 주요 메서드\n",
    "\n",
    "### **값 추가**\n",
    "\n",
    "- **`append(value)`**: 리스트의 끝에 값을 추가합니다.\n",
    "- **`insert(index, value)`**: 특정 위치에 값을 삽입합니다."
   ]
  },
  {
   "cell_type": "code",
   "execution_count": null,
   "id": "7d023535",
   "metadata": {
    "id": "7d023535"
   },
   "outputs": [],
   "source": [
    "# append 예제\n",
    "fruits = [\"apple\", \"banana\"]\n",
    "fruits.append(\"cherry\")\n",
    "print(fruits)  # ['apple', 'banana', 'cherry']\n",
    "\n",
    "# insert 예제\n",
    "fruits.insert(1, \"orange\")\n",
    "print(fruits)  # ['apple', 'orange', 'banana', 'cherry']"
   ]
  },
  {
   "cell_type": "markdown",
   "id": "cf2778fe",
   "metadata": {
    "id": "cf2778fe"
   },
   "source": [
    "### **값 제거**\n",
    "\n",
    "- **`remove(value)`**: 지정된 값을 제거합니다.\n",
    "- **`pop(index)`**: 지정된 인덱스의 값을 제거하고 반환합니다. (인덱스를 생략하면 마지막 값을 제거)\n",
    "- **`clear()`**: 리스트의 모든 값을 제거합니다."
   ]
  },
  {
   "cell_type": "code",
   "execution_count": null,
   "id": "e4abae2f",
   "metadata": {
    "id": "e4abae2f"
   },
   "outputs": [],
   "source": [
    "# remove 예제\n",
    "fruits = [\"apple\", \"banana\", \"cherry\", \"date\"]\n",
    "fruits.remove(\"banana\")\n",
    "print(fruits)  # ['apple', 'cherry', 'date']\n",
    "\n",
    "# pop 예제\n",
    "last_fruit = fruits.pop() # 뽑\n",
    "print(last_fruit)  # date\n",
    "print(fruits)      # ['apple', 'cherry']\n",
    "\n",
    "# clear 예제\n",
    "fruits.clear()\n",
    "print(fruits)  # []"
   ]
  },
  {
   "cell_type": "markdown",
   "id": "69184d1d",
   "metadata": {
    "id": "69184d1d"
   },
   "source": [
    "### **값 검색**\n",
    "\n",
    "- **`index(value)`**: 특정 값의 인덱스를 반환합니다.\n",
    "- **`count(value)`**: 특정 값이 리스트에 몇 번 등장하는지 반환합니다."
   ]
  },
  {
   "cell_type": "code",
   "execution_count": null,
   "id": "27086069",
   "metadata": {
    "id": "27086069"
   },
   "outputs": [],
   "source": [
    "fruits = [\"apple\", \"banana\", \"cherry\", \"apple\"]\n",
    "\n",
    "# index 예제\n",
    "print(fruits.index(\"apple\"))  # 0 (첫 번째 'apple'의 위치)\n",
    "\n",
    "# count 예제\n",
    "print(fruits.count(\"apple\"))  # 2"
   ]
  },
  {
   "cell_type": "markdown",
   "id": "713ac080",
   "metadata": {
    "id": "713ac080"
   },
   "source": [
    "### **리스트 정렬**\n",
    "\n",
    "- **`sort()`**: 리스트를 오름차순으로 정렬 (기본값).\n",
    "- **`reverse()`**: 리스트를 뒤집음."
   ]
  },
  {
   "cell_type": "code",
   "execution_count": null,
   "id": "95fec23a",
   "metadata": {
    "id": "95fec23a"
   },
   "outputs": [],
   "source": [
    "numbers = [3, 1, 4, 2]\n",
    "\n",
    "# sort 예제\n",
    "numbers.sort()\n",
    "print(numbers)  # [1, 2, 3, 4]\n",
    "\n",
    "# reverse 예제\n",
    "numbers.reverse()\n",
    "print(numbers)  # [4, 3, 2, 1]"
   ]
  },
  {
   "cell_type": "markdown",
   "id": "918a3d37",
   "metadata": {
    "id": "918a3d37"
   },
   "source": [
    "### **리스트 복사**\n",
    "\n",
    "- **`copy()`**: 리스트를 복사합니다."
   ]
  },
  {
   "cell_type": "code",
   "execution_count": null,
   "id": "b1908594",
   "metadata": {
    "id": "b1908594"
   },
   "outputs": [],
   "source": [
    "original = [1, 2, 3]\n",
    "copied = original.copy()\n",
    "\n",
    "copied.append(4)\n",
    "print(original)  # [1, 2, 3]\n",
    "print(copied)    # [1, 2, 3, 4]"
   ]
  },
  {
   "cell_type": "markdown",
   "id": "ed53d4e7",
   "metadata": {
    "id": "ed53d4e7"
   },
   "source": [
    "## [실습]"
   ]
  },
  {
   "cell_type": "markdown",
   "id": "0d11806d",
   "metadata": {
    "id": "0d11806d"
   },
   "source": [
    "### **문제 1: 2차원 리스트**\n",
    "\n",
    "- 2차원 리스트 `matrix = [[1, 2, 3], [4, 5, 6], [7, 8, 9]]`에서 다음을 수행하세요:\n",
    "    1. 두 번째 행, 세 번째 열의 값을 출력하세요."
   ]
  },
  {
   "cell_type": "code",
   "execution_count": 1,
   "id": "d21dc4eb",
   "metadata": {
    "id": "d21dc4eb"
   },
   "outputs": [
    {
     "name": "stdout",
     "output_type": "stream",
     "text": [
      "두 번째 행: [4, 5, 6]\n",
      "세 번째 행: [7, 8, 9]\n"
     ]
    }
   ],
   "source": [
    "matrix = [[1, 2, 3], [4, 5, 6], [7, 8, 9]]\n",
    "\n",
    "print(f\"두 번째 행: {matrix[1]}\")\n",
    "print(f\"세 번째 행: {matrix[2]}\")"
   ]
  },
  {
   "cell_type": "markdown",
   "id": "7ecc1c47",
   "metadata": {
    "id": "7ecc1c47"
   },
   "source": [
    "### **문제 3: 리스트 생성 및 접근**\n",
    "\n",
    "fruits = [\"apple\", \"banana\", \"cherry\", \"date\"]\n",
    "\n",
    "위 리스트를 생성하고, \"banana\"와 \"date\"를 출력하세요:"
   ]
  },
  {
   "cell_type": "code",
   "execution_count": 2,
   "id": "02f070ba",
   "metadata": {
    "id": "02f070ba"
   },
   "outputs": [
    {
     "name": "stdout",
     "output_type": "stream",
     "text": [
      "banana\n",
      "date\n"
     ]
    }
   ],
   "source": [
    "fruits = [\"apple\", \"banana\", \"cherry\", \"date\"]\n",
    "\n",
    "print(fruits[1])\n",
    "print(fruits[-1])"
   ]
  },
  {
   "cell_type": "markdown",
   "id": "b8e3bc28",
   "metadata": {
    "id": "b8e3bc28"
   },
   "source": [
    "### **문제 4: 값 추가와 제거**\n",
    "\n",
    "1. 빈 리스트를 생성하세요.\n",
    "2. \"apple\", \"banana\", \"cherry\"를 순서대로 추가하세요.\n",
    "3. \"banana\"를 제거하세요."
   ]
  },
  {
   "cell_type": "code",
   "execution_count": 6,
   "id": "33d602b3",
   "metadata": {
    "id": "33d602b3"
   },
   "outputs": [
    {
     "name": "stdout",
     "output_type": "stream",
     "text": [
      "None\n",
      "['apple', 'cherry']\n"
     ]
    }
   ],
   "source": [
    "been_list = [\"apple\", \"banana\", \"cherry\"]\n",
    "\n",
    "print(been_list.remove('banana'))\n",
    "print(been_list)"
   ]
  },
  {
   "cell_type": "markdown",
   "id": "705b1619",
   "metadata": {
    "id": "705b1619"
   },
   "source": [
    "### **문제 5: 리스트 정렬**\n",
    "\n",
    "- 리스트 `[5, 2, 9, 1, 5, 6]`에서 중복을 제거한 뒤, 오름차순으로 정렬된 결과를 출력하세요."
   ]
  },
  {
   "cell_type": "code",
   "execution_count": 9,
   "id": "0ea1e73b",
   "metadata": {
    "id": "0ea1e73b"
   },
   "outputs": [
    {
     "name": "stdout",
     "output_type": "stream",
     "text": [
      "[1, 2, 5, 6, 9]\n"
     ]
    }
   ],
   "source": [
    "num = [5, 2, 9, 1, 5, 6]\n",
    "\n",
    "print(list(set(num)))"
   ]
  },
  {
   "cell_type": "markdown",
   "id": "691fe1dd",
   "metadata": {
    "id": "691fe1dd"
   },
   "source": [
    "### **문제 6: 리스트 확장과 값 추가**\n",
    "\n",
    "- 두 리스트 `list1 = [1, 2, 3]`과 `list2 = [4, 5, 6]`을 합치고, 마지막에 숫자 `7`을 추가한 결과를 출력하세요."
   ]
  },
  {
   "cell_type": "code",
   "execution_count": 11,
   "id": "ba9df01a",
   "metadata": {
    "id": "ba9df01a"
   },
   "outputs": [
    {
     "name": "stdout",
     "output_type": "stream",
     "text": [
      "None\n",
      "[1, 2, 3, 4, 5, 6, 7]\n"
     ]
    }
   ],
   "source": [
    "list1 = [1, 2, 3]\n",
    "list2 = [4, 5, 6]\n",
    "\n",
    "lists = list1 + list2\n",
    "print(lists.append(7))\n",
    "print(lists)"
   ]
  },
  {
   "cell_type": "markdown",
   "id": "7fbf4305",
   "metadata": {
    "id": "7fbf4305"
   },
   "source": [
    "### **문제 7: 리스트 복사**\n",
    "\n",
    "- 리스트 `[1, 2, 3]`을 복사한 뒤, 복사본에 숫자 `4`를 추가하세요. 원본 리스트와 복사본을 각각 출력하세요."
   ]
  },
  {
   "cell_type": "code",
   "execution_count": 17,
   "id": "88ff5e0a",
   "metadata": {
    "id": "88ff5e0a"
   },
   "outputs": [
    {
     "name": "stdout",
     "output_type": "stream",
     "text": [
      "원본 리스트: [1, 2, 3]\n",
      "복사본 리스트: [1, 2, 3, 4]\n"
     ]
    }
   ],
   "source": [
    "lists = [1, 2, 3]\n",
    "lists_copy = lists.copy()\n",
    "lists_copy.append(4)\n",
    "\n",
    "print(f\"원본 리스트: {lists}\")\n",
    "print(f\"복사본 리스트: {lists_copy}\")"
   ]
  },
  {
   "cell_type": "code",
   "execution_count": null,
   "id": "f87521d6",
   "metadata": {},
   "outputs": [],
   "source": []
  }
 ],
 "metadata": {
  "colab": {
   "provenance": []
  },
  "kernelspec": {
   "display_name": "ds_study",
   "language": "python",
   "name": "python3"
  },
  "language_info": {
   "codemirror_mode": {
    "name": "ipython",
    "version": 3
   },
   "file_extension": ".py",
   "mimetype": "text/x-python",
   "name": "python",
   "nbconvert_exporter": "python",
   "pygments_lexer": "ipython3",
   "version": "3.8.19"
  }
 },
 "nbformat": 4,
 "nbformat_minor": 5
}
