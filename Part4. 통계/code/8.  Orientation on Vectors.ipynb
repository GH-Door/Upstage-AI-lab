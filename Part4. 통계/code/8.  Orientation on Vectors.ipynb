{
 "cells": [
  {
   "cell_type": "code",
   "execution_count": 1,
   "metadata": {
    "id": "G-G60Fd8VwJZ"
   },
   "outputs": [],
   "source": [
    "import torch"
   ]
  },
  {
   "cell_type": "code",
   "execution_count": null,
   "metadata": {
    "colab": {
     "base_uri": "https://localhost:8080/"
    },
    "executionInfo": {
     "elapsed": 128,
     "status": "ok",
     "timestamp": 1743692572588,
     "user": {
      "displayName": "Young-seok Oh",
      "userId": "17926101222666307705"
     },
     "user_tz": -540
    },
    "id": "AlBRuVKS45W4",
    "outputId": "1d688c5a-2b09-4b44-f860-635ae644facc"
   },
   "outputs": [
    {
     "name": "stdout",
     "output_type": "stream",
     "text": [
      "tensor(7.)\n"
     ]
    }
   ],
   "source": [
    "# L1 노름의 코드 표현\n",
    "a = torch.tensor([4, 3], dtype=torch.float32)\n",
    "l1_norm = torch.norm(a, p=1)\n",
    "\n",
    "print(l1_norm)"
   ]
  },
  {
   "cell_type": "code",
   "execution_count": null,
   "metadata": {
    "colab": {
     "base_uri": "https://localhost:8080/"
    },
    "executionInfo": {
     "elapsed": 15,
     "status": "ok",
     "timestamp": 1743692572608,
     "user": {
      "displayName": "Young-seok Oh",
      "userId": "17926101222666307705"
     },
     "user_tz": -540
    },
    "id": "l24meY5GV3yg",
    "outputId": "6bda411f-b333-4d72-d203-7068b21b3738"
   },
   "outputs": [
    {
     "name": "stdout",
     "output_type": "stream",
     "text": [
      "L2 Norm of a: 5.0\n"
     ]
    }
   ],
   "source": [
    "# L2 노름의 코드 표현\n",
    "a = torch.tensor([4, 3], dtype=torch.float32)\n",
    "l2_norm = torch.norm(a, p=2)\n",
    "\n",
    "print(f'L2 Norm of a: {l2_norm}')"
   ]
  },
  {
   "cell_type": "code",
   "execution_count": null,
   "metadata": {
    "colab": {
     "base_uri": "https://localhost:8080/"
    },
    "executionInfo": {
     "elapsed": 22,
     "status": "ok",
     "timestamp": 1743692572635,
     "user": {
      "displayName": "Young-seok Oh",
      "userId": "17926101222666307705"
     },
     "user_tz": -540
    },
    "id": "yE_JvQT10cx4",
    "outputId": "7afcf617-9c3c-4f82-f1ed-e9d438cfa577"
   },
   "outputs": [
    {
     "name": "stdout",
     "output_type": "stream",
     "text": [
      "L∞ Norm of a: 4.0\n"
     ]
    }
   ],
   "source": [
    "# L∞ 노름의 코드 표현 \n",
    "a = torch.tensor([4, 3], dtype=torch.float32)\n",
    "linf_norm = torch.norm(a, float('inf'))\n",
    "\n",
    "print(f'L∞ Norm of a: {linf_norm}')"
   ]
  },
  {
   "cell_type": "code",
   "execution_count": null,
   "metadata": {
    "colab": {
     "base_uri": "https://localhost:8080/"
    },
    "executionInfo": {
     "elapsed": 57,
     "status": "ok",
     "timestamp": 1743692572695,
     "user": {
      "displayName": "Young-seok Oh",
      "userId": "17926101222666307705"
     },
     "user_tz": -540
    },
    "id": "NhgCtFMUWOOJ",
    "outputId": "4e43d568-2b3c-4723-d444-d14fbf0c5270"
   },
   "outputs": [
    {
     "name": "stdout",
     "output_type": "stream",
     "text": [
      "L∞ Norm of a: 4.0\n"
     ]
    }
   ],
   "source": [
    "a = torch.tensor([4, 3], dtype=torch.float32)\n",
    "linf_norm = torch.max(a.abs())\n",
    "\n",
    "print(f'L∞ Norm of a: {linf_norm}')"
   ]
  },
  {
   "cell_type": "code",
   "execution_count": null,
   "metadata": {
    "colab": {
     "base_uri": "https://localhost:8080/"
    },
    "executionInfo": {
     "elapsed": 99,
     "status": "ok",
     "timestamp": 1743692572797,
     "user": {
      "displayName": "Young-seok Oh",
      "userId": "17926101222666307705"
     },
     "user_tz": -540
    },
    "id": "C34lvL3BLH5g",
    "outputId": "8ac97aad-a364-46da-f087-3219c7737cd9"
   },
   "outputs": [
    {
     "name": "stdout",
     "output_type": "stream",
     "text": [
      "Manhattan Distance: 2.0\n",
      "Manhattan Similarity: 0.3333333432674408\n"
     ]
    }
   ],
   "source": [
    "# 맨해튼 유사도의 코드 표현 실습\n",
    "b = torch.tensor([1, 0, 2], dtype=torch.float32)\n",
    "c = torch.tensor([0, 1, 2], dtype=torch.float32)\n",
    "\n",
    "manhattan_distance = torch.norm(b - c, p = 1) # 맨해튼 거리 계산\n",
    "manhattan_similarity = 1 / (1 + manhattan_distance) # 유사도 계산 (예시: 거리의 역수)\n",
    "\n",
    "print(f'Manhattan Distance: {manhattan_distance}')\n",
    "print(f'Manhattan Similarity: {manhattan_similarity}')"
   ]
  },
  {
   "cell_type": "code",
   "execution_count": null,
   "metadata": {
    "colab": {
     "base_uri": "https://localhost:8080/"
    },
    "executionInfo": {
     "elapsed": 16,
     "status": "ok",
     "timestamp": 1743692572821,
     "user": {
      "displayName": "Young-seok Oh",
      "userId": "17926101222666307705"
     },
     "user_tz": -540
    },
    "id": "ZRdxaUejLIh6",
    "outputId": "77ede972-82af-4f6f-ad51-5d7c18c0cd18"
   },
   "outputs": [
    {
     "name": "stdout",
     "output_type": "stream",
     "text": [
      "Euclidean Distance: 1.4142135381698608\n",
      "Euclidean Similarity: 0.41421353816986084\n"
     ]
    }
   ],
   "source": [
    "# 유클리드 유사도의 코드 표현 \n",
    "euclidean_distance = torch.norm(b - c, p = 2) # 유클리드 거리 계산\n",
    "euclidean_similarity = 1 / (1 + euclidean_distance) # 유사도 계산 (예시: 거리의 역수)\n",
    "\n",
    "print(f'Euclidean Distance: {euclidean_distance.item()}')\n",
    "print(f'Euclidean Similarity: {euclidean_similarity.item()}')"
   ]
  },
  {
   "cell_type": "code",
   "execution_count": null,
   "metadata": {
    "colab": {
     "base_uri": "https://localhost:8080/"
    },
    "executionInfo": {
     "elapsed": 13,
     "status": "ok",
     "timestamp": 1743692572838,
     "user": {
      "displayName": "Young-seok Oh",
      "userId": "17926101222666307705"
     },
     "user_tz": -540
    },
    "id": "0AZWYQ3hLLLB",
    "outputId": "f51bbcce-f527-4c6b-86b3-76f094882f19"
   },
   "outputs": [
    {
     "name": "stdout",
     "output_type": "stream",
     "text": [
      "Cosine Similarity: 0.800000011920929\n"
     ]
    }
   ],
   "source": [
    "# 코사인 유사도의 코드 표현\n",
    "dot_product = torch.dot(b, c)\n",
    "norm_b = torch.norm(b, p = 2)\n",
    "norm_c = torch.norm(c, p = 2)\n",
    "cosine_similarity = dot_product / (norm_b * norm_c) \n",
    "\n",
    "print(f'Cosine Similarity: {cosine_similarity.item()}')"
   ]
  },
  {
   "cell_type": "code",
   "execution_count": 9,
   "metadata": {
    "colab": {
     "base_uri": "https://localhost:8080/"
    },
    "executionInfo": {
     "elapsed": 5,
     "status": "ok",
     "timestamp": 1743692608480,
     "user": {
      "displayName": "Young-seok Oh",
      "userId": "17926101222666307705"
     },
     "user_tz": -540
    },
    "id": "MGhQzhWRLaAx",
    "outputId": "a72cff65-8e5d-4316-bee8-ee24531b3f85"
   },
   "outputs": [
    {
     "name": "stdout",
     "output_type": "stream",
     "text": [
      "Cosine Similarity: 0.800000011920929\n"
     ]
    }
   ],
   "source": [
    "dot_product = torch.dot(b, c)\n",
    "cosine_similarity = torch.dot(b, c) / (torch.norm(b, p = 2) * torch.norm(c, p = 2))\n",
    "\n",
    "print(f'Cosine Similarity: {cosine_similarity}')"
   ]
  }
 ],
 "metadata": {
  "colab": {
   "provenance": [
    {
     "file_id": "1vejBIClftw3Xkk9PNXqgxHYIZSdkLh6m",
     "timestamp": 1716028265333
    }
   ]
  },
  "kernelspec": {
   "display_name": "Study",
   "language": "python",
   "name": "python3"
  },
  "language_info": {
   "codemirror_mode": {
    "name": "ipython",
    "version": 3
   },
   "file_extension": ".py",
   "mimetype": "text/x-python",
   "name": "python",
   "nbconvert_exporter": "python",
   "pygments_lexer": "ipython3",
   "version": "3.9.21"
  }
 },
 "nbformat": 4,
 "nbformat_minor": 0
}
