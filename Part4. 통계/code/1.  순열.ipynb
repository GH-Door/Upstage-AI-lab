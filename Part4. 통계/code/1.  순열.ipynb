{
 "cells": [
  {
   "cell_type": "code",
   "execution_count": 1,
   "metadata": {
    "colab": {
     "base_uri": "https://localhost:8080/"
    },
    "executionInfo": {
     "elapsed": 10,
     "status": "ok",
     "timestamp": 1713838975279,
     "user": {
      "displayName": "Young-Seok Oh",
      "userId": "05370781869850668306"
     },
     "user_tz": -540
    },
    "id": "5qBKGFgCXv-L",
    "outputId": "e0b05f14-24de-4fa7-b73a-c8a7ceff49df"
   },
   "outputs": [
    {
     "name": "stdout",
     "output_type": "stream",
     "text": [
      "[(1, 2), (1, 3), (1, 4), (2, 1), (2, 3), (2, 4), (3, 1), (3, 2), (3, 4), (4, 1), (4, 2), (4, 3)]\n"
     ]
    },
    {
     "data": {
      "text/plain": [
       "12"
      ]
     },
     "execution_count": 1,
     "metadata": {},
     "output_type": "execute_result"
    }
   ],
   "source": [
    "import itertools\n",
    "\n",
    "# 1, 2, 3, 4 숫자가 적힌 카드가 있다\n",
    "lists = [1, 2, 3, 4]\n",
    "\n",
    "# 카드 중 두 장 꺼내는 경우\n",
    "a = list(itertools.permutations(lists, 2))\n",
    "\n",
    "print(a)\n",
    "len(a)"
   ]
  }
 ],
 "metadata": {
  "colab": {
   "authorship_tag": "ABX9TyPB3ycxJ79R/LBUSPszi5yq",
   "provenance": []
  },
  "kernelspec": {
   "display_name": "ds_study",
   "language": "python",
   "name": "python3"
  },
  "language_info": {
   "codemirror_mode": {
    "name": "ipython",
    "version": 3
   },
   "file_extension": ".py",
   "mimetype": "text/x-python",
   "name": "python",
   "nbconvert_exporter": "python",
   "pygments_lexer": "ipython3",
   "version": "3.8.19"
  }
 },
 "nbformat": 4,
 "nbformat_minor": 0
}
