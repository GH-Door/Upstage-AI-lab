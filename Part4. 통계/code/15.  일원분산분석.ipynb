{
 "cells": [
  {
   "cell_type": "code",
   "execution_count": 1,
   "metadata": {
    "colab": {
     "base_uri": "https://localhost:8080/"
    },
    "executionInfo": {
     "elapsed": 4937,
     "status": "ok",
     "timestamp": 1743693548409,
     "user": {
      "displayName": "Young-seok Oh",
      "userId": "17926101222666307705"
     },
     "user_tz": -540
    },
    "id": "onbpPRi_9uo3",
    "outputId": "e4446b32-62e9-4043-c8aa-3788bb011a62"
   },
   "outputs": [
    {
     "name": "stdout",
     "output_type": "stream",
     "text": [
      "Requirement already satisfied: pingouin in /Users/mungughyeon/miniforge3/envs/Study/lib/python3.9/site-packages (0.5.5)\n",
      "Requirement already satisfied: matplotlib in /Users/mungughyeon/miniforge3/envs/Study/lib/python3.9/site-packages (from pingouin) (3.9.4)\n",
      "Requirement already satisfied: numpy in /Users/mungughyeon/miniforge3/envs/Study/lib/python3.9/site-packages (from pingouin) (1.26.4)\n",
      "Requirement already satisfied: pandas>=1.5 in /Users/mungughyeon/miniforge3/envs/Study/lib/python3.9/site-packages (from pingouin) (2.2.3)\n",
      "Requirement already satisfied: pandas_flavor in /Users/mungughyeon/miniforge3/envs/Study/lib/python3.9/site-packages (from pingouin) (0.6.0)\n",
      "Requirement already satisfied: scikit-learn>=1.2 in /Users/mungughyeon/miniforge3/envs/Study/lib/python3.9/site-packages (from pingouin) (1.3.1)\n",
      "Requirement already satisfied: scipy in /Users/mungughyeon/miniforge3/envs/Study/lib/python3.9/site-packages (from pingouin) (1.13.1)\n",
      "Requirement already satisfied: seaborn in /Users/mungughyeon/miniforge3/envs/Study/lib/python3.9/site-packages (from pingouin) (0.13.2)\n",
      "Requirement already satisfied: statsmodels in /Users/mungughyeon/miniforge3/envs/Study/lib/python3.9/site-packages (from pingouin) (0.14.4)\n",
      "Requirement already satisfied: tabulate in /Users/mungughyeon/miniforge3/envs/Study/lib/python3.9/site-packages (from pingouin) (0.9.0)\n",
      "Requirement already satisfied: python-dateutil>=2.8.2 in /Users/mungughyeon/miniforge3/envs/Study/lib/python3.9/site-packages (from pandas>=1.5->pingouin) (2.9.0.post0)\n",
      "Requirement already satisfied: pytz>=2020.1 in /Users/mungughyeon/miniforge3/envs/Study/lib/python3.9/site-packages (from pandas>=1.5->pingouin) (2024.1)\n",
      "Requirement already satisfied: tzdata>=2022.7 in /Users/mungughyeon/miniforge3/envs/Study/lib/python3.9/site-packages (from pandas>=1.5->pingouin) (2025.2)\n",
      "Requirement already satisfied: joblib>=1.1.1 in /Users/mungughyeon/miniforge3/envs/Study/lib/python3.9/site-packages (from scikit-learn>=1.2->pingouin) (1.4.2)\n",
      "Requirement already satisfied: threadpoolctl>=2.0.0 in /Users/mungughyeon/miniforge3/envs/Study/lib/python3.9/site-packages (from scikit-learn>=1.2->pingouin) (3.6.0)\n",
      "Requirement already satisfied: contourpy>=1.0.1 in /Users/mungughyeon/miniforge3/envs/Study/lib/python3.9/site-packages (from matplotlib->pingouin) (1.3.0)\n",
      "Requirement already satisfied: cycler>=0.10 in /Users/mungughyeon/miniforge3/envs/Study/lib/python3.9/site-packages (from matplotlib->pingouin) (0.12.1)\n",
      "Requirement already satisfied: fonttools>=4.22.0 in /Users/mungughyeon/miniforge3/envs/Study/lib/python3.9/site-packages (from matplotlib->pingouin) (4.57.0)\n",
      "Requirement already satisfied: kiwisolver>=1.3.1 in /Users/mungughyeon/miniforge3/envs/Study/lib/python3.9/site-packages (from matplotlib->pingouin) (1.4.7)\n",
      "Requirement already satisfied: packaging>=20.0 in /Users/mungughyeon/miniforge3/envs/Study/lib/python3.9/site-packages (from matplotlib->pingouin) (24.2)\n",
      "Requirement already satisfied: pillow>=8 in /Users/mungughyeon/miniforge3/envs/Study/lib/python3.9/site-packages (from matplotlib->pingouin) (11.1.0)\n",
      "Requirement already satisfied: pyparsing>=2.3.1 in /Users/mungughyeon/miniforge3/envs/Study/lib/python3.9/site-packages (from matplotlib->pingouin) (3.2.3)\n",
      "Requirement already satisfied: importlib-resources>=3.2.0 in /Users/mungughyeon/miniforge3/envs/Study/lib/python3.9/site-packages (from matplotlib->pingouin) (6.5.2)\n",
      "Requirement already satisfied: xarray in /Users/mungughyeon/miniforge3/envs/Study/lib/python3.9/site-packages (from pandas_flavor->pingouin) (2024.7.0)\n",
      "Requirement already satisfied: patsy>=0.5.6 in /Users/mungughyeon/miniforge3/envs/Study/lib/python3.9/site-packages (from statsmodels->pingouin) (1.0.1)\n",
      "Requirement already satisfied: zipp>=3.1.0 in /Users/mungughyeon/miniforge3/envs/Study/lib/python3.9/site-packages (from importlib-resources>=3.2.0->matplotlib->pingouin) (3.21.0)\n",
      "Requirement already satisfied: six>=1.5 in /Users/mungughyeon/miniforge3/envs/Study/lib/python3.9/site-packages (from python-dateutil>=2.8.2->pandas>=1.5->pingouin) (1.17.0)\n"
     ]
    }
   ],
   "source": [
    "!pip install pingouin"
   ]
  },
  {
   "cell_type": "code",
   "execution_count": 3,
   "metadata": {
    "colab": {
     "base_uri": "https://localhost:8080/",
     "height": 833
    },
    "executionInfo": {
     "elapsed": 625,
     "status": "ok",
     "timestamp": 1743693549037,
     "user": {
      "displayName": "Young-seok Oh",
      "userId": "17926101222666307705"
     },
     "user_tz": -540
    },
    "id": "3z0np1bl_NMc",
    "outputId": "18cc6af7-0b10-45cd-826e-55f0e50ebbf0"
   },
   "outputs": [
    {
     "data": {
      "text/html": [
       "<div>\n",
       "<style scoped>\n",
       "    .dataframe tbody tr th:only-of-type {\n",
       "        vertical-align: middle;\n",
       "    }\n",
       "\n",
       "    .dataframe tbody tr th {\n",
       "        vertical-align: top;\n",
       "    }\n",
       "\n",
       "    .dataframe thead th {\n",
       "        text-align: right;\n",
       "    }\n",
       "</style>\n",
       "<table border=\"1\" class=\"dataframe\">\n",
       "  <thead>\n",
       "    <tr style=\"text-align: right;\">\n",
       "      <th></th>\n",
       "      <th>store</th>\n",
       "      <th>satisfaction</th>\n",
       "    </tr>\n",
       "  </thead>\n",
       "  <tbody>\n",
       "    <tr>\n",
       "      <th>0</th>\n",
       "      <td>1</td>\n",
       "      <td>1</td>\n",
       "    </tr>\n",
       "    <tr>\n",
       "      <th>1</th>\n",
       "      <td>1</td>\n",
       "      <td>5</td>\n",
       "    </tr>\n",
       "    <tr>\n",
       "      <th>2</th>\n",
       "      <td>1</td>\n",
       "      <td>4</td>\n",
       "    </tr>\n",
       "    <tr>\n",
       "      <th>3</th>\n",
       "      <td>1</td>\n",
       "      <td>3</td>\n",
       "    </tr>\n",
       "    <tr>\n",
       "      <th>4</th>\n",
       "      <td>1</td>\n",
       "      <td>3</td>\n",
       "    </tr>\n",
       "    <tr>\n",
       "      <th>5</th>\n",
       "      <td>1</td>\n",
       "      <td>3</td>\n",
       "    </tr>\n",
       "    <tr>\n",
       "      <th>6</th>\n",
       "      <td>1</td>\n",
       "      <td>3</td>\n",
       "    </tr>\n",
       "    <tr>\n",
       "      <th>7</th>\n",
       "      <td>2</td>\n",
       "      <td>5</td>\n",
       "    </tr>\n",
       "    <tr>\n",
       "      <th>8</th>\n",
       "      <td>2</td>\n",
       "      <td>5</td>\n",
       "    </tr>\n",
       "    <tr>\n",
       "      <th>9</th>\n",
       "      <td>2</td>\n",
       "      <td>4</td>\n",
       "    </tr>\n",
       "    <tr>\n",
       "      <th>10</th>\n",
       "      <td>2</td>\n",
       "      <td>5</td>\n",
       "    </tr>\n",
       "    <tr>\n",
       "      <th>11</th>\n",
       "      <td>2</td>\n",
       "      <td>5</td>\n",
       "    </tr>\n",
       "    <tr>\n",
       "      <th>12</th>\n",
       "      <td>2</td>\n",
       "      <td>3</td>\n",
       "    </tr>\n",
       "    <tr>\n",
       "      <th>13</th>\n",
       "      <td>2</td>\n",
       "      <td>2</td>\n",
       "    </tr>\n",
       "    <tr>\n",
       "      <th>14</th>\n",
       "      <td>2</td>\n",
       "      <td>4</td>\n",
       "    </tr>\n",
       "    <tr>\n",
       "      <th>15</th>\n",
       "      <td>3</td>\n",
       "      <td>1</td>\n",
       "    </tr>\n",
       "    <tr>\n",
       "      <th>16</th>\n",
       "      <td>3</td>\n",
       "      <td>1</td>\n",
       "    </tr>\n",
       "    <tr>\n",
       "      <th>17</th>\n",
       "      <td>3</td>\n",
       "      <td>2</td>\n",
       "    </tr>\n",
       "    <tr>\n",
       "      <th>18</th>\n",
       "      <td>3</td>\n",
       "      <td>2</td>\n",
       "    </tr>\n",
       "    <tr>\n",
       "      <th>19</th>\n",
       "      <td>3</td>\n",
       "      <td>1</td>\n",
       "    </tr>\n",
       "    <tr>\n",
       "      <th>20</th>\n",
       "      <td>3</td>\n",
       "      <td>1</td>\n",
       "    </tr>\n",
       "    <tr>\n",
       "      <th>21</th>\n",
       "      <td>3</td>\n",
       "      <td>1</td>\n",
       "    </tr>\n",
       "    <tr>\n",
       "      <th>22</th>\n",
       "      <td>3</td>\n",
       "      <td>1</td>\n",
       "    </tr>\n",
       "    <tr>\n",
       "      <th>23</th>\n",
       "      <td>3</td>\n",
       "      <td>1</td>\n",
       "    </tr>\n",
       "    <tr>\n",
       "      <th>24</th>\n",
       "      <td>3</td>\n",
       "      <td>2</td>\n",
       "    </tr>\n",
       "  </tbody>\n",
       "</table>\n",
       "</div>"
      ],
      "text/plain": [
       "    store  satisfaction\n",
       "0       1             1\n",
       "1       1             5\n",
       "2       1             4\n",
       "3       1             3\n",
       "4       1             3\n",
       "5       1             3\n",
       "6       1             3\n",
       "7       2             5\n",
       "8       2             5\n",
       "9       2             4\n",
       "10      2             5\n",
       "11      2             5\n",
       "12      2             3\n",
       "13      2             2\n",
       "14      2             4\n",
       "15      3             1\n",
       "16      3             1\n",
       "17      3             2\n",
       "18      3             2\n",
       "19      3             1\n",
       "20      3             1\n",
       "21      3             1\n",
       "22      3             1\n",
       "23      3             1\n",
       "24      3             2"
      ]
     },
     "execution_count": 3,
     "metadata": {},
     "output_type": "execute_result"
    }
   ],
   "source": [
    "import pandas as pd\n",
    "df = pd.read_csv('../data/일원분산분석_실습.csv', sep=',', encoding='CP949')\n",
    "df"
   ]
  },
  {
   "cell_type": "code",
   "execution_count": null,
   "metadata": {
    "colab": {
     "base_uri": "https://localhost:8080/"
    },
    "executionInfo": {
     "elapsed": 2313,
     "status": "ok",
     "timestamp": 1743693551323,
     "user": {
      "displayName": "Young-seok Oh",
      "userId": "17926101222666307705"
     },
     "user_tz": -540
    },
    "id": "ts1Z73VC_meJ",
    "outputId": "5e88415b-eb02-4a8b-9252-059e43df96f3"
   },
   "outputs": [
    {
     "data": {
      "text/plain": [
       "LeveneResult(statistic=1.5399310992796744, pvalue=0.23663167821410097)"
      ]
     },
     "execution_count": 5,
     "metadata": {},
     "output_type": "execute_result"
    }
   ],
   "source": [
    "import scipy as sp\n",
    "import numpy as np\n",
    "import pingouin as pg\n",
    "\n",
    "df1 = df.copy()\n",
    "store = []\n",
    "for i in range(1, 4):\n",
    "    store.append(df1[df1['store']==i]['satisfaction'].values)\n",
    "sp.stats.levene(store[0], store[1], store[2]) # 등분산 검정"
   ]
  },
  {
   "cell_type": "code",
   "execution_count": null,
   "metadata": {
    "colab": {
     "base_uri": "https://localhost:8080/"
    },
    "executionInfo": {
     "elapsed": 46,
     "status": "ok",
     "timestamp": 1743693551374,
     "user": {
      "displayName": "Young-seok Oh",
      "userId": "17926101222666307705"
     },
     "user_tz": -540
    },
    "id": "88-dIC8zA4UR",
    "outputId": "dbc4b8d6-7ab0-4c89-b6d4-9629c0bd8b06"
   },
   "outputs": [
    {
     "name": "stdout",
     "output_type": "stream",
     "text": [
      "  Source  ddof1  ddof2          F     p-unc       np2\n",
      "0  store      2     22  20.637529  0.000009  0.652312\n"
     ]
    }
   ],
   "source": [
    "# 일원분산분석\n",
    "print(pg.anova(dv='satisfaction', between='store', data=df1))"
   ]
  },
  {
   "cell_type": "code",
   "execution_count": null,
   "metadata": {
    "colab": {
     "base_uri": "https://localhost:8080/"
    },
    "executionInfo": {
     "elapsed": 16,
     "status": "ok",
     "timestamp": 1743693551392,
     "user": {
      "displayName": "Young-seok Oh",
      "userId": "17926101222666307705"
     },
     "user_tz": -540
    },
    "id": "FcY10fohBGw6",
    "outputId": "7d3dc616-fd76-4ca4-ae86-fbd8737f26be"
   },
   "outputs": [
    {
     "name": "stdout",
     "output_type": "stream",
     "text": [
      "  Source  ddof1      ddof2          F     p-unc       np2\n",
      "0  store      2  10.470747  25.088226  0.000101  0.652312\n"
     ]
    }
   ],
   "source": [
    "# 등분산 검정을 만족하지 않을 때(이분산일 때)\n",
    "print(pg.welch_anova(dv='satisfaction', between='store', data=df1))"
   ]
  },
  {
   "cell_type": "code",
   "execution_count": 9,
   "metadata": {
    "colab": {
     "base_uri": "https://localhost:8080/"
    },
    "executionInfo": {
     "elapsed": 5247,
     "status": "ok",
     "timestamp": 1743693556640,
     "user": {
      "displayName": "Young-seok Oh",
      "userId": "17926101222666307705"
     },
     "user_tz": -540
    },
    "id": "JIwJHyAaBbV1",
    "outputId": "917ecea3-5d4c-431f-85a9-2fc01ba9321d"
   },
   "outputs": [
    {
     "name": "stdout",
     "output_type": "stream",
     "text": [
      "Collecting scikit_posthocs\n",
      "  Downloading scikit_posthocs-0.11.4-py3-none-any.whl.metadata (5.8 kB)\n",
      "Requirement already satisfied: numpy in /Users/mungughyeon/miniforge3/envs/Study/lib/python3.9/site-packages (from scikit_posthocs) (1.26.4)\n",
      "Requirement already satisfied: scipy>=1.9.0 in /Users/mungughyeon/miniforge3/envs/Study/lib/python3.9/site-packages (from scikit_posthocs) (1.13.1)\n",
      "Requirement already satisfied: statsmodels in /Users/mungughyeon/miniforge3/envs/Study/lib/python3.9/site-packages (from scikit_posthocs) (0.14.4)\n",
      "Requirement already satisfied: pandas>=0.20.0 in /Users/mungughyeon/miniforge3/envs/Study/lib/python3.9/site-packages (from scikit_posthocs) (2.2.3)\n",
      "Requirement already satisfied: seaborn in /Users/mungughyeon/miniforge3/envs/Study/lib/python3.9/site-packages (from scikit_posthocs) (0.13.2)\n",
      "Requirement already satisfied: matplotlib in /Users/mungughyeon/miniforge3/envs/Study/lib/python3.9/site-packages (from scikit_posthocs) (3.9.4)\n",
      "Requirement already satisfied: python-dateutil>=2.8.2 in /Users/mungughyeon/miniforge3/envs/Study/lib/python3.9/site-packages (from pandas>=0.20.0->scikit_posthocs) (2.9.0.post0)\n",
      "Requirement already satisfied: pytz>=2020.1 in /Users/mungughyeon/miniforge3/envs/Study/lib/python3.9/site-packages (from pandas>=0.20.0->scikit_posthocs) (2024.1)\n",
      "Requirement already satisfied: tzdata>=2022.7 in /Users/mungughyeon/miniforge3/envs/Study/lib/python3.9/site-packages (from pandas>=0.20.0->scikit_posthocs) (2025.2)\n",
      "Requirement already satisfied: contourpy>=1.0.1 in /Users/mungughyeon/miniforge3/envs/Study/lib/python3.9/site-packages (from matplotlib->scikit_posthocs) (1.3.0)\n",
      "Requirement already satisfied: cycler>=0.10 in /Users/mungughyeon/miniforge3/envs/Study/lib/python3.9/site-packages (from matplotlib->scikit_posthocs) (0.12.1)\n",
      "Requirement already satisfied: fonttools>=4.22.0 in /Users/mungughyeon/miniforge3/envs/Study/lib/python3.9/site-packages (from matplotlib->scikit_posthocs) (4.57.0)\n",
      "Requirement already satisfied: kiwisolver>=1.3.1 in /Users/mungughyeon/miniforge3/envs/Study/lib/python3.9/site-packages (from matplotlib->scikit_posthocs) (1.4.7)\n",
      "Requirement already satisfied: packaging>=20.0 in /Users/mungughyeon/miniforge3/envs/Study/lib/python3.9/site-packages (from matplotlib->scikit_posthocs) (24.2)\n",
      "Requirement already satisfied: pillow>=8 in /Users/mungughyeon/miniforge3/envs/Study/lib/python3.9/site-packages (from matplotlib->scikit_posthocs) (11.1.0)\n",
      "Requirement already satisfied: pyparsing>=2.3.1 in /Users/mungughyeon/miniforge3/envs/Study/lib/python3.9/site-packages (from matplotlib->scikit_posthocs) (3.2.3)\n",
      "Requirement already satisfied: importlib-resources>=3.2.0 in /Users/mungughyeon/miniforge3/envs/Study/lib/python3.9/site-packages (from matplotlib->scikit_posthocs) (6.5.2)\n",
      "Requirement already satisfied: patsy>=0.5.6 in /Users/mungughyeon/miniforge3/envs/Study/lib/python3.9/site-packages (from statsmodels->scikit_posthocs) (1.0.1)\n",
      "Requirement already satisfied: zipp>=3.1.0 in /Users/mungughyeon/miniforge3/envs/Study/lib/python3.9/site-packages (from importlib-resources>=3.2.0->matplotlib->scikit_posthocs) (3.21.0)\n",
      "Requirement already satisfied: six>=1.5 in /Users/mungughyeon/miniforge3/envs/Study/lib/python3.9/site-packages (from python-dateutil>=2.8.2->pandas>=0.20.0->scikit_posthocs) (1.17.0)\n",
      "Downloading scikit_posthocs-0.11.4-py3-none-any.whl (33 kB)\n",
      "Installing collected packages: scikit_posthocs\n",
      "Successfully installed scikit_posthocs-0.11.4\n"
     ]
    }
   ],
   "source": [
    "!pip install scikit_posthocs"
   ]
  },
  {
   "cell_type": "code",
   "execution_count": 10,
   "metadata": {
    "colab": {
     "base_uri": "https://localhost:8080/"
    },
    "executionInfo": {
     "elapsed": 119,
     "status": "ok",
     "timestamp": 1743693556757,
     "user": {
      "displayName": "Young-seok Oh",
      "userId": "17926101222666307705"
     },
     "user_tz": -540
    },
    "id": "KgZz7M6QBtND",
    "outputId": "f4cf2581-0782-42bd-9c29-4c33eb3973f5"
   },
   "outputs": [
    {
     "name": "stdout",
     "output_type": "stream",
     "text": [
      "          1         2         3\n",
      "1  1.000000  0.159548  0.002823\n",
      "2  0.159548  1.000000  0.000013\n",
      "3  0.002823  0.000013  1.000000\n"
     ]
    }
   ],
   "source": [
    "import scikit_posthocs\n",
    "\n",
    "df1['store'] = df1['store'].astype(str)\n",
    "print(scikit_posthocs.posthoc_scheffe(df1, val_col='satisfaction', group_col='store'))"
   ]
  },
  {
   "cell_type": "code",
   "execution_count": null,
   "metadata": {},
   "outputs": [],
   "source": []
  }
 ],
 "metadata": {
  "colab": {
   "provenance": []
  },
  "kernelspec": {
   "display_name": "Study",
   "language": "python",
   "name": "python3"
  },
  "language_info": {
   "codemirror_mode": {
    "name": "ipython",
    "version": 3
   },
   "file_extension": ".py",
   "mimetype": "text/x-python",
   "name": "python",
   "nbconvert_exporter": "python",
   "pygments_lexer": "ipython3",
   "version": "3.9.21"
  }
 },
 "nbformat": 4,
 "nbformat_minor": 0
}
