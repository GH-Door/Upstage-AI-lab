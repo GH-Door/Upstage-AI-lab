{
 "cells": [
  {
   "cell_type": "code",
   "execution_count": 1,
   "metadata": {
    "id": "8YgxEZ9RuYED"
   },
   "outputs": [],
   "source": [
    "import torch"
   ]
  },
  {
   "cell_type": "code",
   "execution_count": 2,
   "metadata": {
    "colab": {
     "base_uri": "https://localhost:8080/"
    },
    "executionInfo": {
     "elapsed": 287,
     "status": "ok",
     "timestamp": 1732724203159,
     "user": {
      "displayName": "Young-seok Oh",
      "userId": "17926101222666307705"
     },
     "user_tz": -540
    },
    "id": "cjjOqMJveiBP",
    "outputId": "39a4d58d-1b27-4c0f-ced6-5e74c084893a"
   },
   "outputs": [
    {
     "name": "stdout",
     "output_type": "stream",
     "text": [
      "a = tensor(36.5000)\n"
     ]
    }
   ],
   "source": [
    "# 0-D Tensor(=Scalar)의 코드 표현 실습\n",
    "\n",
    "a = torch.tensor(36.5)\n",
    "print('a =', a)"
   ]
  },
  {
   "cell_type": "code",
   "execution_count": 3,
   "metadata": {
    "colab": {
     "base_uri": "https://localhost:8080/"
    },
    "executionInfo": {
     "elapsed": 289,
     "status": "ok",
     "timestamp": 1732724205481,
     "user": {
      "displayName": "Young-seok Oh",
      "userId": "17926101222666307705"
     },
     "user_tz": -540
    },
    "id": "6s43P3rOfaAX",
    "outputId": "0a9e919f-a088-46f7-cd89-97cb79c6d364"
   },
   "outputs": [
    {
     "name": "stdout",
     "output_type": "stream",
     "text": [
      "b =  tensor([175.0000,  60.0000,  81.0000,   0.8000,   0.9000])\n"
     ]
    }
   ],
   "source": [
    "# 1-D Tensor(=Vector)의 코드 표현 실습\n",
    "\n",
    "b = torch.tensor([175, 60, 81, 0.8, 0.9])\n",
    "print('b = ', b)"
   ]
  },
  {
   "cell_type": "code",
   "execution_count": 4,
   "metadata": {
    "colab": {
     "base_uri": "https://localhost:8080/"
    },
    "executionInfo": {
     "elapsed": 279,
     "status": "ok",
     "timestamp": 1732724206969,
     "user": {
      "displayName": "Young-seok Oh",
      "userId": "17926101222666307705"
     },
     "user_tz": -540
    },
    "id": "YI_7WUTcfwo1",
    "outputId": "91165e60-2b01-47bf-e6e4-0ac70c3487ad"
   },
   "outputs": [
    {
     "name": "stdout",
     "output_type": "stream",
     "text": [
      "c =  tensor([[ 77, 114, 140, 191],\n",
      "        [ 39,  56,  46, 119],\n",
      "        [ 61,  29,  20,  33]])\n"
     ]
    }
   ],
   "source": [
    "# 2-D Tensor(=Matrix)의 코드 표현 실습\n",
    "\n",
    "c = torch.tensor([[77, 114, 140, 191],\n",
    "                  [39, 56, 46, 119],\n",
    "                  [61, 29, 20, 33]])\n",
    "print('c = ', c)"
   ]
  },
  {
   "cell_type": "code",
   "execution_count": null,
   "metadata": {},
   "outputs": [],
   "source": []
  }
 ],
 "metadata": {
  "colab": {
   "gpuType": "T4",
   "provenance": [
    {
     "file_id": "1_eDTABCwpp-IISbDT8Y1FjL2FeHKKBoR",
     "timestamp": 1717898508771
    }
   ]
  },
  "kernelspec": {
   "display_name": "ds_study",
   "language": "python",
   "name": "python3"
  },
  "language_info": {
   "codemirror_mode": {
    "name": "ipython",
    "version": 3
   },
   "file_extension": ".py",
   "mimetype": "text/x-python",
   "name": "python",
   "nbconvert_exporter": "python",
   "pygments_lexer": "ipython3",
   "version": "3.8.19"
  }
 },
 "nbformat": 4,
 "nbformat_minor": 0
}
